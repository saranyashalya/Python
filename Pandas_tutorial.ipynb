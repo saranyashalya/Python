{
 "cells": [
  {
   "cell_type": "code",
   "execution_count": 2,
   "metadata": {},
   "outputs": [],
   "source": [
    "import pandas as pd\n",
    "import numpy as np"
   ]
  },
  {
   "cell_type": "code",
   "execution_count": 2,
   "metadata": {},
   "outputs": [],
   "source": [
    "#creating series\n",
    "s = pd.Series([1,2,3,np.nan,5])"
   ]
  },
  {
   "cell_type": "code",
   "execution_count": 3,
   "metadata": {},
   "outputs": [
    {
     "data": {
      "text/plain": [
       "0    1.0\n",
       "1    2.0\n",
       "2    3.0\n",
       "3    NaN\n",
       "4    5.0\n",
       "dtype: float64"
      ]
     },
     "execution_count": 3,
     "metadata": {},
     "output_type": "execute_result"
    }
   ],
   "source": [
    "s"
   ]
  },
  {
   "cell_type": "code",
   "execution_count": 13,
   "metadata": {},
   "outputs": [],
   "source": [
    "#creating df\n",
    "\n",
    "dates = pd.date_range('2019-01-01', periods=6)"
   ]
  },
  {
   "cell_type": "code",
   "execution_count": 14,
   "metadata": {},
   "outputs": [
    {
     "data": {
      "text/plain": [
       "DatetimeIndex(['2019-01-01', '2019-01-02', '2019-01-03', '2019-01-04',\n",
       "               '2019-01-05', '2019-01-06'],\n",
       "              dtype='datetime64[ns]', freq='D')"
      ]
     },
     "execution_count": 14,
     "metadata": {},
     "output_type": "execute_result"
    }
   ],
   "source": [
    "dates"
   ]
  },
  {
   "cell_type": "code",
   "execution_count": 15,
   "metadata": {},
   "outputs": [],
   "source": [
    "df = pd.DataFrame(np.random.randn(6,4), index = dates, columns = list('ABCD'))"
   ]
  },
  {
   "cell_type": "code",
   "execution_count": 16,
   "metadata": {},
   "outputs": [
    {
     "data": {
      "text/html": [
       "<div>\n",
       "<style scoped>\n",
       "    .dataframe tbody tr th:only-of-type {\n",
       "        vertical-align: middle;\n",
       "    }\n",
       "\n",
       "    .dataframe tbody tr th {\n",
       "        vertical-align: top;\n",
       "    }\n",
       "\n",
       "    .dataframe thead th {\n",
       "        text-align: right;\n",
       "    }\n",
       "</style>\n",
       "<table border=\"1\" class=\"dataframe\">\n",
       "  <thead>\n",
       "    <tr style=\"text-align: right;\">\n",
       "      <th></th>\n",
       "      <th>A</th>\n",
       "      <th>B</th>\n",
       "      <th>C</th>\n",
       "      <th>D</th>\n",
       "    </tr>\n",
       "  </thead>\n",
       "  <tbody>\n",
       "    <tr>\n",
       "      <th>2019-01-01</th>\n",
       "      <td>-0.467840</td>\n",
       "      <td>0.117162</td>\n",
       "      <td>0.112735</td>\n",
       "      <td>-0.160120</td>\n",
       "    </tr>\n",
       "    <tr>\n",
       "      <th>2019-01-02</th>\n",
       "      <td>0.323334</td>\n",
       "      <td>-0.449775</td>\n",
       "      <td>0.172390</td>\n",
       "      <td>1.745740</td>\n",
       "    </tr>\n",
       "    <tr>\n",
       "      <th>2019-01-03</th>\n",
       "      <td>0.983219</td>\n",
       "      <td>1.132349</td>\n",
       "      <td>0.327773</td>\n",
       "      <td>-1.193833</td>\n",
       "    </tr>\n",
       "    <tr>\n",
       "      <th>2019-01-04</th>\n",
       "      <td>-1.100011</td>\n",
       "      <td>-1.036091</td>\n",
       "      <td>0.252313</td>\n",
       "      <td>-0.559588</td>\n",
       "    </tr>\n",
       "    <tr>\n",
       "      <th>2019-01-05</th>\n",
       "      <td>1.541812</td>\n",
       "      <td>-0.403155</td>\n",
       "      <td>-0.102367</td>\n",
       "      <td>-0.427502</td>\n",
       "    </tr>\n",
       "    <tr>\n",
       "      <th>2019-01-06</th>\n",
       "      <td>-2.386912</td>\n",
       "      <td>0.212977</td>\n",
       "      <td>0.245976</td>\n",
       "      <td>-0.120291</td>\n",
       "    </tr>\n",
       "  </tbody>\n",
       "</table>\n",
       "</div>"
      ],
      "text/plain": [
       "                   A         B         C         D\n",
       "2019-01-01 -0.467840  0.117162  0.112735 -0.160120\n",
       "2019-01-02  0.323334 -0.449775  0.172390  1.745740\n",
       "2019-01-03  0.983219  1.132349  0.327773 -1.193833\n",
       "2019-01-04 -1.100011 -1.036091  0.252313 -0.559588\n",
       "2019-01-05  1.541812 -0.403155 -0.102367 -0.427502\n",
       "2019-01-06 -2.386912  0.212977  0.245976 -0.120291"
      ]
     },
     "execution_count": 16,
     "metadata": {},
     "output_type": "execute_result"
    }
   ],
   "source": [
    "df"
   ]
  },
  {
   "cell_type": "code",
   "execution_count": 24,
   "metadata": {},
   "outputs": [],
   "source": [
    "df2 = pd.DataFrame({'A': 1.,\n",
    "                  'B' : pd.Timestamp('20190101'),\n",
    "                  'C' : pd.Series(1,index=list(range(4)), dtype='float32'),\n",
    "                  'D': pd.Categorical(['test','train','test','train']),\n",
    "                  'E': 'foo',\n",
    "                  'F': np.array([3]*4, dtype='int32')})"
   ]
  },
  {
   "cell_type": "code",
   "execution_count": 25,
   "metadata": {},
   "outputs": [
    {
     "data": {
      "text/html": [
       "<div>\n",
       "<style scoped>\n",
       "    .dataframe tbody tr th:only-of-type {\n",
       "        vertical-align: middle;\n",
       "    }\n",
       "\n",
       "    .dataframe tbody tr th {\n",
       "        vertical-align: top;\n",
       "    }\n",
       "\n",
       "    .dataframe thead th {\n",
       "        text-align: right;\n",
       "    }\n",
       "</style>\n",
       "<table border=\"1\" class=\"dataframe\">\n",
       "  <thead>\n",
       "    <tr style=\"text-align: right;\">\n",
       "      <th></th>\n",
       "      <th>A</th>\n",
       "      <th>B</th>\n",
       "      <th>C</th>\n",
       "      <th>D</th>\n",
       "      <th>E</th>\n",
       "      <th>F</th>\n",
       "    </tr>\n",
       "  </thead>\n",
       "  <tbody>\n",
       "    <tr>\n",
       "      <th>0</th>\n",
       "      <td>1.0</td>\n",
       "      <td>2019-01-01</td>\n",
       "      <td>1.0</td>\n",
       "      <td>test</td>\n",
       "      <td>foo</td>\n",
       "      <td>3</td>\n",
       "    </tr>\n",
       "    <tr>\n",
       "      <th>1</th>\n",
       "      <td>1.0</td>\n",
       "      <td>2019-01-01</td>\n",
       "      <td>1.0</td>\n",
       "      <td>train</td>\n",
       "      <td>foo</td>\n",
       "      <td>3</td>\n",
       "    </tr>\n",
       "    <tr>\n",
       "      <th>2</th>\n",
       "      <td>1.0</td>\n",
       "      <td>2019-01-01</td>\n",
       "      <td>1.0</td>\n",
       "      <td>test</td>\n",
       "      <td>foo</td>\n",
       "      <td>3</td>\n",
       "    </tr>\n",
       "    <tr>\n",
       "      <th>3</th>\n",
       "      <td>1.0</td>\n",
       "      <td>2019-01-01</td>\n",
       "      <td>1.0</td>\n",
       "      <td>train</td>\n",
       "      <td>foo</td>\n",
       "      <td>3</td>\n",
       "    </tr>\n",
       "  </tbody>\n",
       "</table>\n",
       "</div>"
      ],
      "text/plain": [
       "     A          B    C      D    E  F\n",
       "0  1.0 2019-01-01  1.0   test  foo  3\n",
       "1  1.0 2019-01-01  1.0  train  foo  3\n",
       "2  1.0 2019-01-01  1.0   test  foo  3\n",
       "3  1.0 2019-01-01  1.0  train  foo  3"
      ]
     },
     "execution_count": 25,
     "metadata": {},
     "output_type": "execute_result"
    }
   ],
   "source": [
    "df2"
   ]
  },
  {
   "cell_type": "code",
   "execution_count": 26,
   "metadata": {},
   "outputs": [
    {
     "data": {
      "text/plain": [
       "A           float64\n",
       "B    datetime64[ns]\n",
       "C           float32\n",
       "D          category\n",
       "E            object\n",
       "F             int32\n",
       "dtype: object"
      ]
     },
     "execution_count": 26,
     "metadata": {},
     "output_type": "execute_result"
    }
   ],
   "source": [
    "df2.dtypes"
   ]
  },
  {
   "cell_type": "code",
   "execution_count": 27,
   "metadata": {},
   "outputs": [
    {
     "data": {
      "text/html": [
       "<div>\n",
       "<style scoped>\n",
       "    .dataframe tbody tr th:only-of-type {\n",
       "        vertical-align: middle;\n",
       "    }\n",
       "\n",
       "    .dataframe tbody tr th {\n",
       "        vertical-align: top;\n",
       "    }\n",
       "\n",
       "    .dataframe thead th {\n",
       "        text-align: right;\n",
       "    }\n",
       "</style>\n",
       "<table border=\"1\" class=\"dataframe\">\n",
       "  <thead>\n",
       "    <tr style=\"text-align: right;\">\n",
       "      <th></th>\n",
       "      <th>A</th>\n",
       "      <th>B</th>\n",
       "      <th>C</th>\n",
       "      <th>D</th>\n",
       "      <th>E</th>\n",
       "      <th>F</th>\n",
       "    </tr>\n",
       "  </thead>\n",
       "  <tbody>\n",
       "    <tr>\n",
       "      <th>1</th>\n",
       "      <td>1.0</td>\n",
       "      <td>2019-01-01</td>\n",
       "      <td>1.0</td>\n",
       "      <td>train</td>\n",
       "      <td>foo</td>\n",
       "      <td>3</td>\n",
       "    </tr>\n",
       "    <tr>\n",
       "      <th>2</th>\n",
       "      <td>1.0</td>\n",
       "      <td>2019-01-01</td>\n",
       "      <td>1.0</td>\n",
       "      <td>test</td>\n",
       "      <td>foo</td>\n",
       "      <td>3</td>\n",
       "    </tr>\n",
       "    <tr>\n",
       "      <th>3</th>\n",
       "      <td>1.0</td>\n",
       "      <td>2019-01-01</td>\n",
       "      <td>1.0</td>\n",
       "      <td>train</td>\n",
       "      <td>foo</td>\n",
       "      <td>3</td>\n",
       "    </tr>\n",
       "  </tbody>\n",
       "</table>\n",
       "</div>"
      ],
      "text/plain": [
       "     A          B    C      D    E  F\n",
       "1  1.0 2019-01-01  1.0  train  foo  3\n",
       "2  1.0 2019-01-01  1.0   test  foo  3\n",
       "3  1.0 2019-01-01  1.0  train  foo  3"
      ]
     },
     "execution_count": 27,
     "metadata": {},
     "output_type": "execute_result"
    }
   ],
   "source": [
    "df2.tail(3)"
   ]
  },
  {
   "cell_type": "code",
   "execution_count": 29,
   "metadata": {},
   "outputs": [
    {
     "data": {
      "text/plain": [
       "Int64Index([0, 1, 2, 3], dtype='int64')"
      ]
     },
     "execution_count": 29,
     "metadata": {},
     "output_type": "execute_result"
    }
   ],
   "source": [
    "df2.index"
   ]
  },
  {
   "cell_type": "code",
   "execution_count": 30,
   "metadata": {},
   "outputs": [
    {
     "data": {
      "text/plain": [
       "Index(['A', 'B', 'C', 'D', 'E', 'F'], dtype='object')"
      ]
     },
     "execution_count": 30,
     "metadata": {},
     "output_type": "execute_result"
    }
   ],
   "source": [
    "df2.columns"
   ]
  },
  {
   "cell_type": "code",
   "execution_count": 31,
   "metadata": {},
   "outputs": [
    {
     "data": {
      "text/plain": [
       "array([[-0.46783976,  0.11716196,  0.11273507, -0.1601204 ],\n",
       "       [ 0.32333371, -0.44977472,  0.17239033,  1.74573966],\n",
       "       [ 0.98321931,  1.13234947,  0.32777303, -1.19383294],\n",
       "       [-1.10001052, -1.03609069,  0.25231274, -0.55958807],\n",
       "       [ 1.54181195, -0.40315478, -0.10236661, -0.42750181],\n",
       "       [-2.38691163,  0.21297702,  0.24597629, -0.12029082]])"
      ]
     },
     "execution_count": 31,
     "metadata": {},
     "output_type": "execute_result"
    }
   ],
   "source": [
    "df.to_numpy()"
   ]
  },
  {
   "cell_type": "code",
   "execution_count": 32,
   "metadata": {},
   "outputs": [
    {
     "data": {
      "text/plain": [
       "array([[1.0, Timestamp('2019-01-01 00:00:00'), 1.0, 'test', 'foo', 3],\n",
       "       [1.0, Timestamp('2019-01-01 00:00:00'), 1.0, 'train', 'foo', 3],\n",
       "       [1.0, Timestamp('2019-01-01 00:00:00'), 1.0, 'test', 'foo', 3],\n",
       "       [1.0, Timestamp('2019-01-01 00:00:00'), 1.0, 'train', 'foo', 3]],\n",
       "      dtype=object)"
      ]
     },
     "execution_count": 32,
     "metadata": {},
     "output_type": "execute_result"
    }
   ],
   "source": [
    "df2.to_numpy()"
   ]
  },
  {
   "cell_type": "code",
   "execution_count": 33,
   "metadata": {},
   "outputs": [
    {
     "data": {
      "text/html": [
       "<div>\n",
       "<style scoped>\n",
       "    .dataframe tbody tr th:only-of-type {\n",
       "        vertical-align: middle;\n",
       "    }\n",
       "\n",
       "    .dataframe tbody tr th {\n",
       "        vertical-align: top;\n",
       "    }\n",
       "\n",
       "    .dataframe thead th {\n",
       "        text-align: right;\n",
       "    }\n",
       "</style>\n",
       "<table border=\"1\" class=\"dataframe\">\n",
       "  <thead>\n",
       "    <tr style=\"text-align: right;\">\n",
       "      <th></th>\n",
       "      <th>A</th>\n",
       "      <th>B</th>\n",
       "      <th>C</th>\n",
       "      <th>D</th>\n",
       "    </tr>\n",
       "  </thead>\n",
       "  <tbody>\n",
       "    <tr>\n",
       "      <th>count</th>\n",
       "      <td>6.000000</td>\n",
       "      <td>6.000000</td>\n",
       "      <td>6.000000</td>\n",
       "      <td>6.000000</td>\n",
       "    </tr>\n",
       "    <tr>\n",
       "      <th>mean</th>\n",
       "      <td>-0.184399</td>\n",
       "      <td>-0.071089</td>\n",
       "      <td>0.168137</td>\n",
       "      <td>-0.119266</td>\n",
       "    </tr>\n",
       "    <tr>\n",
       "      <th>std</th>\n",
       "      <td>1.440186</td>\n",
       "      <td>0.741525</td>\n",
       "      <td>0.151584</td>\n",
       "      <td>0.992321</td>\n",
       "    </tr>\n",
       "    <tr>\n",
       "      <th>min</th>\n",
       "      <td>-2.386912</td>\n",
       "      <td>-1.036091</td>\n",
       "      <td>-0.102367</td>\n",
       "      <td>-1.193833</td>\n",
       "    </tr>\n",
       "    <tr>\n",
       "      <th>25%</th>\n",
       "      <td>-0.941968</td>\n",
       "      <td>-0.438120</td>\n",
       "      <td>0.127649</td>\n",
       "      <td>-0.526567</td>\n",
       "    </tr>\n",
       "    <tr>\n",
       "      <th>50%</th>\n",
       "      <td>-0.072253</td>\n",
       "      <td>-0.142996</td>\n",
       "      <td>0.209183</td>\n",
       "      <td>-0.293811</td>\n",
       "    </tr>\n",
       "    <tr>\n",
       "      <th>75%</th>\n",
       "      <td>0.818248</td>\n",
       "      <td>0.189023</td>\n",
       "      <td>0.250729</td>\n",
       "      <td>-0.130248</td>\n",
       "    </tr>\n",
       "    <tr>\n",
       "      <th>max</th>\n",
       "      <td>1.541812</td>\n",
       "      <td>1.132349</td>\n",
       "      <td>0.327773</td>\n",
       "      <td>1.745740</td>\n",
       "    </tr>\n",
       "  </tbody>\n",
       "</table>\n",
       "</div>"
      ],
      "text/plain": [
       "              A         B         C         D\n",
       "count  6.000000  6.000000  6.000000  6.000000\n",
       "mean  -0.184399 -0.071089  0.168137 -0.119266\n",
       "std    1.440186  0.741525  0.151584  0.992321\n",
       "min   -2.386912 -1.036091 -0.102367 -1.193833\n",
       "25%   -0.941968 -0.438120  0.127649 -0.526567\n",
       "50%   -0.072253 -0.142996  0.209183 -0.293811\n",
       "75%    0.818248  0.189023  0.250729 -0.130248\n",
       "max    1.541812  1.132349  0.327773  1.745740"
      ]
     },
     "execution_count": 33,
     "metadata": {},
     "output_type": "execute_result"
    }
   ],
   "source": [
    "df.describe()"
   ]
  },
  {
   "cell_type": "code",
   "execution_count": 34,
   "metadata": {},
   "outputs": [
    {
     "data": {
      "text/html": [
       "<div>\n",
       "<style scoped>\n",
       "    .dataframe tbody tr th:only-of-type {\n",
       "        vertical-align: middle;\n",
       "    }\n",
       "\n",
       "    .dataframe tbody tr th {\n",
       "        vertical-align: top;\n",
       "    }\n",
       "\n",
       "    .dataframe thead th {\n",
       "        text-align: right;\n",
       "    }\n",
       "</style>\n",
       "<table border=\"1\" class=\"dataframe\">\n",
       "  <thead>\n",
       "    <tr style=\"text-align: right;\">\n",
       "      <th></th>\n",
       "      <th>2019-01-01 00:00:00</th>\n",
       "      <th>2019-01-02 00:00:00</th>\n",
       "      <th>2019-01-03 00:00:00</th>\n",
       "      <th>2019-01-04 00:00:00</th>\n",
       "      <th>2019-01-05 00:00:00</th>\n",
       "      <th>2019-01-06 00:00:00</th>\n",
       "    </tr>\n",
       "  </thead>\n",
       "  <tbody>\n",
       "    <tr>\n",
       "      <th>A</th>\n",
       "      <td>-0.467840</td>\n",
       "      <td>0.323334</td>\n",
       "      <td>0.983219</td>\n",
       "      <td>-1.100011</td>\n",
       "      <td>1.541812</td>\n",
       "      <td>-2.386912</td>\n",
       "    </tr>\n",
       "    <tr>\n",
       "      <th>B</th>\n",
       "      <td>0.117162</td>\n",
       "      <td>-0.449775</td>\n",
       "      <td>1.132349</td>\n",
       "      <td>-1.036091</td>\n",
       "      <td>-0.403155</td>\n",
       "      <td>0.212977</td>\n",
       "    </tr>\n",
       "    <tr>\n",
       "      <th>C</th>\n",
       "      <td>0.112735</td>\n",
       "      <td>0.172390</td>\n",
       "      <td>0.327773</td>\n",
       "      <td>0.252313</td>\n",
       "      <td>-0.102367</td>\n",
       "      <td>0.245976</td>\n",
       "    </tr>\n",
       "    <tr>\n",
       "      <th>D</th>\n",
       "      <td>-0.160120</td>\n",
       "      <td>1.745740</td>\n",
       "      <td>-1.193833</td>\n",
       "      <td>-0.559588</td>\n",
       "      <td>-0.427502</td>\n",
       "      <td>-0.120291</td>\n",
       "    </tr>\n",
       "  </tbody>\n",
       "</table>\n",
       "</div>"
      ],
      "text/plain": [
       "   2019-01-01  2019-01-02  2019-01-03  2019-01-04  2019-01-05  2019-01-06\n",
       "A   -0.467840    0.323334    0.983219   -1.100011    1.541812   -2.386912\n",
       "B    0.117162   -0.449775    1.132349   -1.036091   -0.403155    0.212977\n",
       "C    0.112735    0.172390    0.327773    0.252313   -0.102367    0.245976\n",
       "D   -0.160120    1.745740   -1.193833   -0.559588   -0.427502   -0.120291"
      ]
     },
     "execution_count": 34,
     "metadata": {},
     "output_type": "execute_result"
    }
   ],
   "source": [
    "df.T"
   ]
  },
  {
   "cell_type": "code",
   "execution_count": 38,
   "metadata": {},
   "outputs": [
    {
     "data": {
      "text/html": [
       "<div>\n",
       "<style scoped>\n",
       "    .dataframe tbody tr th:only-of-type {\n",
       "        vertical-align: middle;\n",
       "    }\n",
       "\n",
       "    .dataframe tbody tr th {\n",
       "        vertical-align: top;\n",
       "    }\n",
       "\n",
       "    .dataframe thead th {\n",
       "        text-align: right;\n",
       "    }\n",
       "</style>\n",
       "<table border=\"1\" class=\"dataframe\">\n",
       "  <thead>\n",
       "    <tr style=\"text-align: right;\">\n",
       "      <th></th>\n",
       "      <th>A</th>\n",
       "      <th>B</th>\n",
       "      <th>C</th>\n",
       "      <th>D</th>\n",
       "    </tr>\n",
       "  </thead>\n",
       "  <tbody>\n",
       "    <tr>\n",
       "      <th>2019-01-05</th>\n",
       "      <td>1.541812</td>\n",
       "      <td>-0.403155</td>\n",
       "      <td>-0.102367</td>\n",
       "      <td>-0.427502</td>\n",
       "    </tr>\n",
       "    <tr>\n",
       "      <th>2019-01-01</th>\n",
       "      <td>-0.467840</td>\n",
       "      <td>0.117162</td>\n",
       "      <td>0.112735</td>\n",
       "      <td>-0.160120</td>\n",
       "    </tr>\n",
       "    <tr>\n",
       "      <th>2019-01-02</th>\n",
       "      <td>0.323334</td>\n",
       "      <td>-0.449775</td>\n",
       "      <td>0.172390</td>\n",
       "      <td>1.745740</td>\n",
       "    </tr>\n",
       "    <tr>\n",
       "      <th>2019-01-06</th>\n",
       "      <td>-2.386912</td>\n",
       "      <td>0.212977</td>\n",
       "      <td>0.245976</td>\n",
       "      <td>-0.120291</td>\n",
       "    </tr>\n",
       "    <tr>\n",
       "      <th>2019-01-04</th>\n",
       "      <td>-1.100011</td>\n",
       "      <td>-1.036091</td>\n",
       "      <td>0.252313</td>\n",
       "      <td>-0.559588</td>\n",
       "    </tr>\n",
       "    <tr>\n",
       "      <th>2019-01-03</th>\n",
       "      <td>0.983219</td>\n",
       "      <td>1.132349</td>\n",
       "      <td>0.327773</td>\n",
       "      <td>-1.193833</td>\n",
       "    </tr>\n",
       "  </tbody>\n",
       "</table>\n",
       "</div>"
      ],
      "text/plain": [
       "                   A         B         C         D\n",
       "2019-01-05  1.541812 -0.403155 -0.102367 -0.427502\n",
       "2019-01-01 -0.467840  0.117162  0.112735 -0.160120\n",
       "2019-01-02  0.323334 -0.449775  0.172390  1.745740\n",
       "2019-01-06 -2.386912  0.212977  0.245976 -0.120291\n",
       "2019-01-04 -1.100011 -1.036091  0.252313 -0.559588\n",
       "2019-01-03  0.983219  1.132349  0.327773 -1.193833"
      ]
     },
     "execution_count": 38,
     "metadata": {},
     "output_type": "execute_result"
    }
   ],
   "source": [
    "df.sort_values('C')"
   ]
  },
  {
   "cell_type": "code",
   "execution_count": 39,
   "metadata": {},
   "outputs": [
    {
     "data": {
      "text/plain": [
       "2019-01-01   -0.467840\n",
       "2019-01-02    0.323334\n",
       "2019-01-03    0.983219\n",
       "2019-01-04   -1.100011\n",
       "2019-01-05    1.541812\n",
       "2019-01-06   -2.386912\n",
       "Freq: D, Name: A, dtype: float64"
      ]
     },
     "execution_count": 39,
     "metadata": {},
     "output_type": "execute_result"
    }
   ],
   "source": [
    "df['A']"
   ]
  },
  {
   "cell_type": "code",
   "execution_count": 40,
   "metadata": {},
   "outputs": [
    {
     "data": {
      "text/plain": [
       "2019-01-01   -0.467840\n",
       "2019-01-02    0.323334\n",
       "2019-01-03    0.983219\n",
       "2019-01-04   -1.100011\n",
       "2019-01-05    1.541812\n",
       "2019-01-06   -2.386912\n",
       "Freq: D, Name: A, dtype: float64"
      ]
     },
     "execution_count": 40,
     "metadata": {},
     "output_type": "execute_result"
    }
   ],
   "source": [
    "df.A"
   ]
  },
  {
   "cell_type": "code",
   "execution_count": 42,
   "metadata": {},
   "outputs": [
    {
     "data": {
      "text/html": [
       "<div>\n",
       "<style scoped>\n",
       "    .dataframe tbody tr th:only-of-type {\n",
       "        vertical-align: middle;\n",
       "    }\n",
       "\n",
       "    .dataframe tbody tr th {\n",
       "        vertical-align: top;\n",
       "    }\n",
       "\n",
       "    .dataframe thead th {\n",
       "        text-align: right;\n",
       "    }\n",
       "</style>\n",
       "<table border=\"1\" class=\"dataframe\">\n",
       "  <thead>\n",
       "    <tr style=\"text-align: right;\">\n",
       "      <th></th>\n",
       "      <th>A</th>\n",
       "      <th>B</th>\n",
       "      <th>C</th>\n",
       "      <th>D</th>\n",
       "    </tr>\n",
       "  </thead>\n",
       "  <tbody>\n",
       "    <tr>\n",
       "      <th>2019-01-03</th>\n",
       "      <td>0.983219</td>\n",
       "      <td>1.132349</td>\n",
       "      <td>0.327773</td>\n",
       "      <td>-1.193833</td>\n",
       "    </tr>\n",
       "    <tr>\n",
       "      <th>2019-01-04</th>\n",
       "      <td>-1.100011</td>\n",
       "      <td>-1.036091</td>\n",
       "      <td>0.252313</td>\n",
       "      <td>-0.559588</td>\n",
       "    </tr>\n",
       "  </tbody>\n",
       "</table>\n",
       "</div>"
      ],
      "text/plain": [
       "                   A         B         C         D\n",
       "2019-01-03  0.983219  1.132349  0.327773 -1.193833\n",
       "2019-01-04 -1.100011 -1.036091  0.252313 -0.559588"
      ]
     },
     "execution_count": 42,
     "metadata": {},
     "output_type": "execute_result"
    }
   ],
   "source": [
    "df[2:4]"
   ]
  },
  {
   "cell_type": "code",
   "execution_count": 43,
   "metadata": {},
   "outputs": [
    {
     "data": {
      "text/html": [
       "<div>\n",
       "<style scoped>\n",
       "    .dataframe tbody tr th:only-of-type {\n",
       "        vertical-align: middle;\n",
       "    }\n",
       "\n",
       "    .dataframe tbody tr th {\n",
       "        vertical-align: top;\n",
       "    }\n",
       "\n",
       "    .dataframe thead th {\n",
       "        text-align: right;\n",
       "    }\n",
       "</style>\n",
       "<table border=\"1\" class=\"dataframe\">\n",
       "  <thead>\n",
       "    <tr style=\"text-align: right;\">\n",
       "      <th></th>\n",
       "      <th>A</th>\n",
       "      <th>B</th>\n",
       "      <th>C</th>\n",
       "      <th>D</th>\n",
       "    </tr>\n",
       "  </thead>\n",
       "  <tbody>\n",
       "    <tr>\n",
       "      <th>2019-01-03</th>\n",
       "      <td>0.983219</td>\n",
       "      <td>1.132349</td>\n",
       "      <td>0.327773</td>\n",
       "      <td>-1.193833</td>\n",
       "    </tr>\n",
       "    <tr>\n",
       "      <th>2019-01-04</th>\n",
       "      <td>-1.100011</td>\n",
       "      <td>-1.036091</td>\n",
       "      <td>0.252313</td>\n",
       "      <td>-0.559588</td>\n",
       "    </tr>\n",
       "    <tr>\n",
       "      <th>2019-01-05</th>\n",
       "      <td>1.541812</td>\n",
       "      <td>-0.403155</td>\n",
       "      <td>-0.102367</td>\n",
       "      <td>-0.427502</td>\n",
       "    </tr>\n",
       "  </tbody>\n",
       "</table>\n",
       "</div>"
      ],
      "text/plain": [
       "                   A         B         C         D\n",
       "2019-01-03  0.983219  1.132349  0.327773 -1.193833\n",
       "2019-01-04 -1.100011 -1.036091  0.252313 -0.559588\n",
       "2019-01-05  1.541812 -0.403155 -0.102367 -0.427502"
      ]
     },
     "execution_count": 43,
     "metadata": {},
     "output_type": "execute_result"
    }
   ],
   "source": [
    "df['2019-01-03':'2019-01-05']"
   ]
  },
  {
   "cell_type": "code",
   "execution_count": 47,
   "metadata": {},
   "outputs": [
    {
     "data": {
      "text/plain": [
       "A   -0.467840\n",
       "B    0.117162\n",
       "C    0.112735\n",
       "D   -0.160120\n",
       "Name: 2019-01-01 00:00:00, dtype: float64"
      ]
     },
     "execution_count": 47,
     "metadata": {},
     "output_type": "execute_result"
    }
   ],
   "source": [
    "df.loc[dates[0]]"
   ]
  },
  {
   "cell_type": "code",
   "execution_count": 57,
   "metadata": {},
   "outputs": [
    {
     "data": {
      "text/html": [
       "<div>\n",
       "<style scoped>\n",
       "    .dataframe tbody tr th:only-of-type {\n",
       "        vertical-align: middle;\n",
       "    }\n",
       "\n",
       "    .dataframe tbody tr th {\n",
       "        vertical-align: top;\n",
       "    }\n",
       "\n",
       "    .dataframe thead th {\n",
       "        text-align: right;\n",
       "    }\n",
       "</style>\n",
       "<table border=\"1\" class=\"dataframe\">\n",
       "  <thead>\n",
       "    <tr style=\"text-align: right;\">\n",
       "      <th></th>\n",
       "      <th>A</th>\n",
       "      <th>B</th>\n",
       "    </tr>\n",
       "  </thead>\n",
       "  <tbody>\n",
       "    <tr>\n",
       "      <th>2019-01-01</th>\n",
       "      <td>-0.467840</td>\n",
       "      <td>0.117162</td>\n",
       "    </tr>\n",
       "    <tr>\n",
       "      <th>2019-01-02</th>\n",
       "      <td>0.323334</td>\n",
       "      <td>-0.449775</td>\n",
       "    </tr>\n",
       "    <tr>\n",
       "      <th>2019-01-03</th>\n",
       "      <td>0.983219</td>\n",
       "      <td>1.132349</td>\n",
       "    </tr>\n",
       "    <tr>\n",
       "      <th>2019-01-04</th>\n",
       "      <td>-1.100011</td>\n",
       "      <td>-1.036091</td>\n",
       "    </tr>\n",
       "    <tr>\n",
       "      <th>2019-01-05</th>\n",
       "      <td>1.541812</td>\n",
       "      <td>-0.403155</td>\n",
       "    </tr>\n",
       "    <tr>\n",
       "      <th>2019-01-06</th>\n",
       "      <td>-2.386912</td>\n",
       "      <td>0.212977</td>\n",
       "    </tr>\n",
       "  </tbody>\n",
       "</table>\n",
       "</div>"
      ],
      "text/plain": [
       "                   A         B\n",
       "2019-01-01 -0.467840  0.117162\n",
       "2019-01-02  0.323334 -0.449775\n",
       "2019-01-03  0.983219  1.132349\n",
       "2019-01-04 -1.100011 -1.036091\n",
       "2019-01-05  1.541812 -0.403155\n",
       "2019-01-06 -2.386912  0.212977"
      ]
     },
     "execution_count": 57,
     "metadata": {},
     "output_type": "execute_result"
    }
   ],
   "source": [
    "df.loc[:,['A','B']]"
   ]
  },
  {
   "cell_type": "code",
   "execution_count": 58,
   "metadata": {},
   "outputs": [
    {
     "data": {
      "text/html": [
       "<div>\n",
       "<style scoped>\n",
       "    .dataframe tbody tr th:only-of-type {\n",
       "        vertical-align: middle;\n",
       "    }\n",
       "\n",
       "    .dataframe tbody tr th {\n",
       "        vertical-align: top;\n",
       "    }\n",
       "\n",
       "    .dataframe thead th {\n",
       "        text-align: right;\n",
       "    }\n",
       "</style>\n",
       "<table border=\"1\" class=\"dataframe\">\n",
       "  <thead>\n",
       "    <tr style=\"text-align: right;\">\n",
       "      <th></th>\n",
       "      <th>C</th>\n",
       "      <th>D</th>\n",
       "    </tr>\n",
       "  </thead>\n",
       "  <tbody>\n",
       "    <tr>\n",
       "      <th>2019-01-01</th>\n",
       "      <td>0.112735</td>\n",
       "      <td>-0.16012</td>\n",
       "    </tr>\n",
       "    <tr>\n",
       "      <th>2019-01-02</th>\n",
       "      <td>0.172390</td>\n",
       "      <td>1.74574</td>\n",
       "    </tr>\n",
       "  </tbody>\n",
       "</table>\n",
       "</div>"
      ],
      "text/plain": [
       "                   C        D\n",
       "2019-01-01  0.112735 -0.16012\n",
       "2019-01-02  0.172390  1.74574"
      ]
     },
     "execution_count": 58,
     "metadata": {},
     "output_type": "execute_result"
    }
   ],
   "source": [
    "df.loc['2019-01-01':'2019-01-02',['C','D']]"
   ]
  },
  {
   "cell_type": "code",
   "execution_count": 78,
   "metadata": {},
   "outputs": [
    {
     "data": {
      "text/plain": [
       "-0.4678397577080641"
      ]
     },
     "execution_count": 78,
     "metadata": {},
     "output_type": "execute_result"
    }
   ],
   "source": [
    "df.loc[dates[0],'A']"
   ]
  },
  {
   "cell_type": "code",
   "execution_count": 76,
   "metadata": {},
   "outputs": [
    {
     "data": {
      "text/plain": [
       "-0.4678397577080641"
      ]
     },
     "execution_count": 76,
     "metadata": {},
     "output_type": "execute_result"
    }
   ],
   "source": [
    "df.at[dates[0],'A']"
   ]
  },
  {
   "cell_type": "code",
   "execution_count": 73,
   "metadata": {},
   "outputs": [
    {
     "data": {
      "text/plain": [
       "A   -0.467840\n",
       "B    0.117162\n",
       "Name: 2019-01-01 00:00:00, dtype: float64"
      ]
     },
     "execution_count": 73,
     "metadata": {},
     "output_type": "execute_result"
    }
   ],
   "source": [
    "df.loc['2019-01-01',['A','B']]"
   ]
  },
  {
   "cell_type": "code",
   "execution_count": 69,
   "metadata": {},
   "outputs": [
    {
     "data": {
      "text/plain": [
       "DatetimeIndex(['2019-01-01', '2019-01-02', '2019-01-03'], dtype='datetime64[ns]', freq='D')"
      ]
     },
     "execution_count": 69,
     "metadata": {},
     "output_type": "execute_result"
    }
   ],
   "source": [
    "dates[0:3]"
   ]
  },
  {
   "cell_type": "code",
   "execution_count": 79,
   "metadata": {},
   "outputs": [
    {
     "data": {
      "text/plain": [
       "A   -1.100011\n",
       "B   -1.036091\n",
       "C    0.252313\n",
       "D   -0.559588\n",
       "Name: 2019-01-04 00:00:00, dtype: float64"
      ]
     },
     "execution_count": 79,
     "metadata": {},
     "output_type": "execute_result"
    }
   ],
   "source": [
    "df.iloc[3]"
   ]
  },
  {
   "cell_type": "code",
   "execution_count": 81,
   "metadata": {},
   "outputs": [
    {
     "data": {
      "text/html": [
       "<div>\n",
       "<style scoped>\n",
       "    .dataframe tbody tr th:only-of-type {\n",
       "        vertical-align: middle;\n",
       "    }\n",
       "\n",
       "    .dataframe tbody tr th {\n",
       "        vertical-align: top;\n",
       "    }\n",
       "\n",
       "    .dataframe thead th {\n",
       "        text-align: right;\n",
       "    }\n",
       "</style>\n",
       "<table border=\"1\" class=\"dataframe\">\n",
       "  <thead>\n",
       "    <tr style=\"text-align: right;\">\n",
       "      <th></th>\n",
       "      <th>B</th>\n",
       "    </tr>\n",
       "  </thead>\n",
       "  <tbody>\n",
       "    <tr>\n",
       "      <th>2019-01-01</th>\n",
       "      <td>0.117162</td>\n",
       "    </tr>\n",
       "    <tr>\n",
       "      <th>2019-01-02</th>\n",
       "      <td>-0.449775</td>\n",
       "    </tr>\n",
       "    <tr>\n",
       "      <th>2019-01-03</th>\n",
       "      <td>1.132349</td>\n",
       "    </tr>\n",
       "  </tbody>\n",
       "</table>\n",
       "</div>"
      ],
      "text/plain": [
       "                   B\n",
       "2019-01-01  0.117162\n",
       "2019-01-02 -0.449775\n",
       "2019-01-03  1.132349"
      ]
     },
     "execution_count": 81,
     "metadata": {},
     "output_type": "execute_result"
    }
   ],
   "source": [
    "df.iloc[0:3,1:2]"
   ]
  },
  {
   "cell_type": "code",
   "execution_count": 83,
   "metadata": {},
   "outputs": [
    {
     "data": {
      "text/html": [
       "<div>\n",
       "<style scoped>\n",
       "    .dataframe tbody tr th:only-of-type {\n",
       "        vertical-align: middle;\n",
       "    }\n",
       "\n",
       "    .dataframe tbody tr th {\n",
       "        vertical-align: top;\n",
       "    }\n",
       "\n",
       "    .dataframe thead th {\n",
       "        text-align: right;\n",
       "    }\n",
       "</style>\n",
       "<table border=\"1\" class=\"dataframe\">\n",
       "  <thead>\n",
       "    <tr style=\"text-align: right;\">\n",
       "      <th></th>\n",
       "      <th>B</th>\n",
       "      <th>C</th>\n",
       "    </tr>\n",
       "  </thead>\n",
       "  <tbody>\n",
       "    <tr>\n",
       "      <th>2019-01-02</th>\n",
       "      <td>-0.449775</td>\n",
       "      <td>0.172390</td>\n",
       "    </tr>\n",
       "    <tr>\n",
       "      <th>2019-01-03</th>\n",
       "      <td>1.132349</td>\n",
       "      <td>0.327773</td>\n",
       "    </tr>\n",
       "    <tr>\n",
       "      <th>2019-01-05</th>\n",
       "      <td>-0.403155</td>\n",
       "      <td>-0.102367</td>\n",
       "    </tr>\n",
       "  </tbody>\n",
       "</table>\n",
       "</div>"
      ],
      "text/plain": [
       "                   B         C\n",
       "2019-01-02 -0.449775  0.172390\n",
       "2019-01-03  1.132349  0.327773\n",
       "2019-01-05 -0.403155 -0.102367"
      ]
     },
     "execution_count": 83,
     "metadata": {},
     "output_type": "execute_result"
    }
   ],
   "source": [
    "df.iloc[[1,2,4],[1,2]]"
   ]
  },
  {
   "cell_type": "code",
   "execution_count": 84,
   "metadata": {},
   "outputs": [
    {
     "data": {
      "text/html": [
       "<div>\n",
       "<style scoped>\n",
       "    .dataframe tbody tr th:only-of-type {\n",
       "        vertical-align: middle;\n",
       "    }\n",
       "\n",
       "    .dataframe tbody tr th {\n",
       "        vertical-align: top;\n",
       "    }\n",
       "\n",
       "    .dataframe thead th {\n",
       "        text-align: right;\n",
       "    }\n",
       "</style>\n",
       "<table border=\"1\" class=\"dataframe\">\n",
       "  <thead>\n",
       "    <tr style=\"text-align: right;\">\n",
       "      <th></th>\n",
       "      <th>A</th>\n",
       "      <th>B</th>\n",
       "      <th>C</th>\n",
       "      <th>D</th>\n",
       "    </tr>\n",
       "  </thead>\n",
       "  <tbody>\n",
       "    <tr>\n",
       "      <th>2019-01-02</th>\n",
       "      <td>0.323334</td>\n",
       "      <td>-0.449775</td>\n",
       "      <td>0.172390</td>\n",
       "      <td>1.745740</td>\n",
       "    </tr>\n",
       "    <tr>\n",
       "      <th>2019-01-03</th>\n",
       "      <td>0.983219</td>\n",
       "      <td>1.132349</td>\n",
       "      <td>0.327773</td>\n",
       "      <td>-1.193833</td>\n",
       "    </tr>\n",
       "  </tbody>\n",
       "</table>\n",
       "</div>"
      ],
      "text/plain": [
       "                   A         B         C         D\n",
       "2019-01-02  0.323334 -0.449775  0.172390  1.745740\n",
       "2019-01-03  0.983219  1.132349  0.327773 -1.193833"
      ]
     },
     "execution_count": 84,
     "metadata": {},
     "output_type": "execute_result"
    }
   ],
   "source": [
    "df.iloc[1:3,:]"
   ]
  },
  {
   "cell_type": "code",
   "execution_count": 85,
   "metadata": {},
   "outputs": [
    {
     "data": {
      "text/html": [
       "<div>\n",
       "<style scoped>\n",
       "    .dataframe tbody tr th:only-of-type {\n",
       "        vertical-align: middle;\n",
       "    }\n",
       "\n",
       "    .dataframe tbody tr th {\n",
       "        vertical-align: top;\n",
       "    }\n",
       "\n",
       "    .dataframe thead th {\n",
       "        text-align: right;\n",
       "    }\n",
       "</style>\n",
       "<table border=\"1\" class=\"dataframe\">\n",
       "  <thead>\n",
       "    <tr style=\"text-align: right;\">\n",
       "      <th></th>\n",
       "      <th>B</th>\n",
       "    </tr>\n",
       "  </thead>\n",
       "  <tbody>\n",
       "    <tr>\n",
       "      <th>2019-01-01</th>\n",
       "      <td>0.117162</td>\n",
       "    </tr>\n",
       "    <tr>\n",
       "      <th>2019-01-02</th>\n",
       "      <td>-0.449775</td>\n",
       "    </tr>\n",
       "    <tr>\n",
       "      <th>2019-01-03</th>\n",
       "      <td>1.132349</td>\n",
       "    </tr>\n",
       "    <tr>\n",
       "      <th>2019-01-04</th>\n",
       "      <td>-1.036091</td>\n",
       "    </tr>\n",
       "    <tr>\n",
       "      <th>2019-01-05</th>\n",
       "      <td>-0.403155</td>\n",
       "    </tr>\n",
       "    <tr>\n",
       "      <th>2019-01-06</th>\n",
       "      <td>0.212977</td>\n",
       "    </tr>\n",
       "  </tbody>\n",
       "</table>\n",
       "</div>"
      ],
      "text/plain": [
       "                   B\n",
       "2019-01-01  0.117162\n",
       "2019-01-02 -0.449775\n",
       "2019-01-03  1.132349\n",
       "2019-01-04 -1.036091\n",
       "2019-01-05 -0.403155\n",
       "2019-01-06  0.212977"
      ]
     },
     "execution_count": 85,
     "metadata": {},
     "output_type": "execute_result"
    }
   ],
   "source": [
    "df.iloc[:,1:2]"
   ]
  },
  {
   "cell_type": "code",
   "execution_count": 86,
   "metadata": {},
   "outputs": [
    {
     "data": {
      "text/plain": [
       "-0.44977472157212156"
      ]
     },
     "execution_count": 86,
     "metadata": {},
     "output_type": "execute_result"
    }
   ],
   "source": [
    "df.iat[1,1]"
   ]
  },
  {
   "cell_type": "code",
   "execution_count": 88,
   "metadata": {},
   "outputs": [
    {
     "data": {
      "text/html": [
       "<div>\n",
       "<style scoped>\n",
       "    .dataframe tbody tr th:only-of-type {\n",
       "        vertical-align: middle;\n",
       "    }\n",
       "\n",
       "    .dataframe tbody tr th {\n",
       "        vertical-align: top;\n",
       "    }\n",
       "\n",
       "    .dataframe thead th {\n",
       "        text-align: right;\n",
       "    }\n",
       "</style>\n",
       "<table border=\"1\" class=\"dataframe\">\n",
       "  <thead>\n",
       "    <tr style=\"text-align: right;\">\n",
       "      <th></th>\n",
       "      <th>A</th>\n",
       "      <th>B</th>\n",
       "      <th>C</th>\n",
       "      <th>D</th>\n",
       "    </tr>\n",
       "  </thead>\n",
       "  <tbody>\n",
       "    <tr>\n",
       "      <th>2019-01-02</th>\n",
       "      <td>0.323334</td>\n",
       "      <td>-0.449775</td>\n",
       "      <td>0.172390</td>\n",
       "      <td>1.745740</td>\n",
       "    </tr>\n",
       "    <tr>\n",
       "      <th>2019-01-04</th>\n",
       "      <td>-1.100011</td>\n",
       "      <td>-1.036091</td>\n",
       "      <td>0.252313</td>\n",
       "      <td>-0.559588</td>\n",
       "    </tr>\n",
       "    <tr>\n",
       "      <th>2019-01-05</th>\n",
       "      <td>1.541812</td>\n",
       "      <td>-0.403155</td>\n",
       "      <td>-0.102367</td>\n",
       "      <td>-0.427502</td>\n",
       "    </tr>\n",
       "  </tbody>\n",
       "</table>\n",
       "</div>"
      ],
      "text/plain": [
       "                   A         B         C         D\n",
       "2019-01-02  0.323334 -0.449775  0.172390  1.745740\n",
       "2019-01-04 -1.100011 -1.036091  0.252313 -0.559588\n",
       "2019-01-05  1.541812 -0.403155 -0.102367 -0.427502"
      ]
     },
     "execution_count": 88,
     "metadata": {},
     "output_type": "execute_result"
    }
   ],
   "source": [
    "df[df.B<0]"
   ]
  },
  {
   "cell_type": "code",
   "execution_count": 89,
   "metadata": {},
   "outputs": [
    {
     "data": {
      "text/html": [
       "<div>\n",
       "<style scoped>\n",
       "    .dataframe tbody tr th:only-of-type {\n",
       "        vertical-align: middle;\n",
       "    }\n",
       "\n",
       "    .dataframe tbody tr th {\n",
       "        vertical-align: top;\n",
       "    }\n",
       "\n",
       "    .dataframe thead th {\n",
       "        text-align: right;\n",
       "    }\n",
       "</style>\n",
       "<table border=\"1\" class=\"dataframe\">\n",
       "  <thead>\n",
       "    <tr style=\"text-align: right;\">\n",
       "      <th></th>\n",
       "      <th>A</th>\n",
       "      <th>B</th>\n",
       "      <th>C</th>\n",
       "      <th>D</th>\n",
       "    </tr>\n",
       "  </thead>\n",
       "  <tbody>\n",
       "    <tr>\n",
       "      <th>2019-01-01</th>\n",
       "      <td>NaN</td>\n",
       "      <td>0.117162</td>\n",
       "      <td>0.112735</td>\n",
       "      <td>NaN</td>\n",
       "    </tr>\n",
       "    <tr>\n",
       "      <th>2019-01-02</th>\n",
       "      <td>0.323334</td>\n",
       "      <td>NaN</td>\n",
       "      <td>0.172390</td>\n",
       "      <td>1.74574</td>\n",
       "    </tr>\n",
       "    <tr>\n",
       "      <th>2019-01-03</th>\n",
       "      <td>0.983219</td>\n",
       "      <td>1.132349</td>\n",
       "      <td>0.327773</td>\n",
       "      <td>NaN</td>\n",
       "    </tr>\n",
       "    <tr>\n",
       "      <th>2019-01-04</th>\n",
       "      <td>NaN</td>\n",
       "      <td>NaN</td>\n",
       "      <td>0.252313</td>\n",
       "      <td>NaN</td>\n",
       "    </tr>\n",
       "    <tr>\n",
       "      <th>2019-01-05</th>\n",
       "      <td>1.541812</td>\n",
       "      <td>NaN</td>\n",
       "      <td>NaN</td>\n",
       "      <td>NaN</td>\n",
       "    </tr>\n",
       "    <tr>\n",
       "      <th>2019-01-06</th>\n",
       "      <td>NaN</td>\n",
       "      <td>0.212977</td>\n",
       "      <td>0.245976</td>\n",
       "      <td>NaN</td>\n",
       "    </tr>\n",
       "  </tbody>\n",
       "</table>\n",
       "</div>"
      ],
      "text/plain": [
       "                   A         B         C        D\n",
       "2019-01-01       NaN  0.117162  0.112735      NaN\n",
       "2019-01-02  0.323334       NaN  0.172390  1.74574\n",
       "2019-01-03  0.983219  1.132349  0.327773      NaN\n",
       "2019-01-04       NaN       NaN  0.252313      NaN\n",
       "2019-01-05  1.541812       NaN       NaN      NaN\n",
       "2019-01-06       NaN  0.212977  0.245976      NaN"
      ]
     },
     "execution_count": 89,
     "metadata": {},
     "output_type": "execute_result"
    }
   ],
   "source": [
    "df[df>0]"
   ]
  },
  {
   "cell_type": "code",
   "execution_count": 90,
   "metadata": {},
   "outputs": [],
   "source": [
    "##isin operator\n",
    "\n",
    "df3 = df.copy()\n"
   ]
  },
  {
   "cell_type": "code",
   "execution_count": 94,
   "metadata": {},
   "outputs": [
    {
     "data": {
      "text/html": [
       "<div>\n",
       "<style scoped>\n",
       "    .dataframe tbody tr th:only-of-type {\n",
       "        vertical-align: middle;\n",
       "    }\n",
       "\n",
       "    .dataframe tbody tr th {\n",
       "        vertical-align: top;\n",
       "    }\n",
       "\n",
       "    .dataframe thead th {\n",
       "        text-align: right;\n",
       "    }\n",
       "</style>\n",
       "<table border=\"1\" class=\"dataframe\">\n",
       "  <thead>\n",
       "    <tr style=\"text-align: right;\">\n",
       "      <th></th>\n",
       "      <th>A</th>\n",
       "      <th>B</th>\n",
       "      <th>C</th>\n",
       "      <th>D</th>\n",
       "    </tr>\n",
       "  </thead>\n",
       "  <tbody>\n",
       "    <tr>\n",
       "      <th>2019-01-01</th>\n",
       "      <td>-0.467840</td>\n",
       "      <td>0.117162</td>\n",
       "      <td>0.112735</td>\n",
       "      <td>-0.160120</td>\n",
       "    </tr>\n",
       "    <tr>\n",
       "      <th>2019-01-02</th>\n",
       "      <td>0.323334</td>\n",
       "      <td>-0.449775</td>\n",
       "      <td>0.172390</td>\n",
       "      <td>1.745740</td>\n",
       "    </tr>\n",
       "    <tr>\n",
       "      <th>2019-01-03</th>\n",
       "      <td>0.983219</td>\n",
       "      <td>1.132349</td>\n",
       "      <td>0.327773</td>\n",
       "      <td>-1.193833</td>\n",
       "    </tr>\n",
       "    <tr>\n",
       "      <th>2019-01-04</th>\n",
       "      <td>-1.100011</td>\n",
       "      <td>-1.036091</td>\n",
       "      <td>0.252313</td>\n",
       "      <td>-0.559588</td>\n",
       "    </tr>\n",
       "    <tr>\n",
       "      <th>2019-01-05</th>\n",
       "      <td>1.541812</td>\n",
       "      <td>-0.403155</td>\n",
       "      <td>-0.102367</td>\n",
       "      <td>-0.427502</td>\n",
       "    </tr>\n",
       "    <tr>\n",
       "      <th>2019-01-06</th>\n",
       "      <td>-2.386912</td>\n",
       "      <td>0.212977</td>\n",
       "      <td>0.245976</td>\n",
       "      <td>-0.120291</td>\n",
       "    </tr>\n",
       "  </tbody>\n",
       "</table>\n",
       "</div>"
      ],
      "text/plain": [
       "                   A         B         C         D\n",
       "2019-01-01 -0.467840  0.117162  0.112735 -0.160120\n",
       "2019-01-02  0.323334 -0.449775  0.172390  1.745740\n",
       "2019-01-03  0.983219  1.132349  0.327773 -1.193833\n",
       "2019-01-04 -1.100011 -1.036091  0.252313 -0.559588\n",
       "2019-01-05  1.541812 -0.403155 -0.102367 -0.427502\n",
       "2019-01-06 -2.386912  0.212977  0.245976 -0.120291"
      ]
     },
     "execution_count": 94,
     "metadata": {},
     "output_type": "execute_result"
    }
   ],
   "source": [
    "df3"
   ]
  },
  {
   "cell_type": "code",
   "execution_count": 95,
   "metadata": {},
   "outputs": [],
   "source": [
    "df3['E']= ['one','two','three','four','five','six']"
   ]
  },
  {
   "cell_type": "code",
   "execution_count": 96,
   "metadata": {},
   "outputs": [
    {
     "data": {
      "text/html": [
       "<div>\n",
       "<style scoped>\n",
       "    .dataframe tbody tr th:only-of-type {\n",
       "        vertical-align: middle;\n",
       "    }\n",
       "\n",
       "    .dataframe tbody tr th {\n",
       "        vertical-align: top;\n",
       "    }\n",
       "\n",
       "    .dataframe thead th {\n",
       "        text-align: right;\n",
       "    }\n",
       "</style>\n",
       "<table border=\"1\" class=\"dataframe\">\n",
       "  <thead>\n",
       "    <tr style=\"text-align: right;\">\n",
       "      <th></th>\n",
       "      <th>A</th>\n",
       "      <th>B</th>\n",
       "      <th>C</th>\n",
       "      <th>D</th>\n",
       "      <th>E</th>\n",
       "    </tr>\n",
       "  </thead>\n",
       "  <tbody>\n",
       "    <tr>\n",
       "      <th>2019-01-01</th>\n",
       "      <td>-0.467840</td>\n",
       "      <td>0.117162</td>\n",
       "      <td>0.112735</td>\n",
       "      <td>-0.160120</td>\n",
       "      <td>one</td>\n",
       "    </tr>\n",
       "    <tr>\n",
       "      <th>2019-01-02</th>\n",
       "      <td>0.323334</td>\n",
       "      <td>-0.449775</td>\n",
       "      <td>0.172390</td>\n",
       "      <td>1.745740</td>\n",
       "      <td>two</td>\n",
       "    </tr>\n",
       "    <tr>\n",
       "      <th>2019-01-03</th>\n",
       "      <td>0.983219</td>\n",
       "      <td>1.132349</td>\n",
       "      <td>0.327773</td>\n",
       "      <td>-1.193833</td>\n",
       "      <td>three</td>\n",
       "    </tr>\n",
       "    <tr>\n",
       "      <th>2019-01-04</th>\n",
       "      <td>-1.100011</td>\n",
       "      <td>-1.036091</td>\n",
       "      <td>0.252313</td>\n",
       "      <td>-0.559588</td>\n",
       "      <td>four</td>\n",
       "    </tr>\n",
       "    <tr>\n",
       "      <th>2019-01-05</th>\n",
       "      <td>1.541812</td>\n",
       "      <td>-0.403155</td>\n",
       "      <td>-0.102367</td>\n",
       "      <td>-0.427502</td>\n",
       "      <td>five</td>\n",
       "    </tr>\n",
       "    <tr>\n",
       "      <th>2019-01-06</th>\n",
       "      <td>-2.386912</td>\n",
       "      <td>0.212977</td>\n",
       "      <td>0.245976</td>\n",
       "      <td>-0.120291</td>\n",
       "      <td>six</td>\n",
       "    </tr>\n",
       "  </tbody>\n",
       "</table>\n",
       "</div>"
      ],
      "text/plain": [
       "                   A         B         C         D      E\n",
       "2019-01-01 -0.467840  0.117162  0.112735 -0.160120    one\n",
       "2019-01-02  0.323334 -0.449775  0.172390  1.745740    two\n",
       "2019-01-03  0.983219  1.132349  0.327773 -1.193833  three\n",
       "2019-01-04 -1.100011 -1.036091  0.252313 -0.559588   four\n",
       "2019-01-05  1.541812 -0.403155 -0.102367 -0.427502   five\n",
       "2019-01-06 -2.386912  0.212977  0.245976 -0.120291    six"
      ]
     },
     "execution_count": 96,
     "metadata": {},
     "output_type": "execute_result"
    }
   ],
   "source": [
    "df3"
   ]
  },
  {
   "cell_type": "code",
   "execution_count": 97,
   "metadata": {},
   "outputs": [
    {
     "data": {
      "text/html": [
       "<div>\n",
       "<style scoped>\n",
       "    .dataframe tbody tr th:only-of-type {\n",
       "        vertical-align: middle;\n",
       "    }\n",
       "\n",
       "    .dataframe tbody tr th {\n",
       "        vertical-align: top;\n",
       "    }\n",
       "\n",
       "    .dataframe thead th {\n",
       "        text-align: right;\n",
       "    }\n",
       "</style>\n",
       "<table border=\"1\" class=\"dataframe\">\n",
       "  <thead>\n",
       "    <tr style=\"text-align: right;\">\n",
       "      <th></th>\n",
       "      <th>A</th>\n",
       "      <th>B</th>\n",
       "      <th>C</th>\n",
       "      <th>D</th>\n",
       "      <th>E</th>\n",
       "    </tr>\n",
       "  </thead>\n",
       "  <tbody>\n",
       "    <tr>\n",
       "      <th>2019-01-03</th>\n",
       "      <td>0.983219</td>\n",
       "      <td>1.132349</td>\n",
       "      <td>0.327773</td>\n",
       "      <td>-1.193833</td>\n",
       "      <td>three</td>\n",
       "    </tr>\n",
       "    <tr>\n",
       "      <th>2019-01-06</th>\n",
       "      <td>-2.386912</td>\n",
       "      <td>0.212977</td>\n",
       "      <td>0.245976</td>\n",
       "      <td>-0.120291</td>\n",
       "      <td>six</td>\n",
       "    </tr>\n",
       "  </tbody>\n",
       "</table>\n",
       "</div>"
      ],
      "text/plain": [
       "                   A         B         C         D      E\n",
       "2019-01-03  0.983219  1.132349  0.327773 -1.193833  three\n",
       "2019-01-06 -2.386912  0.212977  0.245976 -0.120291    six"
      ]
     },
     "execution_count": 97,
     "metadata": {},
     "output_type": "execute_result"
    }
   ],
   "source": [
    "df3[df3['E'].isin(['three','six'])]"
   ]
  },
  {
   "cell_type": "code",
   "execution_count": 99,
   "metadata": {},
   "outputs": [],
   "source": [
    "##creating new column will automatically align the indexes\n",
    "\n",
    "s = pd.Series([2,3,4,5,6,7],index=pd.date_range('2019-01-02', periods=6))"
   ]
  },
  {
   "cell_type": "code",
   "execution_count": 101,
   "metadata": {},
   "outputs": [
    {
     "data": {
      "text/plain": [
       "2019-01-02    2\n",
       "2019-01-03    3\n",
       "2019-01-04    4\n",
       "2019-01-05    5\n",
       "2019-01-06    6\n",
       "2019-01-07    7\n",
       "Freq: D, dtype: int64"
      ]
     },
     "execution_count": 101,
     "metadata": {},
     "output_type": "execute_result"
    }
   ],
   "source": [
    "s"
   ]
  },
  {
   "cell_type": "code",
   "execution_count": 103,
   "metadata": {},
   "outputs": [],
   "source": [
    "df3['F'] = s"
   ]
  },
  {
   "cell_type": "code",
   "execution_count": 104,
   "metadata": {},
   "outputs": [
    {
     "data": {
      "text/html": [
       "<div>\n",
       "<style scoped>\n",
       "    .dataframe tbody tr th:only-of-type {\n",
       "        vertical-align: middle;\n",
       "    }\n",
       "\n",
       "    .dataframe tbody tr th {\n",
       "        vertical-align: top;\n",
       "    }\n",
       "\n",
       "    .dataframe thead th {\n",
       "        text-align: right;\n",
       "    }\n",
       "</style>\n",
       "<table border=\"1\" class=\"dataframe\">\n",
       "  <thead>\n",
       "    <tr style=\"text-align: right;\">\n",
       "      <th></th>\n",
       "      <th>A</th>\n",
       "      <th>B</th>\n",
       "      <th>C</th>\n",
       "      <th>D</th>\n",
       "      <th>E</th>\n",
       "      <th>F</th>\n",
       "    </tr>\n",
       "  </thead>\n",
       "  <tbody>\n",
       "    <tr>\n",
       "      <th>2019-01-01</th>\n",
       "      <td>-0.467840</td>\n",
       "      <td>0.117162</td>\n",
       "      <td>0.112735</td>\n",
       "      <td>-0.160120</td>\n",
       "      <td>one</td>\n",
       "      <td>NaN</td>\n",
       "    </tr>\n",
       "    <tr>\n",
       "      <th>2019-01-02</th>\n",
       "      <td>0.323334</td>\n",
       "      <td>-0.449775</td>\n",
       "      <td>0.172390</td>\n",
       "      <td>1.745740</td>\n",
       "      <td>two</td>\n",
       "      <td>2.0</td>\n",
       "    </tr>\n",
       "    <tr>\n",
       "      <th>2019-01-03</th>\n",
       "      <td>0.983219</td>\n",
       "      <td>1.132349</td>\n",
       "      <td>0.327773</td>\n",
       "      <td>-1.193833</td>\n",
       "      <td>three</td>\n",
       "      <td>3.0</td>\n",
       "    </tr>\n",
       "    <tr>\n",
       "      <th>2019-01-04</th>\n",
       "      <td>-1.100011</td>\n",
       "      <td>-1.036091</td>\n",
       "      <td>0.252313</td>\n",
       "      <td>-0.559588</td>\n",
       "      <td>four</td>\n",
       "      <td>4.0</td>\n",
       "    </tr>\n",
       "    <tr>\n",
       "      <th>2019-01-05</th>\n",
       "      <td>1.541812</td>\n",
       "      <td>-0.403155</td>\n",
       "      <td>-0.102367</td>\n",
       "      <td>-0.427502</td>\n",
       "      <td>five</td>\n",
       "      <td>5.0</td>\n",
       "    </tr>\n",
       "    <tr>\n",
       "      <th>2019-01-06</th>\n",
       "      <td>-2.386912</td>\n",
       "      <td>0.212977</td>\n",
       "      <td>0.245976</td>\n",
       "      <td>-0.120291</td>\n",
       "      <td>six</td>\n",
       "      <td>6.0</td>\n",
       "    </tr>\n",
       "  </tbody>\n",
       "</table>\n",
       "</div>"
      ],
      "text/plain": [
       "                   A         B         C         D      E    F\n",
       "2019-01-01 -0.467840  0.117162  0.112735 -0.160120    one  NaN\n",
       "2019-01-02  0.323334 -0.449775  0.172390  1.745740    two  2.0\n",
       "2019-01-03  0.983219  1.132349  0.327773 -1.193833  three  3.0\n",
       "2019-01-04 -1.100011 -1.036091  0.252313 -0.559588   four  4.0\n",
       "2019-01-05  1.541812 -0.403155 -0.102367 -0.427502   five  5.0\n",
       "2019-01-06 -2.386912  0.212977  0.245976 -0.120291    six  6.0"
      ]
     },
     "execution_count": 104,
     "metadata": {},
     "output_type": "execute_result"
    }
   ],
   "source": [
    "df3"
   ]
  },
  {
   "cell_type": "code",
   "execution_count": 105,
   "metadata": {},
   "outputs": [
    {
     "data": {
      "text/plain": [
       "-0.4678397577080641"
      ]
     },
     "execution_count": 105,
     "metadata": {},
     "output_type": "execute_result"
    }
   ],
   "source": [
    "df.at[dates[0],'A']"
   ]
  },
  {
   "cell_type": "code",
   "execution_count": 106,
   "metadata": {},
   "outputs": [],
   "source": [
    "df.at[dates[0],'A'] = 0"
   ]
  },
  {
   "cell_type": "code",
   "execution_count": 107,
   "metadata": {},
   "outputs": [
    {
     "data": {
      "text/html": [
       "<div>\n",
       "<style scoped>\n",
       "    .dataframe tbody tr th:only-of-type {\n",
       "        vertical-align: middle;\n",
       "    }\n",
       "\n",
       "    .dataframe tbody tr th {\n",
       "        vertical-align: top;\n",
       "    }\n",
       "\n",
       "    .dataframe thead th {\n",
       "        text-align: right;\n",
       "    }\n",
       "</style>\n",
       "<table border=\"1\" class=\"dataframe\">\n",
       "  <thead>\n",
       "    <tr style=\"text-align: right;\">\n",
       "      <th></th>\n",
       "      <th>A</th>\n",
       "      <th>B</th>\n",
       "      <th>C</th>\n",
       "      <th>D</th>\n",
       "    </tr>\n",
       "  </thead>\n",
       "  <tbody>\n",
       "    <tr>\n",
       "      <th>2019-01-01</th>\n",
       "      <td>0.000000</td>\n",
       "      <td>0.117162</td>\n",
       "      <td>0.112735</td>\n",
       "      <td>-0.160120</td>\n",
       "    </tr>\n",
       "    <tr>\n",
       "      <th>2019-01-02</th>\n",
       "      <td>0.323334</td>\n",
       "      <td>-0.449775</td>\n",
       "      <td>0.172390</td>\n",
       "      <td>1.745740</td>\n",
       "    </tr>\n",
       "    <tr>\n",
       "      <th>2019-01-03</th>\n",
       "      <td>0.983219</td>\n",
       "      <td>1.132349</td>\n",
       "      <td>0.327773</td>\n",
       "      <td>-1.193833</td>\n",
       "    </tr>\n",
       "    <tr>\n",
       "      <th>2019-01-04</th>\n",
       "      <td>-1.100011</td>\n",
       "      <td>-1.036091</td>\n",
       "      <td>0.252313</td>\n",
       "      <td>-0.559588</td>\n",
       "    </tr>\n",
       "    <tr>\n",
       "      <th>2019-01-05</th>\n",
       "      <td>1.541812</td>\n",
       "      <td>-0.403155</td>\n",
       "      <td>-0.102367</td>\n",
       "      <td>-0.427502</td>\n",
       "    </tr>\n",
       "    <tr>\n",
       "      <th>2019-01-06</th>\n",
       "      <td>-2.386912</td>\n",
       "      <td>0.212977</td>\n",
       "      <td>0.245976</td>\n",
       "      <td>-0.120291</td>\n",
       "    </tr>\n",
       "  </tbody>\n",
       "</table>\n",
       "</div>"
      ],
      "text/plain": [
       "                   A         B         C         D\n",
       "2019-01-01  0.000000  0.117162  0.112735 -0.160120\n",
       "2019-01-02  0.323334 -0.449775  0.172390  1.745740\n",
       "2019-01-03  0.983219  1.132349  0.327773 -1.193833\n",
       "2019-01-04 -1.100011 -1.036091  0.252313 -0.559588\n",
       "2019-01-05  1.541812 -0.403155 -0.102367 -0.427502\n",
       "2019-01-06 -2.386912  0.212977  0.245976 -0.120291"
      ]
     },
     "execution_count": 107,
     "metadata": {},
     "output_type": "execute_result"
    }
   ],
   "source": [
    "df"
   ]
  },
  {
   "cell_type": "code",
   "execution_count": 108,
   "metadata": {},
   "outputs": [
    {
     "data": {
      "text/plain": [
       "0.17239032816485853"
      ]
     },
     "execution_count": 108,
     "metadata": {},
     "output_type": "execute_result"
    }
   ],
   "source": [
    "df.iat[1,2]"
   ]
  },
  {
   "cell_type": "code",
   "execution_count": 109,
   "metadata": {},
   "outputs": [],
   "source": [
    "df.iat[1,2] = 0"
   ]
  },
  {
   "cell_type": "code",
   "execution_count": 110,
   "metadata": {},
   "outputs": [
    {
     "data": {
      "text/html": [
       "<div>\n",
       "<style scoped>\n",
       "    .dataframe tbody tr th:only-of-type {\n",
       "        vertical-align: middle;\n",
       "    }\n",
       "\n",
       "    .dataframe tbody tr th {\n",
       "        vertical-align: top;\n",
       "    }\n",
       "\n",
       "    .dataframe thead th {\n",
       "        text-align: right;\n",
       "    }\n",
       "</style>\n",
       "<table border=\"1\" class=\"dataframe\">\n",
       "  <thead>\n",
       "    <tr style=\"text-align: right;\">\n",
       "      <th></th>\n",
       "      <th>A</th>\n",
       "      <th>B</th>\n",
       "      <th>C</th>\n",
       "      <th>D</th>\n",
       "    </tr>\n",
       "  </thead>\n",
       "  <tbody>\n",
       "    <tr>\n",
       "      <th>2019-01-01</th>\n",
       "      <td>0.000000</td>\n",
       "      <td>0.117162</td>\n",
       "      <td>0.112735</td>\n",
       "      <td>-0.160120</td>\n",
       "    </tr>\n",
       "    <tr>\n",
       "      <th>2019-01-02</th>\n",
       "      <td>0.323334</td>\n",
       "      <td>-0.449775</td>\n",
       "      <td>0.000000</td>\n",
       "      <td>1.745740</td>\n",
       "    </tr>\n",
       "    <tr>\n",
       "      <th>2019-01-03</th>\n",
       "      <td>0.983219</td>\n",
       "      <td>1.132349</td>\n",
       "      <td>0.327773</td>\n",
       "      <td>-1.193833</td>\n",
       "    </tr>\n",
       "    <tr>\n",
       "      <th>2019-01-04</th>\n",
       "      <td>-1.100011</td>\n",
       "      <td>-1.036091</td>\n",
       "      <td>0.252313</td>\n",
       "      <td>-0.559588</td>\n",
       "    </tr>\n",
       "    <tr>\n",
       "      <th>2019-01-05</th>\n",
       "      <td>1.541812</td>\n",
       "      <td>-0.403155</td>\n",
       "      <td>-0.102367</td>\n",
       "      <td>-0.427502</td>\n",
       "    </tr>\n",
       "    <tr>\n",
       "      <th>2019-01-06</th>\n",
       "      <td>-2.386912</td>\n",
       "      <td>0.212977</td>\n",
       "      <td>0.245976</td>\n",
       "      <td>-0.120291</td>\n",
       "    </tr>\n",
       "  </tbody>\n",
       "</table>\n",
       "</div>"
      ],
      "text/plain": [
       "                   A         B         C         D\n",
       "2019-01-01  0.000000  0.117162  0.112735 -0.160120\n",
       "2019-01-02  0.323334 -0.449775  0.000000  1.745740\n",
       "2019-01-03  0.983219  1.132349  0.327773 -1.193833\n",
       "2019-01-04 -1.100011 -1.036091  0.252313 -0.559588\n",
       "2019-01-05  1.541812 -0.403155 -0.102367 -0.427502\n",
       "2019-01-06 -2.386912  0.212977  0.245976 -0.120291"
      ]
     },
     "execution_count": 110,
     "metadata": {},
     "output_type": "execute_result"
    }
   ],
   "source": [
    "df"
   ]
  },
  {
   "cell_type": "code",
   "execution_count": 112,
   "metadata": {},
   "outputs": [],
   "source": [
    "df.loc[:,'D'] = np.array([5]*len(df))"
   ]
  },
  {
   "cell_type": "code",
   "execution_count": 113,
   "metadata": {},
   "outputs": [
    {
     "data": {
      "text/html": [
       "<div>\n",
       "<style scoped>\n",
       "    .dataframe tbody tr th:only-of-type {\n",
       "        vertical-align: middle;\n",
       "    }\n",
       "\n",
       "    .dataframe tbody tr th {\n",
       "        vertical-align: top;\n",
       "    }\n",
       "\n",
       "    .dataframe thead th {\n",
       "        text-align: right;\n",
       "    }\n",
       "</style>\n",
       "<table border=\"1\" class=\"dataframe\">\n",
       "  <thead>\n",
       "    <tr style=\"text-align: right;\">\n",
       "      <th></th>\n",
       "      <th>A</th>\n",
       "      <th>B</th>\n",
       "      <th>C</th>\n",
       "      <th>D</th>\n",
       "    </tr>\n",
       "  </thead>\n",
       "  <tbody>\n",
       "    <tr>\n",
       "      <th>2019-01-01</th>\n",
       "      <td>0.000000</td>\n",
       "      <td>0.117162</td>\n",
       "      <td>0.112735</td>\n",
       "      <td>5</td>\n",
       "    </tr>\n",
       "    <tr>\n",
       "      <th>2019-01-02</th>\n",
       "      <td>0.323334</td>\n",
       "      <td>-0.449775</td>\n",
       "      <td>0.000000</td>\n",
       "      <td>5</td>\n",
       "    </tr>\n",
       "    <tr>\n",
       "      <th>2019-01-03</th>\n",
       "      <td>0.983219</td>\n",
       "      <td>1.132349</td>\n",
       "      <td>0.327773</td>\n",
       "      <td>5</td>\n",
       "    </tr>\n",
       "    <tr>\n",
       "      <th>2019-01-04</th>\n",
       "      <td>-1.100011</td>\n",
       "      <td>-1.036091</td>\n",
       "      <td>0.252313</td>\n",
       "      <td>5</td>\n",
       "    </tr>\n",
       "    <tr>\n",
       "      <th>2019-01-05</th>\n",
       "      <td>1.541812</td>\n",
       "      <td>-0.403155</td>\n",
       "      <td>-0.102367</td>\n",
       "      <td>5</td>\n",
       "    </tr>\n",
       "    <tr>\n",
       "      <th>2019-01-06</th>\n",
       "      <td>-2.386912</td>\n",
       "      <td>0.212977</td>\n",
       "      <td>0.245976</td>\n",
       "      <td>5</td>\n",
       "    </tr>\n",
       "  </tbody>\n",
       "</table>\n",
       "</div>"
      ],
      "text/plain": [
       "                   A         B         C  D\n",
       "2019-01-01  0.000000  0.117162  0.112735  5\n",
       "2019-01-02  0.323334 -0.449775  0.000000  5\n",
       "2019-01-03  0.983219  1.132349  0.327773  5\n",
       "2019-01-04 -1.100011 -1.036091  0.252313  5\n",
       "2019-01-05  1.541812 -0.403155 -0.102367  5\n",
       "2019-01-06 -2.386912  0.212977  0.245976  5"
      ]
     },
     "execution_count": 113,
     "metadata": {},
     "output_type": "execute_result"
    }
   ],
   "source": [
    "df"
   ]
  },
  {
   "cell_type": "code",
   "execution_count": 117,
   "metadata": {},
   "outputs": [],
   "source": [
    "df4 = df"
   ]
  },
  {
   "cell_type": "code",
   "execution_count": 121,
   "metadata": {},
   "outputs": [
    {
     "data": {
      "text/html": [
       "<div>\n",
       "<style scoped>\n",
       "    .dataframe tbody tr th:only-of-type {\n",
       "        vertical-align: middle;\n",
       "    }\n",
       "\n",
       "    .dataframe tbody tr th {\n",
       "        vertical-align: top;\n",
       "    }\n",
       "\n",
       "    .dataframe thead th {\n",
       "        text-align: right;\n",
       "    }\n",
       "</style>\n",
       "<table border=\"1\" class=\"dataframe\">\n",
       "  <thead>\n",
       "    <tr style=\"text-align: right;\">\n",
       "      <th></th>\n",
       "      <th>A</th>\n",
       "      <th>B</th>\n",
       "      <th>C</th>\n",
       "      <th>D</th>\n",
       "    </tr>\n",
       "  </thead>\n",
       "  <tbody>\n",
       "    <tr>\n",
       "      <th>2019-01-01</th>\n",
       "      <td>0.000000</td>\n",
       "      <td>-0.117162</td>\n",
       "      <td>-0.112735</td>\n",
       "      <td>-5</td>\n",
       "    </tr>\n",
       "    <tr>\n",
       "      <th>2019-01-02</th>\n",
       "      <td>-0.323334</td>\n",
       "      <td>-0.449775</td>\n",
       "      <td>0.000000</td>\n",
       "      <td>-5</td>\n",
       "    </tr>\n",
       "    <tr>\n",
       "      <th>2019-01-03</th>\n",
       "      <td>-0.983219</td>\n",
       "      <td>-1.132349</td>\n",
       "      <td>-0.327773</td>\n",
       "      <td>-5</td>\n",
       "    </tr>\n",
       "    <tr>\n",
       "      <th>2019-01-04</th>\n",
       "      <td>-1.100011</td>\n",
       "      <td>-1.036091</td>\n",
       "      <td>-0.252313</td>\n",
       "      <td>-5</td>\n",
       "    </tr>\n",
       "    <tr>\n",
       "      <th>2019-01-05</th>\n",
       "      <td>-1.541812</td>\n",
       "      <td>-0.403155</td>\n",
       "      <td>-0.102367</td>\n",
       "      <td>-5</td>\n",
       "    </tr>\n",
       "    <tr>\n",
       "      <th>2019-01-06</th>\n",
       "      <td>-2.386912</td>\n",
       "      <td>-0.212977</td>\n",
       "      <td>-0.245976</td>\n",
       "      <td>-5</td>\n",
       "    </tr>\n",
       "  </tbody>\n",
       "</table>\n",
       "</div>"
      ],
      "text/plain": [
       "                   A         B         C  D\n",
       "2019-01-01  0.000000 -0.117162 -0.112735 -5\n",
       "2019-01-02 -0.323334 -0.449775  0.000000 -5\n",
       "2019-01-03 -0.983219 -1.132349 -0.327773 -5\n",
       "2019-01-04 -1.100011 -1.036091 -0.252313 -5\n",
       "2019-01-05 -1.541812 -0.403155 -0.102367 -5\n",
       "2019-01-06 -2.386912 -0.212977 -0.245976 -5"
      ]
     },
     "execution_count": 121,
     "metadata": {},
     "output_type": "execute_result"
    }
   ],
   "source": [
    "df4"
   ]
  },
  {
   "cell_type": "code",
   "execution_count": 119,
   "metadata": {},
   "outputs": [],
   "source": [
    "df4[df4>0] = -df4"
   ]
  },
  {
   "cell_type": "code",
   "execution_count": 120,
   "metadata": {},
   "outputs": [
    {
     "data": {
      "text/html": [
       "<div>\n",
       "<style scoped>\n",
       "    .dataframe tbody tr th:only-of-type {\n",
       "        vertical-align: middle;\n",
       "    }\n",
       "\n",
       "    .dataframe tbody tr th {\n",
       "        vertical-align: top;\n",
       "    }\n",
       "\n",
       "    .dataframe thead th {\n",
       "        text-align: right;\n",
       "    }\n",
       "</style>\n",
       "<table border=\"1\" class=\"dataframe\">\n",
       "  <thead>\n",
       "    <tr style=\"text-align: right;\">\n",
       "      <th></th>\n",
       "      <th>A</th>\n",
       "      <th>B</th>\n",
       "      <th>C</th>\n",
       "      <th>D</th>\n",
       "    </tr>\n",
       "  </thead>\n",
       "  <tbody>\n",
       "    <tr>\n",
       "      <th>2019-01-01</th>\n",
       "      <td>0.000000</td>\n",
       "      <td>-0.117162</td>\n",
       "      <td>-0.112735</td>\n",
       "      <td>-5</td>\n",
       "    </tr>\n",
       "    <tr>\n",
       "      <th>2019-01-02</th>\n",
       "      <td>-0.323334</td>\n",
       "      <td>-0.449775</td>\n",
       "      <td>0.000000</td>\n",
       "      <td>-5</td>\n",
       "    </tr>\n",
       "    <tr>\n",
       "      <th>2019-01-03</th>\n",
       "      <td>-0.983219</td>\n",
       "      <td>-1.132349</td>\n",
       "      <td>-0.327773</td>\n",
       "      <td>-5</td>\n",
       "    </tr>\n",
       "    <tr>\n",
       "      <th>2019-01-04</th>\n",
       "      <td>-1.100011</td>\n",
       "      <td>-1.036091</td>\n",
       "      <td>-0.252313</td>\n",
       "      <td>-5</td>\n",
       "    </tr>\n",
       "    <tr>\n",
       "      <th>2019-01-05</th>\n",
       "      <td>-1.541812</td>\n",
       "      <td>-0.403155</td>\n",
       "      <td>-0.102367</td>\n",
       "      <td>-5</td>\n",
       "    </tr>\n",
       "    <tr>\n",
       "      <th>2019-01-06</th>\n",
       "      <td>-2.386912</td>\n",
       "      <td>-0.212977</td>\n",
       "      <td>-0.245976</td>\n",
       "      <td>-5</td>\n",
       "    </tr>\n",
       "  </tbody>\n",
       "</table>\n",
       "</div>"
      ],
      "text/plain": [
       "                   A         B         C  D\n",
       "2019-01-01  0.000000 -0.117162 -0.112735 -5\n",
       "2019-01-02 -0.323334 -0.449775  0.000000 -5\n",
       "2019-01-03 -0.983219 -1.132349 -0.327773 -5\n",
       "2019-01-04 -1.100011 -1.036091 -0.252313 -5\n",
       "2019-01-05 -1.541812 -0.403155 -0.102367 -5\n",
       "2019-01-06 -2.386912 -0.212977 -0.245976 -5"
      ]
     },
     "execution_count": 120,
     "metadata": {},
     "output_type": "execute_result"
    }
   ],
   "source": [
    "df4"
   ]
  },
  {
   "cell_type": "code",
   "execution_count": 124,
   "metadata": {},
   "outputs": [
    {
     "data": {
      "text/html": [
       "<div>\n",
       "<style scoped>\n",
       "    .dataframe tbody tr th:only-of-type {\n",
       "        vertical-align: middle;\n",
       "    }\n",
       "\n",
       "    .dataframe tbody tr th {\n",
       "        vertical-align: top;\n",
       "    }\n",
       "\n",
       "    .dataframe thead th {\n",
       "        text-align: right;\n",
       "    }\n",
       "</style>\n",
       "<table border=\"1\" class=\"dataframe\">\n",
       "  <thead>\n",
       "    <tr style=\"text-align: right;\">\n",
       "      <th></th>\n",
       "      <th>A</th>\n",
       "      <th>B</th>\n",
       "      <th>C</th>\n",
       "      <th>D</th>\n",
       "      <th>E</th>\n",
       "      <th>F</th>\n",
       "    </tr>\n",
       "  </thead>\n",
       "  <tbody>\n",
       "    <tr>\n",
       "      <th>2019-01-01</th>\n",
       "      <td>-0.467840</td>\n",
       "      <td>0.117162</td>\n",
       "      <td>0.112735</td>\n",
       "      <td>-0.160120</td>\n",
       "      <td>one</td>\n",
       "      <td>NaN</td>\n",
       "    </tr>\n",
       "    <tr>\n",
       "      <th>2019-01-02</th>\n",
       "      <td>0.323334</td>\n",
       "      <td>-0.449775</td>\n",
       "      <td>0.172390</td>\n",
       "      <td>1.745740</td>\n",
       "      <td>two</td>\n",
       "      <td>2.0</td>\n",
       "    </tr>\n",
       "    <tr>\n",
       "      <th>2019-01-03</th>\n",
       "      <td>0.983219</td>\n",
       "      <td>1.132349</td>\n",
       "      <td>0.327773</td>\n",
       "      <td>-1.193833</td>\n",
       "      <td>three</td>\n",
       "      <td>3.0</td>\n",
       "    </tr>\n",
       "    <tr>\n",
       "      <th>2019-01-04</th>\n",
       "      <td>-1.100011</td>\n",
       "      <td>-1.036091</td>\n",
       "      <td>0.252313</td>\n",
       "      <td>-0.559588</td>\n",
       "      <td>four</td>\n",
       "      <td>4.0</td>\n",
       "    </tr>\n",
       "    <tr>\n",
       "      <th>2019-01-05</th>\n",
       "      <td>1.541812</td>\n",
       "      <td>-0.403155</td>\n",
       "      <td>-0.102367</td>\n",
       "      <td>-0.427502</td>\n",
       "      <td>five</td>\n",
       "      <td>5.0</td>\n",
       "    </tr>\n",
       "    <tr>\n",
       "      <th>2019-01-06</th>\n",
       "      <td>-2.386912</td>\n",
       "      <td>0.212977</td>\n",
       "      <td>0.245976</td>\n",
       "      <td>-0.120291</td>\n",
       "      <td>six</td>\n",
       "      <td>6.0</td>\n",
       "    </tr>\n",
       "  </tbody>\n",
       "</table>\n",
       "</div>"
      ],
      "text/plain": [
       "                   A         B         C         D      E    F\n",
       "2019-01-01 -0.467840  0.117162  0.112735 -0.160120    one  NaN\n",
       "2019-01-02  0.323334 -0.449775  0.172390  1.745740    two  2.0\n",
       "2019-01-03  0.983219  1.132349  0.327773 -1.193833  three  3.0\n",
       "2019-01-04 -1.100011 -1.036091  0.252313 -0.559588   four  4.0\n",
       "2019-01-05  1.541812 -0.403155 -0.102367 -0.427502   five  5.0\n",
       "2019-01-06 -2.386912  0.212977  0.245976 -0.120291    six  6.0"
      ]
     },
     "execution_count": 124,
     "metadata": {},
     "output_type": "execute_result"
    }
   ],
   "source": [
    "df3"
   ]
  },
  {
   "cell_type": "code",
   "execution_count": 126,
   "metadata": {},
   "outputs": [
    {
     "data": {
      "text/html": [
       "<div>\n",
       "<style scoped>\n",
       "    .dataframe tbody tr th:only-of-type {\n",
       "        vertical-align: middle;\n",
       "    }\n",
       "\n",
       "    .dataframe tbody tr th {\n",
       "        vertical-align: top;\n",
       "    }\n",
       "\n",
       "    .dataframe thead th {\n",
       "        text-align: right;\n",
       "    }\n",
       "</style>\n",
       "<table border=\"1\" class=\"dataframe\">\n",
       "  <thead>\n",
       "    <tr style=\"text-align: right;\">\n",
       "      <th></th>\n",
       "      <th>A</th>\n",
       "      <th>B</th>\n",
       "      <th>C</th>\n",
       "      <th>D</th>\n",
       "      <th>E</th>\n",
       "      <th>F</th>\n",
       "    </tr>\n",
       "  </thead>\n",
       "  <tbody>\n",
       "    <tr>\n",
       "      <th>2019-01-02</th>\n",
       "      <td>0.323334</td>\n",
       "      <td>-0.449775</td>\n",
       "      <td>0.172390</td>\n",
       "      <td>1.745740</td>\n",
       "      <td>two</td>\n",
       "      <td>2.0</td>\n",
       "    </tr>\n",
       "    <tr>\n",
       "      <th>2019-01-03</th>\n",
       "      <td>0.983219</td>\n",
       "      <td>1.132349</td>\n",
       "      <td>0.327773</td>\n",
       "      <td>-1.193833</td>\n",
       "      <td>three</td>\n",
       "      <td>3.0</td>\n",
       "    </tr>\n",
       "    <tr>\n",
       "      <th>2019-01-04</th>\n",
       "      <td>-1.100011</td>\n",
       "      <td>-1.036091</td>\n",
       "      <td>0.252313</td>\n",
       "      <td>-0.559588</td>\n",
       "      <td>four</td>\n",
       "      <td>4.0</td>\n",
       "    </tr>\n",
       "    <tr>\n",
       "      <th>2019-01-05</th>\n",
       "      <td>1.541812</td>\n",
       "      <td>-0.403155</td>\n",
       "      <td>-0.102367</td>\n",
       "      <td>-0.427502</td>\n",
       "      <td>five</td>\n",
       "      <td>5.0</td>\n",
       "    </tr>\n",
       "    <tr>\n",
       "      <th>2019-01-06</th>\n",
       "      <td>-2.386912</td>\n",
       "      <td>0.212977</td>\n",
       "      <td>0.245976</td>\n",
       "      <td>-0.120291</td>\n",
       "      <td>six</td>\n",
       "      <td>6.0</td>\n",
       "    </tr>\n",
       "  </tbody>\n",
       "</table>\n",
       "</div>"
      ],
      "text/plain": [
       "                   A         B         C         D      E    F\n",
       "2019-01-02  0.323334 -0.449775  0.172390  1.745740    two  2.0\n",
       "2019-01-03  0.983219  1.132349  0.327773 -1.193833  three  3.0\n",
       "2019-01-04 -1.100011 -1.036091  0.252313 -0.559588   four  4.0\n",
       "2019-01-05  1.541812 -0.403155 -0.102367 -0.427502   five  5.0\n",
       "2019-01-06 -2.386912  0.212977  0.245976 -0.120291    six  6.0"
      ]
     },
     "execution_count": 126,
     "metadata": {},
     "output_type": "execute_result"
    }
   ],
   "source": [
    "df3.dropna(how='any')"
   ]
  },
  {
   "cell_type": "code",
   "execution_count": 128,
   "metadata": {},
   "outputs": [
    {
     "data": {
      "text/html": [
       "<div>\n",
       "<style scoped>\n",
       "    .dataframe tbody tr th:only-of-type {\n",
       "        vertical-align: middle;\n",
       "    }\n",
       "\n",
       "    .dataframe tbody tr th {\n",
       "        vertical-align: top;\n",
       "    }\n",
       "\n",
       "    .dataframe thead th {\n",
       "        text-align: right;\n",
       "    }\n",
       "</style>\n",
       "<table border=\"1\" class=\"dataframe\">\n",
       "  <thead>\n",
       "    <tr style=\"text-align: right;\">\n",
       "      <th></th>\n",
       "      <th>A</th>\n",
       "      <th>B</th>\n",
       "      <th>C</th>\n",
       "      <th>D</th>\n",
       "      <th>E</th>\n",
       "      <th>F</th>\n",
       "    </tr>\n",
       "  </thead>\n",
       "  <tbody>\n",
       "    <tr>\n",
       "      <th>2019-01-01</th>\n",
       "      <td>-0.467840</td>\n",
       "      <td>0.117162</td>\n",
       "      <td>0.112735</td>\n",
       "      <td>-0.160120</td>\n",
       "      <td>one</td>\n",
       "      <td>5</td>\n",
       "    </tr>\n",
       "    <tr>\n",
       "      <th>2019-01-02</th>\n",
       "      <td>0.323334</td>\n",
       "      <td>-0.449775</td>\n",
       "      <td>0.172390</td>\n",
       "      <td>1.745740</td>\n",
       "      <td>two</td>\n",
       "      <td>2</td>\n",
       "    </tr>\n",
       "    <tr>\n",
       "      <th>2019-01-03</th>\n",
       "      <td>0.983219</td>\n",
       "      <td>1.132349</td>\n",
       "      <td>0.327773</td>\n",
       "      <td>-1.193833</td>\n",
       "      <td>three</td>\n",
       "      <td>3</td>\n",
       "    </tr>\n",
       "    <tr>\n",
       "      <th>2019-01-04</th>\n",
       "      <td>-1.100011</td>\n",
       "      <td>-1.036091</td>\n",
       "      <td>0.252313</td>\n",
       "      <td>-0.559588</td>\n",
       "      <td>four</td>\n",
       "      <td>4</td>\n",
       "    </tr>\n",
       "    <tr>\n",
       "      <th>2019-01-05</th>\n",
       "      <td>1.541812</td>\n",
       "      <td>-0.403155</td>\n",
       "      <td>-0.102367</td>\n",
       "      <td>-0.427502</td>\n",
       "      <td>five</td>\n",
       "      <td>5</td>\n",
       "    </tr>\n",
       "    <tr>\n",
       "      <th>2019-01-06</th>\n",
       "      <td>-2.386912</td>\n",
       "      <td>0.212977</td>\n",
       "      <td>0.245976</td>\n",
       "      <td>-0.120291</td>\n",
       "      <td>six</td>\n",
       "      <td>6</td>\n",
       "    </tr>\n",
       "  </tbody>\n",
       "</table>\n",
       "</div>"
      ],
      "text/plain": [
       "                   A         B         C         D      E  F\n",
       "2019-01-01 -0.467840  0.117162  0.112735 -0.160120    one  5\n",
       "2019-01-02  0.323334 -0.449775  0.172390  1.745740    two  2\n",
       "2019-01-03  0.983219  1.132349  0.327773 -1.193833  three  3\n",
       "2019-01-04 -1.100011 -1.036091  0.252313 -0.559588   four  4\n",
       "2019-01-05  1.541812 -0.403155 -0.102367 -0.427502   five  5\n",
       "2019-01-06 -2.386912  0.212977  0.245976 -0.120291    six  6"
      ]
     },
     "execution_count": 128,
     "metadata": {},
     "output_type": "execute_result"
    }
   ],
   "source": [
    "df3.fillna('5')"
   ]
  },
  {
   "cell_type": "code",
   "execution_count": 129,
   "metadata": {},
   "outputs": [
    {
     "data": {
      "text/plain": [
       "A    float64\n",
       "B    float64\n",
       "C    float64\n",
       "D    float64\n",
       "E     object\n",
       "F    float64\n",
       "dtype: object"
      ]
     },
     "execution_count": 129,
     "metadata": {},
     "output_type": "execute_result"
    }
   ],
   "source": [
    "df3.dtypes"
   ]
  },
  {
   "cell_type": "code",
   "execution_count": 130,
   "metadata": {},
   "outputs": [
    {
     "data": {
      "text/html": [
       "<div>\n",
       "<style scoped>\n",
       "    .dataframe tbody tr th:only-of-type {\n",
       "        vertical-align: middle;\n",
       "    }\n",
       "\n",
       "    .dataframe tbody tr th {\n",
       "        vertical-align: top;\n",
       "    }\n",
       "\n",
       "    .dataframe thead th {\n",
       "        text-align: right;\n",
       "    }\n",
       "</style>\n",
       "<table border=\"1\" class=\"dataframe\">\n",
       "  <thead>\n",
       "    <tr style=\"text-align: right;\">\n",
       "      <th></th>\n",
       "      <th>A</th>\n",
       "      <th>B</th>\n",
       "      <th>C</th>\n",
       "      <th>D</th>\n",
       "      <th>E</th>\n",
       "      <th>F</th>\n",
       "    </tr>\n",
       "  </thead>\n",
       "  <tbody>\n",
       "    <tr>\n",
       "      <th>2019-01-01</th>\n",
       "      <td>False</td>\n",
       "      <td>False</td>\n",
       "      <td>False</td>\n",
       "      <td>False</td>\n",
       "      <td>False</td>\n",
       "      <td>True</td>\n",
       "    </tr>\n",
       "    <tr>\n",
       "      <th>2019-01-02</th>\n",
       "      <td>False</td>\n",
       "      <td>False</td>\n",
       "      <td>False</td>\n",
       "      <td>False</td>\n",
       "      <td>False</td>\n",
       "      <td>False</td>\n",
       "    </tr>\n",
       "    <tr>\n",
       "      <th>2019-01-03</th>\n",
       "      <td>False</td>\n",
       "      <td>False</td>\n",
       "      <td>False</td>\n",
       "      <td>False</td>\n",
       "      <td>False</td>\n",
       "      <td>False</td>\n",
       "    </tr>\n",
       "    <tr>\n",
       "      <th>2019-01-04</th>\n",
       "      <td>False</td>\n",
       "      <td>False</td>\n",
       "      <td>False</td>\n",
       "      <td>False</td>\n",
       "      <td>False</td>\n",
       "      <td>False</td>\n",
       "    </tr>\n",
       "    <tr>\n",
       "      <th>2019-01-05</th>\n",
       "      <td>False</td>\n",
       "      <td>False</td>\n",
       "      <td>False</td>\n",
       "      <td>False</td>\n",
       "      <td>False</td>\n",
       "      <td>False</td>\n",
       "    </tr>\n",
       "    <tr>\n",
       "      <th>2019-01-06</th>\n",
       "      <td>False</td>\n",
       "      <td>False</td>\n",
       "      <td>False</td>\n",
       "      <td>False</td>\n",
       "      <td>False</td>\n",
       "      <td>False</td>\n",
       "    </tr>\n",
       "  </tbody>\n",
       "</table>\n",
       "</div>"
      ],
      "text/plain": [
       "                A      B      C      D      E      F\n",
       "2019-01-01  False  False  False  False  False   True\n",
       "2019-01-02  False  False  False  False  False  False\n",
       "2019-01-03  False  False  False  False  False  False\n",
       "2019-01-04  False  False  False  False  False  False\n",
       "2019-01-05  False  False  False  False  False  False\n",
       "2019-01-06  False  False  False  False  False  False"
      ]
     },
     "execution_count": 130,
     "metadata": {},
     "output_type": "execute_result"
    }
   ],
   "source": [
    "pd.isna(df3)"
   ]
  },
  {
   "cell_type": "code",
   "execution_count": 131,
   "metadata": {},
   "outputs": [
    {
     "data": {
      "text/plain": [
       "A   -1.055881\n",
       "B   -0.558585\n",
       "C   -0.173527\n",
       "D   -5.000000\n",
       "dtype: float64"
      ]
     },
     "execution_count": 131,
     "metadata": {},
     "output_type": "execute_result"
    }
   ],
   "source": [
    "df.mean()"
   ]
  },
  {
   "cell_type": "code",
   "execution_count": 132,
   "metadata": {},
   "outputs": [
    {
     "data": {
      "text/plain": [
       "2019-01-01   -1.307474\n",
       "2019-01-02   -1.443277\n",
       "2019-01-03   -1.860835\n",
       "2019-01-04   -1.847103\n",
       "2019-01-05   -1.761833\n",
       "2019-01-06   -1.961466\n",
       "Freq: D, dtype: float64"
      ]
     },
     "execution_count": 132,
     "metadata": {},
     "output_type": "execute_result"
    }
   ],
   "source": [
    "df.mean(1)"
   ]
  },
  {
   "cell_type": "code",
   "execution_count": 136,
   "metadata": {},
   "outputs": [
    {
     "data": {
      "text/plain": [
       "A   -1.055881\n",
       "B   -0.558585\n",
       "C   -0.173527\n",
       "D   -5.000000\n",
       "dtype: float64"
      ]
     },
     "execution_count": 136,
     "metadata": {},
     "output_type": "execute_result"
    }
   ],
   "source": [
    "df.mean()"
   ]
  },
  {
   "cell_type": "code",
   "execution_count": 142,
   "metadata": {},
   "outputs": [
    {
     "data": {
      "text/html": [
       "<div>\n",
       "<style scoped>\n",
       "    .dataframe tbody tr th:only-of-type {\n",
       "        vertical-align: middle;\n",
       "    }\n",
       "\n",
       "    .dataframe tbody tr th {\n",
       "        vertical-align: top;\n",
       "    }\n",
       "\n",
       "    .dataframe thead th {\n",
       "        text-align: right;\n",
       "    }\n",
       "</style>\n",
       "<table border=\"1\" class=\"dataframe\">\n",
       "  <thead>\n",
       "    <tr style=\"text-align: right;\">\n",
       "      <th></th>\n",
       "      <th>A</th>\n",
       "      <th>B</th>\n",
       "      <th>C</th>\n",
       "      <th>D</th>\n",
       "    </tr>\n",
       "  </thead>\n",
       "  <tbody>\n",
       "    <tr>\n",
       "      <th>2019-01-01</th>\n",
       "      <td>0.000000</td>\n",
       "      <td>-0.117162</td>\n",
       "      <td>-0.112735</td>\n",
       "      <td>-5</td>\n",
       "    </tr>\n",
       "    <tr>\n",
       "      <th>2019-01-02</th>\n",
       "      <td>-0.323334</td>\n",
       "      <td>-0.566937</td>\n",
       "      <td>-0.112735</td>\n",
       "      <td>-10</td>\n",
       "    </tr>\n",
       "    <tr>\n",
       "      <th>2019-01-03</th>\n",
       "      <td>-1.306553</td>\n",
       "      <td>-1.699286</td>\n",
       "      <td>-0.440508</td>\n",
       "      <td>-15</td>\n",
       "    </tr>\n",
       "    <tr>\n",
       "      <th>2019-01-04</th>\n",
       "      <td>-2.406564</td>\n",
       "      <td>-2.735377</td>\n",
       "      <td>-0.692821</td>\n",
       "      <td>-20</td>\n",
       "    </tr>\n",
       "    <tr>\n",
       "      <th>2019-01-05</th>\n",
       "      <td>-3.948375</td>\n",
       "      <td>-3.138532</td>\n",
       "      <td>-0.795187</td>\n",
       "      <td>-25</td>\n",
       "    </tr>\n",
       "    <tr>\n",
       "      <th>2019-01-06</th>\n",
       "      <td>-6.335287</td>\n",
       "      <td>-3.351509</td>\n",
       "      <td>-1.041164</td>\n",
       "      <td>-30</td>\n",
       "    </tr>\n",
       "  </tbody>\n",
       "</table>\n",
       "</div>"
      ],
      "text/plain": [
       "                   A         B         C   D\n",
       "2019-01-01  0.000000 -0.117162 -0.112735  -5\n",
       "2019-01-02 -0.323334 -0.566937 -0.112735 -10\n",
       "2019-01-03 -1.306553 -1.699286 -0.440508 -15\n",
       "2019-01-04 -2.406564 -2.735377 -0.692821 -20\n",
       "2019-01-05 -3.948375 -3.138532 -0.795187 -25\n",
       "2019-01-06 -6.335287 -3.351509 -1.041164 -30"
      ]
     },
     "execution_count": 142,
     "metadata": {},
     "output_type": "execute_result"
    }
   ],
   "source": [
    "df.apply(np.cumsum,axis=0)"
   ]
  },
  {
   "cell_type": "code",
   "execution_count": 139,
   "metadata": {},
   "outputs": [
    {
     "data": {
      "text/html": [
       "<div>\n",
       "<style scoped>\n",
       "    .dataframe tbody tr th:only-of-type {\n",
       "        vertical-align: middle;\n",
       "    }\n",
       "\n",
       "    .dataframe tbody tr th {\n",
       "        vertical-align: top;\n",
       "    }\n",
       "\n",
       "    .dataframe thead th {\n",
       "        text-align: right;\n",
       "    }\n",
       "</style>\n",
       "<table border=\"1\" class=\"dataframe\">\n",
       "  <thead>\n",
       "    <tr style=\"text-align: right;\">\n",
       "      <th></th>\n",
       "      <th>A</th>\n",
       "      <th>B</th>\n",
       "      <th>C</th>\n",
       "      <th>D</th>\n",
       "    </tr>\n",
       "  </thead>\n",
       "  <tbody>\n",
       "    <tr>\n",
       "      <th>2019-01-01</th>\n",
       "      <td>0.000000</td>\n",
       "      <td>-0.117162</td>\n",
       "      <td>-0.112735</td>\n",
       "      <td>-5</td>\n",
       "    </tr>\n",
       "    <tr>\n",
       "      <th>2019-01-02</th>\n",
       "      <td>-0.323334</td>\n",
       "      <td>-0.449775</td>\n",
       "      <td>0.000000</td>\n",
       "      <td>-5</td>\n",
       "    </tr>\n",
       "    <tr>\n",
       "      <th>2019-01-03</th>\n",
       "      <td>-0.983219</td>\n",
       "      <td>-1.132349</td>\n",
       "      <td>-0.327773</td>\n",
       "      <td>-5</td>\n",
       "    </tr>\n",
       "    <tr>\n",
       "      <th>2019-01-04</th>\n",
       "      <td>-1.100011</td>\n",
       "      <td>-1.036091</td>\n",
       "      <td>-0.252313</td>\n",
       "      <td>-5</td>\n",
       "    </tr>\n",
       "    <tr>\n",
       "      <th>2019-01-05</th>\n",
       "      <td>-1.541812</td>\n",
       "      <td>-0.403155</td>\n",
       "      <td>-0.102367</td>\n",
       "      <td>-5</td>\n",
       "    </tr>\n",
       "    <tr>\n",
       "      <th>2019-01-06</th>\n",
       "      <td>-2.386912</td>\n",
       "      <td>-0.212977</td>\n",
       "      <td>-0.245976</td>\n",
       "      <td>-5</td>\n",
       "    </tr>\n",
       "  </tbody>\n",
       "</table>\n",
       "</div>"
      ],
      "text/plain": [
       "                   A         B         C  D\n",
       "2019-01-01  0.000000 -0.117162 -0.112735 -5\n",
       "2019-01-02 -0.323334 -0.449775  0.000000 -5\n",
       "2019-01-03 -0.983219 -1.132349 -0.327773 -5\n",
       "2019-01-04 -1.100011 -1.036091 -0.252313 -5\n",
       "2019-01-05 -1.541812 -0.403155 -0.102367 -5\n",
       "2019-01-06 -2.386912 -0.212977 -0.245976 -5"
      ]
     },
     "execution_count": 139,
     "metadata": {},
     "output_type": "execute_result"
    }
   ],
   "source": [
    "df"
   ]
  },
  {
   "cell_type": "code",
   "execution_count": 146,
   "metadata": {},
   "outputs": [
    {
     "data": {
      "text/plain": [
       "A    2.386912\n",
       "B    1.015188\n",
       "C    0.327773\n",
       "D    0.000000\n",
       "dtype: float64"
      ]
     },
     "execution_count": 146,
     "metadata": {},
     "output_type": "execute_result"
    }
   ],
   "source": [
    "df.apply(lambda x: x.max() - x.min())"
   ]
  },
  {
   "cell_type": "code",
   "execution_count": 148,
   "metadata": {},
   "outputs": [
    {
     "data": {
      "text/plain": [
       "-1.100011    1\n",
       "-0.983219    1\n",
       "-2.386912    1\n",
       "-0.323334    1\n",
       "-1.541812    1\n",
       " 0.000000    1\n",
       "Name: A, dtype: int64"
      ]
     },
     "execution_count": 148,
     "metadata": {},
     "output_type": "execute_result"
    }
   ],
   "source": [
    "df['A'].value_counts()"
   ]
  },
  {
   "cell_type": "code",
   "execution_count": 149,
   "metadata": {},
   "outputs": [
    {
     "data": {
      "text/plain": [
       "7    1\n",
       "6    1\n",
       "5    1\n",
       "4    1\n",
       "3    1\n",
       "2    1\n",
       "dtype: int64"
      ]
     },
     "execution_count": 149,
     "metadata": {},
     "output_type": "execute_result"
    }
   ],
   "source": [
    "s.value_counts()"
   ]
  },
  {
   "cell_type": "code",
   "execution_count": 150,
   "metadata": {},
   "outputs": [],
   "source": [
    "s = pd.Series(['sara','shalya'])"
   ]
  },
  {
   "cell_type": "code",
   "execution_count": 151,
   "metadata": {},
   "outputs": [
    {
     "data": {
      "text/plain": [
       "0      sara\n",
       "1    shalya\n",
       "dtype: object"
      ]
     },
     "execution_count": 151,
     "metadata": {},
     "output_type": "execute_result"
    }
   ],
   "source": [
    "s"
   ]
  },
  {
   "cell_type": "code",
   "execution_count": 153,
   "metadata": {},
   "outputs": [
    {
     "data": {
      "text/plain": [
       "0      SARA\n",
       "1    SHALYA\n",
       "dtype: object"
      ]
     },
     "execution_count": 153,
     "metadata": {},
     "output_type": "execute_result"
    }
   ],
   "source": [
    "s.str.upper()"
   ]
  },
  {
   "cell_type": "code",
   "execution_count": 154,
   "metadata": {},
   "outputs": [
    {
     "data": {
      "text/plain": [
       "0      sara\n",
       "1    shalya\n",
       "dtype: object"
      ]
     },
     "execution_count": 154,
     "metadata": {},
     "output_type": "execute_result"
    }
   ],
   "source": [
    "s.str.lower()"
   ]
  },
  {
   "cell_type": "code",
   "execution_count": 155,
   "metadata": {},
   "outputs": [],
   "source": [
    "##concatenating pandas objects\n",
    "\n",
    "df5 = pd.DataFrame(np.random.randn(10,7))"
   ]
  },
  {
   "cell_type": "code",
   "execution_count": 160,
   "metadata": {},
   "outputs": [],
   "source": [
    "pieces = [df5[:3],df5[3:7],df5[7:]]"
   ]
  },
  {
   "cell_type": "code",
   "execution_count": 161,
   "metadata": {},
   "outputs": [
    {
     "data": {
      "text/plain": [
       "[          0         1         2         3         4         5         6\n",
       " 0  1.661392  0.823674 -0.921468 -0.286786 -1.820460  1.649336  0.131347\n",
       " 1 -1.105558  0.208446 -0.302518 -0.505352  0.119011 -0.435207 -1.263216\n",
       " 2  0.354682  1.201341 -0.647582 -0.106360 -1.580457 -0.528955 -0.432088,\n",
       "           0         1         2         3         4         5         6\n",
       " 3  1.990517 -0.476040  1.143108  0.457389  1.136641 -0.211453  1.048698\n",
       " 4  0.148088  0.540765  1.639315 -0.706306  1.301468  1.075145  2.854960\n",
       " 5  1.464737 -0.075205 -0.659899 -2.916043  0.703742 -0.538785  2.498103\n",
       " 6  0.612136  0.749270  0.260366  0.049345 -0.298619  0.696338 -1.226428,\n",
       "           0         1         2         3         4         5         6\n",
       " 7 -0.629653  0.675454 -1.028588  1.648748 -1.375871  0.440216  0.068983\n",
       " 8  1.217777 -0.653858  0.075994  0.502568 -0.673025  0.180100  0.154633\n",
       " 9 -2.571804 -0.303927 -0.630552  0.930908 -0.544602 -0.342719 -0.829246]"
      ]
     },
     "execution_count": 161,
     "metadata": {},
     "output_type": "execute_result"
    }
   ],
   "source": [
    "pieces"
   ]
  },
  {
   "cell_type": "code",
   "execution_count": 162,
   "metadata": {},
   "outputs": [
    {
     "data": {
      "text/html": [
       "<div>\n",
       "<style scoped>\n",
       "    .dataframe tbody tr th:only-of-type {\n",
       "        vertical-align: middle;\n",
       "    }\n",
       "\n",
       "    .dataframe tbody tr th {\n",
       "        vertical-align: top;\n",
       "    }\n",
       "\n",
       "    .dataframe thead th {\n",
       "        text-align: right;\n",
       "    }\n",
       "</style>\n",
       "<table border=\"1\" class=\"dataframe\">\n",
       "  <thead>\n",
       "    <tr style=\"text-align: right;\">\n",
       "      <th></th>\n",
       "      <th>0</th>\n",
       "      <th>1</th>\n",
       "      <th>2</th>\n",
       "      <th>3</th>\n",
       "      <th>4</th>\n",
       "      <th>5</th>\n",
       "      <th>6</th>\n",
       "    </tr>\n",
       "  </thead>\n",
       "  <tbody>\n",
       "    <tr>\n",
       "      <th>0</th>\n",
       "      <td>1.661392</td>\n",
       "      <td>0.823674</td>\n",
       "      <td>-0.921468</td>\n",
       "      <td>-0.286786</td>\n",
       "      <td>-1.820460</td>\n",
       "      <td>1.649336</td>\n",
       "      <td>0.131347</td>\n",
       "    </tr>\n",
       "    <tr>\n",
       "      <th>1</th>\n",
       "      <td>-1.105558</td>\n",
       "      <td>0.208446</td>\n",
       "      <td>-0.302518</td>\n",
       "      <td>-0.505352</td>\n",
       "      <td>0.119011</td>\n",
       "      <td>-0.435207</td>\n",
       "      <td>-1.263216</td>\n",
       "    </tr>\n",
       "    <tr>\n",
       "      <th>2</th>\n",
       "      <td>0.354682</td>\n",
       "      <td>1.201341</td>\n",
       "      <td>-0.647582</td>\n",
       "      <td>-0.106360</td>\n",
       "      <td>-1.580457</td>\n",
       "      <td>-0.528955</td>\n",
       "      <td>-0.432088</td>\n",
       "    </tr>\n",
       "    <tr>\n",
       "      <th>3</th>\n",
       "      <td>1.990517</td>\n",
       "      <td>-0.476040</td>\n",
       "      <td>1.143108</td>\n",
       "      <td>0.457389</td>\n",
       "      <td>1.136641</td>\n",
       "      <td>-0.211453</td>\n",
       "      <td>1.048698</td>\n",
       "    </tr>\n",
       "    <tr>\n",
       "      <th>4</th>\n",
       "      <td>0.148088</td>\n",
       "      <td>0.540765</td>\n",
       "      <td>1.639315</td>\n",
       "      <td>-0.706306</td>\n",
       "      <td>1.301468</td>\n",
       "      <td>1.075145</td>\n",
       "      <td>2.854960</td>\n",
       "    </tr>\n",
       "    <tr>\n",
       "      <th>5</th>\n",
       "      <td>1.464737</td>\n",
       "      <td>-0.075205</td>\n",
       "      <td>-0.659899</td>\n",
       "      <td>-2.916043</td>\n",
       "      <td>0.703742</td>\n",
       "      <td>-0.538785</td>\n",
       "      <td>2.498103</td>\n",
       "    </tr>\n",
       "    <tr>\n",
       "      <th>6</th>\n",
       "      <td>0.612136</td>\n",
       "      <td>0.749270</td>\n",
       "      <td>0.260366</td>\n",
       "      <td>0.049345</td>\n",
       "      <td>-0.298619</td>\n",
       "      <td>0.696338</td>\n",
       "      <td>-1.226428</td>\n",
       "    </tr>\n",
       "    <tr>\n",
       "      <th>7</th>\n",
       "      <td>-0.629653</td>\n",
       "      <td>0.675454</td>\n",
       "      <td>-1.028588</td>\n",
       "      <td>1.648748</td>\n",
       "      <td>-1.375871</td>\n",
       "      <td>0.440216</td>\n",
       "      <td>0.068983</td>\n",
       "    </tr>\n",
       "    <tr>\n",
       "      <th>8</th>\n",
       "      <td>1.217777</td>\n",
       "      <td>-0.653858</td>\n",
       "      <td>0.075994</td>\n",
       "      <td>0.502568</td>\n",
       "      <td>-0.673025</td>\n",
       "      <td>0.180100</td>\n",
       "      <td>0.154633</td>\n",
       "    </tr>\n",
       "    <tr>\n",
       "      <th>9</th>\n",
       "      <td>-2.571804</td>\n",
       "      <td>-0.303927</td>\n",
       "      <td>-0.630552</td>\n",
       "      <td>0.930908</td>\n",
       "      <td>-0.544602</td>\n",
       "      <td>-0.342719</td>\n",
       "      <td>-0.829246</td>\n",
       "    </tr>\n",
       "  </tbody>\n",
       "</table>\n",
       "</div>"
      ],
      "text/plain": [
       "          0         1         2         3         4         5         6\n",
       "0  1.661392  0.823674 -0.921468 -0.286786 -1.820460  1.649336  0.131347\n",
       "1 -1.105558  0.208446 -0.302518 -0.505352  0.119011 -0.435207 -1.263216\n",
       "2  0.354682  1.201341 -0.647582 -0.106360 -1.580457 -0.528955 -0.432088\n",
       "3  1.990517 -0.476040  1.143108  0.457389  1.136641 -0.211453  1.048698\n",
       "4  0.148088  0.540765  1.639315 -0.706306  1.301468  1.075145  2.854960\n",
       "5  1.464737 -0.075205 -0.659899 -2.916043  0.703742 -0.538785  2.498103\n",
       "6  0.612136  0.749270  0.260366  0.049345 -0.298619  0.696338 -1.226428\n",
       "7 -0.629653  0.675454 -1.028588  1.648748 -1.375871  0.440216  0.068983\n",
       "8  1.217777 -0.653858  0.075994  0.502568 -0.673025  0.180100  0.154633\n",
       "9 -2.571804 -0.303927 -0.630552  0.930908 -0.544602 -0.342719 -0.829246"
      ]
     },
     "execution_count": 162,
     "metadata": {},
     "output_type": "execute_result"
    }
   ],
   "source": [
    "pd.concat(pieces)"
   ]
  },
  {
   "cell_type": "code",
   "execution_count": 163,
   "metadata": {},
   "outputs": [],
   "source": [
    "##merging\n",
    "\n",
    "left = pd.DataFrame({'key':['foo','foo'], 'lvalue':[1,2]})\n",
    "right = pd.DataFrame({'key':['foo','foo'],'rvalue':[3,4]})"
   ]
  },
  {
   "cell_type": "code",
   "execution_count": 164,
   "metadata": {},
   "outputs": [
    {
     "data": {
      "text/html": [
       "<div>\n",
       "<style scoped>\n",
       "    .dataframe tbody tr th:only-of-type {\n",
       "        vertical-align: middle;\n",
       "    }\n",
       "\n",
       "    .dataframe tbody tr th {\n",
       "        vertical-align: top;\n",
       "    }\n",
       "\n",
       "    .dataframe thead th {\n",
       "        text-align: right;\n",
       "    }\n",
       "</style>\n",
       "<table border=\"1\" class=\"dataframe\">\n",
       "  <thead>\n",
       "    <tr style=\"text-align: right;\">\n",
       "      <th></th>\n",
       "      <th>key</th>\n",
       "      <th>lvalue</th>\n",
       "      <th>rvalue</th>\n",
       "    </tr>\n",
       "  </thead>\n",
       "  <tbody>\n",
       "    <tr>\n",
       "      <th>0</th>\n",
       "      <td>foo</td>\n",
       "      <td>1</td>\n",
       "      <td>3</td>\n",
       "    </tr>\n",
       "    <tr>\n",
       "      <th>1</th>\n",
       "      <td>foo</td>\n",
       "      <td>1</td>\n",
       "      <td>4</td>\n",
       "    </tr>\n",
       "    <tr>\n",
       "      <th>2</th>\n",
       "      <td>foo</td>\n",
       "      <td>2</td>\n",
       "      <td>3</td>\n",
       "    </tr>\n",
       "    <tr>\n",
       "      <th>3</th>\n",
       "      <td>foo</td>\n",
       "      <td>2</td>\n",
       "      <td>4</td>\n",
       "    </tr>\n",
       "  </tbody>\n",
       "</table>\n",
       "</div>"
      ],
      "text/plain": [
       "   key  lvalue  rvalue\n",
       "0  foo       1       3\n",
       "1  foo       1       4\n",
       "2  foo       2       3\n",
       "3  foo       2       4"
      ]
     },
     "execution_count": 164,
     "metadata": {},
     "output_type": "execute_result"
    }
   ],
   "source": [
    "pd.merge(left, right, on= 'key')"
   ]
  },
  {
   "cell_type": "code",
   "execution_count": 3,
   "metadata": {},
   "outputs": [],
   "source": [
    "##merging\n",
    "\n",
    "left = pd.DataFrame({'key':['foo','bar'], 'lvalue':[1,2]})\n",
    "right = pd.DataFrame({'key':['foo','bar'],'rvalue':[3,4]})"
   ]
  },
  {
   "cell_type": "code",
   "execution_count": 5,
   "metadata": {},
   "outputs": [
    {
     "data": {
      "text/html": [
       "<div>\n",
       "<style scoped>\n",
       "    .dataframe tbody tr th:only-of-type {\n",
       "        vertical-align: middle;\n",
       "    }\n",
       "\n",
       "    .dataframe tbody tr th {\n",
       "        vertical-align: top;\n",
       "    }\n",
       "\n",
       "    .dataframe thead th {\n",
       "        text-align: right;\n",
       "    }\n",
       "</style>\n",
       "<table border=\"1\" class=\"dataframe\">\n",
       "  <thead>\n",
       "    <tr style=\"text-align: right;\">\n",
       "      <th></th>\n",
       "      <th>key</th>\n",
       "      <th>lvalue</th>\n",
       "      <th>rvalue</th>\n",
       "    </tr>\n",
       "  </thead>\n",
       "  <tbody>\n",
       "    <tr>\n",
       "      <th>0</th>\n",
       "      <td>foo</td>\n",
       "      <td>1</td>\n",
       "      <td>3</td>\n",
       "    </tr>\n",
       "    <tr>\n",
       "      <th>1</th>\n",
       "      <td>bar</td>\n",
       "      <td>2</td>\n",
       "      <td>4</td>\n",
       "    </tr>\n",
       "  </tbody>\n",
       "</table>\n",
       "</div>"
      ],
      "text/plain": [
       "   key  lvalue  rvalue\n",
       "0  foo       1       3\n",
       "1  bar       2       4"
      ]
     },
     "execution_count": 5,
     "metadata": {},
     "output_type": "execute_result"
    }
   ],
   "source": [
    "pd.merge(left, right, on ='key')"
   ]
  },
  {
   "cell_type": "code",
   "execution_count": 7,
   "metadata": {},
   "outputs": [],
   "source": [
    "df = pd.DataFrame(np.random.randn(8,4), columns = list('ABCD'))"
   ]
  },
  {
   "cell_type": "code",
   "execution_count": 8,
   "metadata": {},
   "outputs": [
    {
     "data": {
      "text/html": [
       "<div>\n",
       "<style scoped>\n",
       "    .dataframe tbody tr th:only-of-type {\n",
       "        vertical-align: middle;\n",
       "    }\n",
       "\n",
       "    .dataframe tbody tr th {\n",
       "        vertical-align: top;\n",
       "    }\n",
       "\n",
       "    .dataframe thead th {\n",
       "        text-align: right;\n",
       "    }\n",
       "</style>\n",
       "<table border=\"1\" class=\"dataframe\">\n",
       "  <thead>\n",
       "    <tr style=\"text-align: right;\">\n",
       "      <th></th>\n",
       "      <th>A</th>\n",
       "      <th>B</th>\n",
       "      <th>C</th>\n",
       "      <th>D</th>\n",
       "    </tr>\n",
       "  </thead>\n",
       "  <tbody>\n",
       "    <tr>\n",
       "      <th>0</th>\n",
       "      <td>-0.929357</td>\n",
       "      <td>-0.044120</td>\n",
       "      <td>-0.282308</td>\n",
       "      <td>-1.718952</td>\n",
       "    </tr>\n",
       "    <tr>\n",
       "      <th>1</th>\n",
       "      <td>-0.664160</td>\n",
       "      <td>1.657142</td>\n",
       "      <td>0.526452</td>\n",
       "      <td>-0.626041</td>\n",
       "    </tr>\n",
       "    <tr>\n",
       "      <th>2</th>\n",
       "      <td>1.014825</td>\n",
       "      <td>-1.408460</td>\n",
       "      <td>1.154406</td>\n",
       "      <td>-0.840571</td>\n",
       "    </tr>\n",
       "    <tr>\n",
       "      <th>3</th>\n",
       "      <td>-1.232504</td>\n",
       "      <td>1.608322</td>\n",
       "      <td>0.515300</td>\n",
       "      <td>0.390390</td>\n",
       "    </tr>\n",
       "    <tr>\n",
       "      <th>4</th>\n",
       "      <td>1.391745</td>\n",
       "      <td>1.210702</td>\n",
       "      <td>1.283292</td>\n",
       "      <td>-0.205187</td>\n",
       "    </tr>\n",
       "    <tr>\n",
       "      <th>5</th>\n",
       "      <td>0.296307</td>\n",
       "      <td>-1.061918</td>\n",
       "      <td>0.194633</td>\n",
       "      <td>-1.251098</td>\n",
       "    </tr>\n",
       "    <tr>\n",
       "      <th>6</th>\n",
       "      <td>0.994575</td>\n",
       "      <td>0.666974</td>\n",
       "      <td>0.276743</td>\n",
       "      <td>0.131130</td>\n",
       "    </tr>\n",
       "    <tr>\n",
       "      <th>7</th>\n",
       "      <td>0.938073</td>\n",
       "      <td>0.294172</td>\n",
       "      <td>-1.993911</td>\n",
       "      <td>1.589054</td>\n",
       "    </tr>\n",
       "  </tbody>\n",
       "</table>\n",
       "</div>"
      ],
      "text/plain": [
       "          A         B         C         D\n",
       "0 -0.929357 -0.044120 -0.282308 -1.718952\n",
       "1 -0.664160  1.657142  0.526452 -0.626041\n",
       "2  1.014825 -1.408460  1.154406 -0.840571\n",
       "3 -1.232504  1.608322  0.515300  0.390390\n",
       "4  1.391745  1.210702  1.283292 -0.205187\n",
       "5  0.296307 -1.061918  0.194633 -1.251098\n",
       "6  0.994575  0.666974  0.276743  0.131130\n",
       "7  0.938073  0.294172 -1.993911  1.589054"
      ]
     },
     "execution_count": 8,
     "metadata": {},
     "output_type": "execute_result"
    }
   ],
   "source": [
    "df"
   ]
  },
  {
   "cell_type": "code",
   "execution_count": 9,
   "metadata": {},
   "outputs": [],
   "source": [
    "s = df.iloc[5]"
   ]
  },
  {
   "cell_type": "code",
   "execution_count": 10,
   "metadata": {},
   "outputs": [
    {
     "data": {
      "text/plain": [
       "A    0.296307\n",
       "B   -1.061918\n",
       "C    0.194633\n",
       "D   -1.251098\n",
       "Name: 5, dtype: float64"
      ]
     },
     "execution_count": 10,
     "metadata": {},
     "output_type": "execute_result"
    }
   ],
   "source": [
    "s"
   ]
  },
  {
   "cell_type": "code",
   "execution_count": 11,
   "metadata": {},
   "outputs": [
    {
     "data": {
      "text/html": [
       "<div>\n",
       "<style scoped>\n",
       "    .dataframe tbody tr th:only-of-type {\n",
       "        vertical-align: middle;\n",
       "    }\n",
       "\n",
       "    .dataframe tbody tr th {\n",
       "        vertical-align: top;\n",
       "    }\n",
       "\n",
       "    .dataframe thead th {\n",
       "        text-align: right;\n",
       "    }\n",
       "</style>\n",
       "<table border=\"1\" class=\"dataframe\">\n",
       "  <thead>\n",
       "    <tr style=\"text-align: right;\">\n",
       "      <th></th>\n",
       "      <th>A</th>\n",
       "      <th>B</th>\n",
       "      <th>C</th>\n",
       "      <th>D</th>\n",
       "    </tr>\n",
       "  </thead>\n",
       "  <tbody>\n",
       "    <tr>\n",
       "      <th>0</th>\n",
       "      <td>-0.929357</td>\n",
       "      <td>-0.044120</td>\n",
       "      <td>-0.282308</td>\n",
       "      <td>-1.718952</td>\n",
       "    </tr>\n",
       "    <tr>\n",
       "      <th>1</th>\n",
       "      <td>-0.664160</td>\n",
       "      <td>1.657142</td>\n",
       "      <td>0.526452</td>\n",
       "      <td>-0.626041</td>\n",
       "    </tr>\n",
       "    <tr>\n",
       "      <th>2</th>\n",
       "      <td>1.014825</td>\n",
       "      <td>-1.408460</td>\n",
       "      <td>1.154406</td>\n",
       "      <td>-0.840571</td>\n",
       "    </tr>\n",
       "    <tr>\n",
       "      <th>3</th>\n",
       "      <td>-1.232504</td>\n",
       "      <td>1.608322</td>\n",
       "      <td>0.515300</td>\n",
       "      <td>0.390390</td>\n",
       "    </tr>\n",
       "    <tr>\n",
       "      <th>4</th>\n",
       "      <td>1.391745</td>\n",
       "      <td>1.210702</td>\n",
       "      <td>1.283292</td>\n",
       "      <td>-0.205187</td>\n",
       "    </tr>\n",
       "    <tr>\n",
       "      <th>5</th>\n",
       "      <td>0.296307</td>\n",
       "      <td>-1.061918</td>\n",
       "      <td>0.194633</td>\n",
       "      <td>-1.251098</td>\n",
       "    </tr>\n",
       "    <tr>\n",
       "      <th>6</th>\n",
       "      <td>0.994575</td>\n",
       "      <td>0.666974</td>\n",
       "      <td>0.276743</td>\n",
       "      <td>0.131130</td>\n",
       "    </tr>\n",
       "    <tr>\n",
       "      <th>7</th>\n",
       "      <td>0.938073</td>\n",
       "      <td>0.294172</td>\n",
       "      <td>-1.993911</td>\n",
       "      <td>1.589054</td>\n",
       "    </tr>\n",
       "    <tr>\n",
       "      <th>8</th>\n",
       "      <td>0.296307</td>\n",
       "      <td>-1.061918</td>\n",
       "      <td>0.194633</td>\n",
       "      <td>-1.251098</td>\n",
       "    </tr>\n",
       "  </tbody>\n",
       "</table>\n",
       "</div>"
      ],
      "text/plain": [
       "          A         B         C         D\n",
       "0 -0.929357 -0.044120 -0.282308 -1.718952\n",
       "1 -0.664160  1.657142  0.526452 -0.626041\n",
       "2  1.014825 -1.408460  1.154406 -0.840571\n",
       "3 -1.232504  1.608322  0.515300  0.390390\n",
       "4  1.391745  1.210702  1.283292 -0.205187\n",
       "5  0.296307 -1.061918  0.194633 -1.251098\n",
       "6  0.994575  0.666974  0.276743  0.131130\n",
       "7  0.938073  0.294172 -1.993911  1.589054\n",
       "8  0.296307 -1.061918  0.194633 -1.251098"
      ]
     },
     "execution_count": 11,
     "metadata": {},
     "output_type": "execute_result"
    }
   ],
   "source": [
    "df.append(s, ignore_index = True)"
   ]
  },
  {
   "cell_type": "code",
   "execution_count": 13,
   "metadata": {},
   "outputs": [],
   "source": [
    "## Grouping\n",
    "\n",
    "df = pd.DataFrame({'A': ['foo','bar','foo','bar','bar','foo','foo','foo'],\n",
    "                  'B' : ['one','two','three','one','two','three','one','two'],\n",
    "                  'C' : np.random.randn(8),\n",
    "                  'D' : np.random.randn(8)})\n"
   ]
  },
  {
   "cell_type": "code",
   "execution_count": 14,
   "metadata": {},
   "outputs": [
    {
     "data": {
      "text/html": [
       "<div>\n",
       "<style scoped>\n",
       "    .dataframe tbody tr th:only-of-type {\n",
       "        vertical-align: middle;\n",
       "    }\n",
       "\n",
       "    .dataframe tbody tr th {\n",
       "        vertical-align: top;\n",
       "    }\n",
       "\n",
       "    .dataframe thead th {\n",
       "        text-align: right;\n",
       "    }\n",
       "</style>\n",
       "<table border=\"1\" class=\"dataframe\">\n",
       "  <thead>\n",
       "    <tr style=\"text-align: right;\">\n",
       "      <th></th>\n",
       "      <th>A</th>\n",
       "      <th>B</th>\n",
       "      <th>C</th>\n",
       "      <th>D</th>\n",
       "    </tr>\n",
       "  </thead>\n",
       "  <tbody>\n",
       "    <tr>\n",
       "      <th>0</th>\n",
       "      <td>foo</td>\n",
       "      <td>one</td>\n",
       "      <td>-1.869267</td>\n",
       "      <td>-0.825199</td>\n",
       "    </tr>\n",
       "    <tr>\n",
       "      <th>1</th>\n",
       "      <td>bar</td>\n",
       "      <td>two</td>\n",
       "      <td>0.716450</td>\n",
       "      <td>-2.252751</td>\n",
       "    </tr>\n",
       "    <tr>\n",
       "      <th>2</th>\n",
       "      <td>foo</td>\n",
       "      <td>three</td>\n",
       "      <td>1.174214</td>\n",
       "      <td>-0.697427</td>\n",
       "    </tr>\n",
       "    <tr>\n",
       "      <th>3</th>\n",
       "      <td>bar</td>\n",
       "      <td>one</td>\n",
       "      <td>-1.012963</td>\n",
       "      <td>0.333419</td>\n",
       "    </tr>\n",
       "    <tr>\n",
       "      <th>4</th>\n",
       "      <td>bar</td>\n",
       "      <td>two</td>\n",
       "      <td>1.543195</td>\n",
       "      <td>1.055118</td>\n",
       "    </tr>\n",
       "    <tr>\n",
       "      <th>5</th>\n",
       "      <td>foo</td>\n",
       "      <td>three</td>\n",
       "      <td>0.949776</td>\n",
       "      <td>1.004360</td>\n",
       "    </tr>\n",
       "    <tr>\n",
       "      <th>6</th>\n",
       "      <td>foo</td>\n",
       "      <td>one</td>\n",
       "      <td>-1.141483</td>\n",
       "      <td>-0.780057</td>\n",
       "    </tr>\n",
       "    <tr>\n",
       "      <th>7</th>\n",
       "      <td>foo</td>\n",
       "      <td>two</td>\n",
       "      <td>0.424663</td>\n",
       "      <td>0.046995</td>\n",
       "    </tr>\n",
       "  </tbody>\n",
       "</table>\n",
       "</div>"
      ],
      "text/plain": [
       "     A      B         C         D\n",
       "0  foo    one -1.869267 -0.825199\n",
       "1  bar    two  0.716450 -2.252751\n",
       "2  foo  three  1.174214 -0.697427\n",
       "3  bar    one -1.012963  0.333419\n",
       "4  bar    two  1.543195  1.055118\n",
       "5  foo  three  0.949776  1.004360\n",
       "6  foo    one -1.141483 -0.780057\n",
       "7  foo    two  0.424663  0.046995"
      ]
     },
     "execution_count": 14,
     "metadata": {},
     "output_type": "execute_result"
    }
   ],
   "source": [
    "df"
   ]
  },
  {
   "cell_type": "code",
   "execution_count": 15,
   "metadata": {},
   "outputs": [
    {
     "data": {
      "text/html": [
       "<div>\n",
       "<style scoped>\n",
       "    .dataframe tbody tr th:only-of-type {\n",
       "        vertical-align: middle;\n",
       "    }\n",
       "\n",
       "    .dataframe tbody tr th {\n",
       "        vertical-align: top;\n",
       "    }\n",
       "\n",
       "    .dataframe thead th {\n",
       "        text-align: right;\n",
       "    }\n",
       "</style>\n",
       "<table border=\"1\" class=\"dataframe\">\n",
       "  <thead>\n",
       "    <tr style=\"text-align: right;\">\n",
       "      <th></th>\n",
       "      <th>C</th>\n",
       "      <th>D</th>\n",
       "    </tr>\n",
       "    <tr>\n",
       "      <th>A</th>\n",
       "      <th></th>\n",
       "      <th></th>\n",
       "    </tr>\n",
       "  </thead>\n",
       "  <tbody>\n",
       "    <tr>\n",
       "      <th>bar</th>\n",
       "      <td>1.246682</td>\n",
       "      <td>-0.864214</td>\n",
       "    </tr>\n",
       "    <tr>\n",
       "      <th>foo</th>\n",
       "      <td>-0.462097</td>\n",
       "      <td>-1.251328</td>\n",
       "    </tr>\n",
       "  </tbody>\n",
       "</table>\n",
       "</div>"
      ],
      "text/plain": [
       "            C         D\n",
       "A                      \n",
       "bar  1.246682 -0.864214\n",
       "foo -0.462097 -1.251328"
      ]
     },
     "execution_count": 15,
     "metadata": {},
     "output_type": "execute_result"
    }
   ],
   "source": [
    "df.groupby('A').sum()"
   ]
  },
  {
   "cell_type": "code",
   "execution_count": 16,
   "metadata": {},
   "outputs": [
    {
     "data": {
      "text/html": [
       "<div>\n",
       "<style scoped>\n",
       "    .dataframe tbody tr th:only-of-type {\n",
       "        vertical-align: middle;\n",
       "    }\n",
       "\n",
       "    .dataframe tbody tr th {\n",
       "        vertical-align: top;\n",
       "    }\n",
       "\n",
       "    .dataframe thead th {\n",
       "        text-align: right;\n",
       "    }\n",
       "</style>\n",
       "<table border=\"1\" class=\"dataframe\">\n",
       "  <thead>\n",
       "    <tr style=\"text-align: right;\">\n",
       "      <th></th>\n",
       "      <th></th>\n",
       "      <th>C</th>\n",
       "      <th>D</th>\n",
       "    </tr>\n",
       "    <tr>\n",
       "      <th>A</th>\n",
       "      <th>B</th>\n",
       "      <th></th>\n",
       "      <th></th>\n",
       "    </tr>\n",
       "  </thead>\n",
       "  <tbody>\n",
       "    <tr>\n",
       "      <th rowspan=\"2\" valign=\"top\">bar</th>\n",
       "      <th>one</th>\n",
       "      <td>-1.012963</td>\n",
       "      <td>0.333419</td>\n",
       "    </tr>\n",
       "    <tr>\n",
       "      <th>two</th>\n",
       "      <td>2.259644</td>\n",
       "      <td>-1.197633</td>\n",
       "    </tr>\n",
       "    <tr>\n",
       "      <th rowspan=\"3\" valign=\"top\">foo</th>\n",
       "      <th>one</th>\n",
       "      <td>-3.010750</td>\n",
       "      <td>-1.605256</td>\n",
       "    </tr>\n",
       "    <tr>\n",
       "      <th>three</th>\n",
       "      <td>2.123990</td>\n",
       "      <td>0.306933</td>\n",
       "    </tr>\n",
       "    <tr>\n",
       "      <th>two</th>\n",
       "      <td>0.424663</td>\n",
       "      <td>0.046995</td>\n",
       "    </tr>\n",
       "  </tbody>\n",
       "</table>\n",
       "</div>"
      ],
      "text/plain": [
       "                  C         D\n",
       "A   B                        \n",
       "bar one   -1.012963  0.333419\n",
       "    two    2.259644 -1.197633\n",
       "foo one   -3.010750 -1.605256\n",
       "    three  2.123990  0.306933\n",
       "    two    0.424663  0.046995"
      ]
     },
     "execution_count": 16,
     "metadata": {},
     "output_type": "execute_result"
    }
   ],
   "source": [
    "df.groupby(['A','B']).sum()"
   ]
  },
  {
   "cell_type": "code",
   "execution_count": 19,
   "metadata": {},
   "outputs": [],
   "source": [
    "tuples = list(zip(*[['bar','foo','bar','foo','bar','foo','bar','foo'],\n",
    "                   ['one','two','one','two','one','two','one','two'],\n",
    "                    ['sara','shalya','sara','shalya','sara','shalya','sara','shalya',]]))"
   ]
  },
  {
   "cell_type": "code",
   "execution_count": 20,
   "metadata": {},
   "outputs": [
    {
     "data": {
      "text/plain": [
       "[('bar', 'one', 'sara'),\n",
       " ('foo', 'two', 'shalya'),\n",
       " ('bar', 'one', 'sara'),\n",
       " ('foo', 'two', 'shalya'),\n",
       " ('bar', 'one', 'sara'),\n",
       " ('foo', 'two', 'shalya'),\n",
       " ('bar', 'one', 'sara'),\n",
       " ('foo', 'two', 'shalya')]"
      ]
     },
     "execution_count": 20,
     "metadata": {},
     "output_type": "execute_result"
    }
   ],
   "source": [
    "tuples"
   ]
  },
  {
   "cell_type": "code",
   "execution_count": 22,
   "metadata": {},
   "outputs": [],
   "source": [
    "index = pd.MultiIndex.from_tuples(tuples, names = ['first','second','thrid'])"
   ]
  },
  {
   "cell_type": "code",
   "execution_count": 23,
   "metadata": {},
   "outputs": [
    {
     "data": {
      "text/plain": [
       "MultiIndex(levels=[['bar', 'foo'], ['one', 'two'], ['sara', 'shalya']],\n",
       "           codes=[[0, 1, 0, 1, 0, 1, 0, 1], [0, 1, 0, 1, 0, 1, 0, 1], [0, 1, 0, 1, 0, 1, 0, 1]],\n",
       "           names=['first', 'second', 'thrid'])"
      ]
     },
     "execution_count": 23,
     "metadata": {},
     "output_type": "execute_result"
    }
   ],
   "source": [
    "index"
   ]
  },
  {
   "cell_type": "code",
   "execution_count": 24,
   "metadata": {},
   "outputs": [],
   "source": [
    "df = pd.DataFrame(np.random.randn(8,2), index = index, columns=['A','B'])"
   ]
  },
  {
   "cell_type": "code",
   "execution_count": 26,
   "metadata": {},
   "outputs": [
    {
     "data": {
      "text/html": [
       "<div>\n",
       "<style scoped>\n",
       "    .dataframe tbody tr th:only-of-type {\n",
       "        vertical-align: middle;\n",
       "    }\n",
       "\n",
       "    .dataframe tbody tr th {\n",
       "        vertical-align: top;\n",
       "    }\n",
       "\n",
       "    .dataframe thead th {\n",
       "        text-align: right;\n",
       "    }\n",
       "</style>\n",
       "<table border=\"1\" class=\"dataframe\">\n",
       "  <thead>\n",
       "    <tr style=\"text-align: right;\">\n",
       "      <th></th>\n",
       "      <th></th>\n",
       "      <th></th>\n",
       "      <th>A</th>\n",
       "      <th>B</th>\n",
       "    </tr>\n",
       "    <tr>\n",
       "      <th>first</th>\n",
       "      <th>second</th>\n",
       "      <th>thrid</th>\n",
       "      <th></th>\n",
       "      <th></th>\n",
       "    </tr>\n",
       "  </thead>\n",
       "  <tbody>\n",
       "    <tr>\n",
       "      <th>bar</th>\n",
       "      <th>one</th>\n",
       "      <th>sara</th>\n",
       "      <td>-1.198875</td>\n",
       "      <td>0.896616</td>\n",
       "    </tr>\n",
       "    <tr>\n",
       "      <th>foo</th>\n",
       "      <th>two</th>\n",
       "      <th>shalya</th>\n",
       "      <td>1.273550</td>\n",
       "      <td>0.512774</td>\n",
       "    </tr>\n",
       "    <tr>\n",
       "      <th>bar</th>\n",
       "      <th>one</th>\n",
       "      <th>sara</th>\n",
       "      <td>-1.113197</td>\n",
       "      <td>0.747082</td>\n",
       "    </tr>\n",
       "    <tr>\n",
       "      <th>foo</th>\n",
       "      <th>two</th>\n",
       "      <th>shalya</th>\n",
       "      <td>-0.408453</td>\n",
       "      <td>0.421388</td>\n",
       "    </tr>\n",
       "    <tr>\n",
       "      <th>bar</th>\n",
       "      <th>one</th>\n",
       "      <th>sara</th>\n",
       "      <td>1.100564</td>\n",
       "      <td>-0.259107</td>\n",
       "    </tr>\n",
       "    <tr>\n",
       "      <th>foo</th>\n",
       "      <th>two</th>\n",
       "      <th>shalya</th>\n",
       "      <td>-0.111577</td>\n",
       "      <td>-0.785645</td>\n",
       "    </tr>\n",
       "    <tr>\n",
       "      <th>bar</th>\n",
       "      <th>one</th>\n",
       "      <th>sara</th>\n",
       "      <td>-0.230165</td>\n",
       "      <td>-0.457418</td>\n",
       "    </tr>\n",
       "    <tr>\n",
       "      <th>foo</th>\n",
       "      <th>two</th>\n",
       "      <th>shalya</th>\n",
       "      <td>2.408811</td>\n",
       "      <td>0.573938</td>\n",
       "    </tr>\n",
       "  </tbody>\n",
       "</table>\n",
       "</div>"
      ],
      "text/plain": [
       "                            A         B\n",
       "first second thrid                     \n",
       "bar   one    sara   -1.198875  0.896616\n",
       "foo   two    shalya  1.273550  0.512774\n",
       "bar   one    sara   -1.113197  0.747082\n",
       "foo   two    shalya -0.408453  0.421388\n",
       "bar   one    sara    1.100564 -0.259107\n",
       "foo   two    shalya -0.111577 -0.785645\n",
       "bar   one    sara   -0.230165 -0.457418\n",
       "foo   two    shalya  2.408811  0.573938"
      ]
     },
     "execution_count": 26,
     "metadata": {},
     "output_type": "execute_result"
    }
   ],
   "source": [
    "df"
   ]
  },
  {
   "cell_type": "code",
   "execution_count": 35,
   "metadata": {},
   "outputs": [
    {
     "data": {
      "text/plain": [
       "first  second  thrid\n",
       "bar    one     sara    -1.198875\n",
       "               sara    -1.113197\n",
       "               sara     1.100564\n",
       "               sara    -0.230165\n",
       "Name: A, dtype: float64"
      ]
     },
     "execution_count": 35,
     "metadata": {},
     "output_type": "execute_result"
    }
   ],
   "source": [
    "df.loc[['bar'],'A']"
   ]
  },
  {
   "cell_type": "code",
   "execution_count": 41,
   "metadata": {},
   "outputs": [],
   "source": [
    "df2 = df.stack()"
   ]
  },
  {
   "cell_type": "code",
   "execution_count": 42,
   "metadata": {},
   "outputs": [
    {
     "data": {
      "text/plain": [
       "first  second  thrid    \n",
       "bar    one     sara    A   -1.198875\n",
       "                       B    0.896616\n",
       "foo    two     shalya  A    1.273550\n",
       "                       B    0.512774\n",
       "bar    one     sara    A   -1.113197\n",
       "                       B    0.747082\n",
       "foo    two     shalya  A   -0.408453\n",
       "                       B    0.421388\n",
       "bar    one     sara    A    1.100564\n",
       "                       B   -0.259107\n",
       "foo    two     shalya  A   -0.111577\n",
       "                       B   -0.785645\n",
       "bar    one     sara    A   -0.230165\n",
       "                       B   -0.457418\n",
       "foo    two     shalya  A    2.408811\n",
       "                       B    0.573938\n",
       "dtype: float64"
      ]
     },
     "execution_count": 42,
     "metadata": {},
     "output_type": "execute_result"
    }
   ],
   "source": [
    "df2"
   ]
  },
  {
   "cell_type": "code",
   "execution_count": 50,
   "metadata": {},
   "outputs": [],
   "source": [
    "df3 = pd.DataFrame({'A': ['bar','foo']*6,\n",
    "                   'B' :['one','two','three']*4,\n",
    "                   'C' : np.random.randn(12)})"
   ]
  },
  {
   "cell_type": "code",
   "execution_count": 51,
   "metadata": {},
   "outputs": [
    {
     "data": {
      "text/html": [
       "<div>\n",
       "<style scoped>\n",
       "    .dataframe tbody tr th:only-of-type {\n",
       "        vertical-align: middle;\n",
       "    }\n",
       "\n",
       "    .dataframe tbody tr th {\n",
       "        vertical-align: top;\n",
       "    }\n",
       "\n",
       "    .dataframe thead th {\n",
       "        text-align: right;\n",
       "    }\n",
       "</style>\n",
       "<table border=\"1\" class=\"dataframe\">\n",
       "  <thead>\n",
       "    <tr style=\"text-align: right;\">\n",
       "      <th></th>\n",
       "      <th>A</th>\n",
       "      <th>B</th>\n",
       "      <th>C</th>\n",
       "    </tr>\n",
       "  </thead>\n",
       "  <tbody>\n",
       "    <tr>\n",
       "      <th>0</th>\n",
       "      <td>bar</td>\n",
       "      <td>one</td>\n",
       "      <td>-0.357208</td>\n",
       "    </tr>\n",
       "    <tr>\n",
       "      <th>1</th>\n",
       "      <td>foo</td>\n",
       "      <td>two</td>\n",
       "      <td>-0.483509</td>\n",
       "    </tr>\n",
       "    <tr>\n",
       "      <th>2</th>\n",
       "      <td>bar</td>\n",
       "      <td>three</td>\n",
       "      <td>0.322975</td>\n",
       "    </tr>\n",
       "    <tr>\n",
       "      <th>3</th>\n",
       "      <td>foo</td>\n",
       "      <td>one</td>\n",
       "      <td>-1.234247</td>\n",
       "    </tr>\n",
       "    <tr>\n",
       "      <th>4</th>\n",
       "      <td>bar</td>\n",
       "      <td>two</td>\n",
       "      <td>-0.168974</td>\n",
       "    </tr>\n",
       "    <tr>\n",
       "      <th>5</th>\n",
       "      <td>foo</td>\n",
       "      <td>three</td>\n",
       "      <td>-0.554749</td>\n",
       "    </tr>\n",
       "    <tr>\n",
       "      <th>6</th>\n",
       "      <td>bar</td>\n",
       "      <td>one</td>\n",
       "      <td>1.718573</td>\n",
       "    </tr>\n",
       "    <tr>\n",
       "      <th>7</th>\n",
       "      <td>foo</td>\n",
       "      <td>two</td>\n",
       "      <td>0.327081</td>\n",
       "    </tr>\n",
       "    <tr>\n",
       "      <th>8</th>\n",
       "      <td>bar</td>\n",
       "      <td>three</td>\n",
       "      <td>-2.130859</td>\n",
       "    </tr>\n",
       "    <tr>\n",
       "      <th>9</th>\n",
       "      <td>foo</td>\n",
       "      <td>one</td>\n",
       "      <td>-0.137637</td>\n",
       "    </tr>\n",
       "    <tr>\n",
       "      <th>10</th>\n",
       "      <td>bar</td>\n",
       "      <td>two</td>\n",
       "      <td>-0.298968</td>\n",
       "    </tr>\n",
       "    <tr>\n",
       "      <th>11</th>\n",
       "      <td>foo</td>\n",
       "      <td>three</td>\n",
       "      <td>-0.203363</td>\n",
       "    </tr>\n",
       "  </tbody>\n",
       "</table>\n",
       "</div>"
      ],
      "text/plain": [
       "      A      B         C\n",
       "0   bar    one -0.357208\n",
       "1   foo    two -0.483509\n",
       "2   bar  three  0.322975\n",
       "3   foo    one -1.234247\n",
       "4   bar    two -0.168974\n",
       "5   foo  three -0.554749\n",
       "6   bar    one  1.718573\n",
       "7   foo    two  0.327081\n",
       "8   bar  three -2.130859\n",
       "9   foo    one -0.137637\n",
       "10  bar    two -0.298968\n",
       "11  foo  three -0.203363"
      ]
     },
     "execution_count": 51,
     "metadata": {},
     "output_type": "execute_result"
    }
   ],
   "source": [
    "df3"
   ]
  },
  {
   "cell_type": "code",
   "execution_count": 55,
   "metadata": {},
   "outputs": [
    {
     "data": {
      "text/html": [
       "<div>\n",
       "<style scoped>\n",
       "    .dataframe tbody tr th:only-of-type {\n",
       "        vertical-align: middle;\n",
       "    }\n",
       "\n",
       "    .dataframe tbody tr th {\n",
       "        vertical-align: top;\n",
       "    }\n",
       "\n",
       "    .dataframe thead th {\n",
       "        text-align: right;\n",
       "    }\n",
       "</style>\n",
       "<table border=\"1\" class=\"dataframe\">\n",
       "  <thead>\n",
       "    <tr style=\"text-align: right;\">\n",
       "      <th></th>\n",
       "      <th>A</th>\n",
       "      <th>bar</th>\n",
       "      <th>foo</th>\n",
       "    </tr>\n",
       "    <tr>\n",
       "      <th>A</th>\n",
       "      <th>B</th>\n",
       "      <th></th>\n",
       "      <th></th>\n",
       "    </tr>\n",
       "  </thead>\n",
       "  <tbody>\n",
       "    <tr>\n",
       "      <th rowspan=\"3\" valign=\"top\">bar</th>\n",
       "      <th>one</th>\n",
       "      <td>0.680683</td>\n",
       "      <td>NaN</td>\n",
       "    </tr>\n",
       "    <tr>\n",
       "      <th>three</th>\n",
       "      <td>-0.903942</td>\n",
       "      <td>NaN</td>\n",
       "    </tr>\n",
       "    <tr>\n",
       "      <th>two</th>\n",
       "      <td>-0.233971</td>\n",
       "      <td>NaN</td>\n",
       "    </tr>\n",
       "    <tr>\n",
       "      <th rowspan=\"3\" valign=\"top\">foo</th>\n",
       "      <th>one</th>\n",
       "      <td>NaN</td>\n",
       "      <td>-0.685942</td>\n",
       "    </tr>\n",
       "    <tr>\n",
       "      <th>three</th>\n",
       "      <td>NaN</td>\n",
       "      <td>-0.379056</td>\n",
       "    </tr>\n",
       "    <tr>\n",
       "      <th>two</th>\n",
       "      <td>NaN</td>\n",
       "      <td>-0.078214</td>\n",
       "    </tr>\n",
       "  </tbody>\n",
       "</table>\n",
       "</div>"
      ],
      "text/plain": [
       "A               bar       foo\n",
       "A   B                        \n",
       "bar one    0.680683       NaN\n",
       "    three -0.903942       NaN\n",
       "    two   -0.233971       NaN\n",
       "foo one         NaN -0.685942\n",
       "    three       NaN -0.379056\n",
       "    two         NaN -0.078214"
      ]
     },
     "execution_count": 55,
     "metadata": {},
     "output_type": "execute_result"
    }
   ],
   "source": [
    "pd.pivot_table(df3, columns=['A'], values = 'C',index=['A','B'])"
   ]
  },
  {
   "cell_type": "code",
   "execution_count": 56,
   "metadata": {},
   "outputs": [],
   "source": [
    "## timeseries\n",
    "\n",
    "rnge = pd.date_range('2019-01-01', periods=100, freq='S')"
   ]
  },
  {
   "cell_type": "code",
   "execution_count": 64,
   "metadata": {},
   "outputs": [],
   "source": [
    "ts = pd.Series(np.random.randint(0,500, len(rnge)), index = rnge)"
   ]
  },
  {
   "cell_type": "code",
   "execution_count": 67,
   "metadata": {},
   "outputs": [
    {
     "data": {
      "text/plain": [
       "2019-01-01 00:00:00    17242\n",
       "2019-01-01 00:01:00     7400\n",
       "Freq: T, dtype: int32"
      ]
     },
     "execution_count": 67,
     "metadata": {},
     "output_type": "execute_result"
    }
   ],
   "source": [
    "ts.resample('1Min').sum()"
   ]
  },
  {
   "cell_type": "code",
   "execution_count": 79,
   "metadata": {},
   "outputs": [],
   "source": [
    "rng = pd.date_range('2019-01-01', periods = 5, freq ='D')"
   ]
  },
  {
   "cell_type": "code",
   "execution_count": 80,
   "metadata": {},
   "outputs": [
    {
     "data": {
      "text/plain": [
       "DatetimeIndex(['2019-01-01', '2019-01-02', '2019-01-03', '2019-01-04',\n",
       "               '2019-01-05'],\n",
       "              dtype='datetime64[ns]', freq='D')"
      ]
     },
     "execution_count": 80,
     "metadata": {},
     "output_type": "execute_result"
    }
   ],
   "source": [
    "rng"
   ]
  },
  {
   "cell_type": "code",
   "execution_count": 97,
   "metadata": {},
   "outputs": [],
   "source": [
    "ts = pd.Series(np.random.randn(len(rng)), index = rng)"
   ]
  },
  {
   "cell_type": "code",
   "execution_count": 98,
   "metadata": {},
   "outputs": [
    {
     "data": {
      "text/plain": [
       "2019-01-01   -0.398072\n",
       "2019-01-02    0.107615\n",
       "2019-01-03    1.051098\n",
       "2019-01-04   -0.161503\n",
       "2019-01-05   -0.821514\n",
       "Freq: D, dtype: float64"
      ]
     },
     "execution_count": 98,
     "metadata": {},
     "output_type": "execute_result"
    }
   ],
   "source": [
    "ts"
   ]
  },
  {
   "cell_type": "code",
   "execution_count": 99,
   "metadata": {},
   "outputs": [],
   "source": [
    "ts = ts.tz_localize('UTC')"
   ]
  },
  {
   "cell_type": "code",
   "execution_count": 100,
   "metadata": {},
   "outputs": [
    {
     "data": {
      "text/plain": [
       "2019-01-01 00:00:00+00:00   -0.398072\n",
       "2019-01-02 00:00:00+00:00    0.107615\n",
       "2019-01-03 00:00:00+00:00    1.051098\n",
       "2019-01-04 00:00:00+00:00   -0.161503\n",
       "2019-01-05 00:00:00+00:00   -0.821514\n",
       "Freq: D, dtype: float64"
      ]
     },
     "execution_count": 100,
     "metadata": {},
     "output_type": "execute_result"
    }
   ],
   "source": [
    "ts"
   ]
  },
  {
   "cell_type": "code",
   "execution_count": 101,
   "metadata": {},
   "outputs": [
    {
     "data": {
      "text/plain": [
       "2018-12-31 19:00:00-05:00   -0.398072\n",
       "2019-01-01 19:00:00-05:00    0.107615\n",
       "2019-01-02 19:00:00-05:00    1.051098\n",
       "2019-01-03 19:00:00-05:00   -0.161503\n",
       "2019-01-04 19:00:00-05:00   -0.821514\n",
       "Freq: D, dtype: float64"
      ]
     },
     "execution_count": 101,
     "metadata": {},
     "output_type": "execute_result"
    }
   ],
   "source": [
    "ts.tz_convert('US/Eastern')"
   ]
  },
  {
   "cell_type": "code",
   "execution_count": 106,
   "metadata": {},
   "outputs": [],
   "source": [
    "ps = ts.to_period()"
   ]
  },
  {
   "cell_type": "code",
   "execution_count": 108,
   "metadata": {},
   "outputs": [
    {
     "data": {
      "text/plain": [
       "2019-01-01   -0.398072\n",
       "2019-01-02    0.107615\n",
       "2019-01-03    1.051098\n",
       "2019-01-04   -0.161503\n",
       "2019-01-05   -0.821514\n",
       "Freq: D, dtype: float64"
      ]
     },
     "execution_count": 108,
     "metadata": {},
     "output_type": "execute_result"
    }
   ],
   "source": [
    "ps.to_timestamp()"
   ]
  },
  {
   "cell_type": "code",
   "execution_count": 109,
   "metadata": {},
   "outputs": [
    {
     "data": {
      "text/plain": [
       "2019-01-01   -0.398072\n",
       "2019-01-02    0.107615\n",
       "2019-01-03    1.051098\n",
       "2019-01-04   -0.161503\n",
       "2019-01-05   -0.821514\n",
       "Freq: D, dtype: float64"
      ]
     },
     "execution_count": 109,
     "metadata": {},
     "output_type": "execute_result"
    }
   ],
   "source": [
    "ps"
   ]
  },
  {
   "cell_type": "code",
   "execution_count": 115,
   "metadata": {},
   "outputs": [],
   "source": [
    "## CAtegorical variables\n",
    "\n",
    "df = pd.DataFrame({'index':[1,2,3,4,5],\n",
    "                  \"raw_grade\":['a','b','c','a','b']})"
   ]
  },
  {
   "cell_type": "code",
   "execution_count": 116,
   "metadata": {},
   "outputs": [
    {
     "data": {
      "text/html": [
       "<div>\n",
       "<style scoped>\n",
       "    .dataframe tbody tr th:only-of-type {\n",
       "        vertical-align: middle;\n",
       "    }\n",
       "\n",
       "    .dataframe tbody tr th {\n",
       "        vertical-align: top;\n",
       "    }\n",
       "\n",
       "    .dataframe thead th {\n",
       "        text-align: right;\n",
       "    }\n",
       "</style>\n",
       "<table border=\"1\" class=\"dataframe\">\n",
       "  <thead>\n",
       "    <tr style=\"text-align: right;\">\n",
       "      <th></th>\n",
       "      <th>index</th>\n",
       "      <th>raw_grade</th>\n",
       "    </tr>\n",
       "  </thead>\n",
       "  <tbody>\n",
       "    <tr>\n",
       "      <th>0</th>\n",
       "      <td>1</td>\n",
       "      <td>a</td>\n",
       "    </tr>\n",
       "    <tr>\n",
       "      <th>1</th>\n",
       "      <td>2</td>\n",
       "      <td>b</td>\n",
       "    </tr>\n",
       "    <tr>\n",
       "      <th>2</th>\n",
       "      <td>3</td>\n",
       "      <td>c</td>\n",
       "    </tr>\n",
       "    <tr>\n",
       "      <th>3</th>\n",
       "      <td>4</td>\n",
       "      <td>a</td>\n",
       "    </tr>\n",
       "    <tr>\n",
       "      <th>4</th>\n",
       "      <td>5</td>\n",
       "      <td>b</td>\n",
       "    </tr>\n",
       "  </tbody>\n",
       "</table>\n",
       "</div>"
      ],
      "text/plain": [
       "   index raw_grade\n",
       "0      1         a\n",
       "1      2         b\n",
       "2      3         c\n",
       "3      4         a\n",
       "4      5         b"
      ]
     },
     "execution_count": 116,
     "metadata": {},
     "output_type": "execute_result"
    }
   ],
   "source": [
    "df"
   ]
  },
  {
   "cell_type": "code",
   "execution_count": 118,
   "metadata": {},
   "outputs": [
    {
     "data": {
      "text/plain": [
       "index         int64\n",
       "raw_grade    object\n",
       "dtype: object"
      ]
     },
     "execution_count": 118,
     "metadata": {},
     "output_type": "execute_result"
    }
   ],
   "source": [
    "df.dtypes"
   ]
  },
  {
   "cell_type": "code",
   "execution_count": 120,
   "metadata": {},
   "outputs": [],
   "source": [
    "df['grade'] = df['raw_grade'].astype(\"category\")"
   ]
  },
  {
   "cell_type": "code",
   "execution_count": 121,
   "metadata": {},
   "outputs": [
    {
     "data": {
      "text/html": [
       "<div>\n",
       "<style scoped>\n",
       "    .dataframe tbody tr th:only-of-type {\n",
       "        vertical-align: middle;\n",
       "    }\n",
       "\n",
       "    .dataframe tbody tr th {\n",
       "        vertical-align: top;\n",
       "    }\n",
       "\n",
       "    .dataframe thead th {\n",
       "        text-align: right;\n",
       "    }\n",
       "</style>\n",
       "<table border=\"1\" class=\"dataframe\">\n",
       "  <thead>\n",
       "    <tr style=\"text-align: right;\">\n",
       "      <th></th>\n",
       "      <th>index</th>\n",
       "      <th>raw_grade</th>\n",
       "      <th>grade</th>\n",
       "    </tr>\n",
       "  </thead>\n",
       "  <tbody>\n",
       "    <tr>\n",
       "      <th>0</th>\n",
       "      <td>1</td>\n",
       "      <td>a</td>\n",
       "      <td>a</td>\n",
       "    </tr>\n",
       "    <tr>\n",
       "      <th>1</th>\n",
       "      <td>2</td>\n",
       "      <td>b</td>\n",
       "      <td>b</td>\n",
       "    </tr>\n",
       "    <tr>\n",
       "      <th>2</th>\n",
       "      <td>3</td>\n",
       "      <td>c</td>\n",
       "      <td>c</td>\n",
       "    </tr>\n",
       "    <tr>\n",
       "      <th>3</th>\n",
       "      <td>4</td>\n",
       "      <td>a</td>\n",
       "      <td>a</td>\n",
       "    </tr>\n",
       "    <tr>\n",
       "      <th>4</th>\n",
       "      <td>5</td>\n",
       "      <td>b</td>\n",
       "      <td>b</td>\n",
       "    </tr>\n",
       "  </tbody>\n",
       "</table>\n",
       "</div>"
      ],
      "text/plain": [
       "   index raw_grade grade\n",
       "0      1         a     a\n",
       "1      2         b     b\n",
       "2      3         c     c\n",
       "3      4         a     a\n",
       "4      5         b     b"
      ]
     },
     "execution_count": 121,
     "metadata": {},
     "output_type": "execute_result"
    }
   ],
   "source": [
    "df\n"
   ]
  },
  {
   "cell_type": "code",
   "execution_count": 122,
   "metadata": {},
   "outputs": [
    {
     "data": {
      "text/plain": [
       "index           int64\n",
       "raw_grade      object\n",
       "grade        category\n",
       "dtype: object"
      ]
     },
     "execution_count": 122,
     "metadata": {},
     "output_type": "execute_result"
    }
   ],
   "source": [
    "df.dtypes"
   ]
  },
  {
   "cell_type": "code",
   "execution_count": 123,
   "metadata": {},
   "outputs": [
    {
     "data": {
      "text/plain": [
       "Index(['a', 'b', 'c'], dtype='object')"
      ]
     },
     "execution_count": 123,
     "metadata": {},
     "output_type": "execute_result"
    }
   ],
   "source": [
    "df['grade'].cat.categories "
   ]
  },
  {
   "cell_type": "code",
   "execution_count": 124,
   "metadata": {},
   "outputs": [],
   "source": [
    "df['grade'].cat.categories = [\"very good\", \"good\",\"very bad\"]"
   ]
  },
  {
   "cell_type": "code",
   "execution_count": 125,
   "metadata": {},
   "outputs": [
    {
     "data": {
      "text/plain": [
       "Index(['very good', 'good', 'very bad'], dtype='object')"
      ]
     },
     "execution_count": 125,
     "metadata": {},
     "output_type": "execute_result"
    }
   ],
   "source": [
    "df['grade'].cat.categories"
   ]
  },
  {
   "cell_type": "code",
   "execution_count": 126,
   "metadata": {},
   "outputs": [
    {
     "data": {
      "text/html": [
       "<div>\n",
       "<style scoped>\n",
       "    .dataframe tbody tr th:only-of-type {\n",
       "        vertical-align: middle;\n",
       "    }\n",
       "\n",
       "    .dataframe tbody tr th {\n",
       "        vertical-align: top;\n",
       "    }\n",
       "\n",
       "    .dataframe thead th {\n",
       "        text-align: right;\n",
       "    }\n",
       "</style>\n",
       "<table border=\"1\" class=\"dataframe\">\n",
       "  <thead>\n",
       "    <tr style=\"text-align: right;\">\n",
       "      <th></th>\n",
       "      <th>index</th>\n",
       "      <th>raw_grade</th>\n",
       "      <th>grade</th>\n",
       "    </tr>\n",
       "  </thead>\n",
       "  <tbody>\n",
       "    <tr>\n",
       "      <th>0</th>\n",
       "      <td>1</td>\n",
       "      <td>a</td>\n",
       "      <td>very good</td>\n",
       "    </tr>\n",
       "    <tr>\n",
       "      <th>1</th>\n",
       "      <td>2</td>\n",
       "      <td>b</td>\n",
       "      <td>good</td>\n",
       "    </tr>\n",
       "    <tr>\n",
       "      <th>2</th>\n",
       "      <td>3</td>\n",
       "      <td>c</td>\n",
       "      <td>very bad</td>\n",
       "    </tr>\n",
       "    <tr>\n",
       "      <th>3</th>\n",
       "      <td>4</td>\n",
       "      <td>a</td>\n",
       "      <td>very good</td>\n",
       "    </tr>\n",
       "    <tr>\n",
       "      <th>4</th>\n",
       "      <td>5</td>\n",
       "      <td>b</td>\n",
       "      <td>good</td>\n",
       "    </tr>\n",
       "  </tbody>\n",
       "</table>\n",
       "</div>"
      ],
      "text/plain": [
       "   index raw_grade      grade\n",
       "0      1         a  very good\n",
       "1      2         b       good\n",
       "2      3         c   very bad\n",
       "3      4         a  very good\n",
       "4      5         b       good"
      ]
     },
     "execution_count": 126,
     "metadata": {},
     "output_type": "execute_result"
    }
   ],
   "source": [
    "df"
   ]
  },
  {
   "cell_type": "code",
   "execution_count": 127,
   "metadata": {},
   "outputs": [],
   "source": [
    "df['grade'] =df['grade'].cat.set_categories(['very bad','bad','medium','good'])"
   ]
  },
  {
   "cell_type": "code",
   "execution_count": 128,
   "metadata": {},
   "outputs": [
    {
     "data": {
      "text/html": [
       "<div>\n",
       "<style scoped>\n",
       "    .dataframe tbody tr th:only-of-type {\n",
       "        vertical-align: middle;\n",
       "    }\n",
       "\n",
       "    .dataframe tbody tr th {\n",
       "        vertical-align: top;\n",
       "    }\n",
       "\n",
       "    .dataframe thead th {\n",
       "        text-align: right;\n",
       "    }\n",
       "</style>\n",
       "<table border=\"1\" class=\"dataframe\">\n",
       "  <thead>\n",
       "    <tr style=\"text-align: right;\">\n",
       "      <th></th>\n",
       "      <th>index</th>\n",
       "      <th>raw_grade</th>\n",
       "      <th>grade</th>\n",
       "    </tr>\n",
       "  </thead>\n",
       "  <tbody>\n",
       "    <tr>\n",
       "      <th>0</th>\n",
       "      <td>1</td>\n",
       "      <td>a</td>\n",
       "      <td>NaN</td>\n",
       "    </tr>\n",
       "    <tr>\n",
       "      <th>1</th>\n",
       "      <td>2</td>\n",
       "      <td>b</td>\n",
       "      <td>good</td>\n",
       "    </tr>\n",
       "    <tr>\n",
       "      <th>2</th>\n",
       "      <td>3</td>\n",
       "      <td>c</td>\n",
       "      <td>very bad</td>\n",
       "    </tr>\n",
       "    <tr>\n",
       "      <th>3</th>\n",
       "      <td>4</td>\n",
       "      <td>a</td>\n",
       "      <td>NaN</td>\n",
       "    </tr>\n",
       "    <tr>\n",
       "      <th>4</th>\n",
       "      <td>5</td>\n",
       "      <td>b</td>\n",
       "      <td>good</td>\n",
       "    </tr>\n",
       "  </tbody>\n",
       "</table>\n",
       "</div>"
      ],
      "text/plain": [
       "   index raw_grade     grade\n",
       "0      1         a       NaN\n",
       "1      2         b      good\n",
       "2      3         c  very bad\n",
       "3      4         a       NaN\n",
       "4      5         b      good"
      ]
     },
     "execution_count": 128,
     "metadata": {},
     "output_type": "execute_result"
    }
   ],
   "source": [
    "df"
   ]
  },
  {
   "cell_type": "code",
   "execution_count": 129,
   "metadata": {},
   "outputs": [
    {
     "data": {
      "text/html": [
       "<div>\n",
       "<style scoped>\n",
       "    .dataframe tbody tr th:only-of-type {\n",
       "        vertical-align: middle;\n",
       "    }\n",
       "\n",
       "    .dataframe tbody tr th {\n",
       "        vertical-align: top;\n",
       "    }\n",
       "\n",
       "    .dataframe thead th {\n",
       "        text-align: right;\n",
       "    }\n",
       "</style>\n",
       "<table border=\"1\" class=\"dataframe\">\n",
       "  <thead>\n",
       "    <tr style=\"text-align: right;\">\n",
       "      <th></th>\n",
       "      <th>index</th>\n",
       "      <th>raw_grade</th>\n",
       "      <th>grade</th>\n",
       "    </tr>\n",
       "  </thead>\n",
       "  <tbody>\n",
       "    <tr>\n",
       "      <th>2</th>\n",
       "      <td>3</td>\n",
       "      <td>c</td>\n",
       "      <td>very bad</td>\n",
       "    </tr>\n",
       "    <tr>\n",
       "      <th>1</th>\n",
       "      <td>2</td>\n",
       "      <td>b</td>\n",
       "      <td>good</td>\n",
       "    </tr>\n",
       "    <tr>\n",
       "      <th>4</th>\n",
       "      <td>5</td>\n",
       "      <td>b</td>\n",
       "      <td>good</td>\n",
       "    </tr>\n",
       "    <tr>\n",
       "      <th>0</th>\n",
       "      <td>1</td>\n",
       "      <td>a</td>\n",
       "      <td>NaN</td>\n",
       "    </tr>\n",
       "    <tr>\n",
       "      <th>3</th>\n",
       "      <td>4</td>\n",
       "      <td>a</td>\n",
       "      <td>NaN</td>\n",
       "    </tr>\n",
       "  </tbody>\n",
       "</table>\n",
       "</div>"
      ],
      "text/plain": [
       "   index raw_grade     grade\n",
       "2      3         c  very bad\n",
       "1      2         b      good\n",
       "4      5         b      good\n",
       "0      1         a       NaN\n",
       "3      4         a       NaN"
      ]
     },
     "execution_count": 129,
     "metadata": {},
     "output_type": "execute_result"
    }
   ],
   "source": [
    "df.sort_values(by='grade')"
   ]
  },
  {
   "cell_type": "code",
   "execution_count": 130,
   "metadata": {},
   "outputs": [
    {
     "data": {
      "text/plain": [
       "<pandas.core.groupby.generic.DataFrameGroupBy object at 0x00000249ACDFBBA8>"
      ]
     },
     "execution_count": 130,
     "metadata": {},
     "output_type": "execute_result"
    }
   ],
   "source": [
    "df.groupby('grade').size()"
   ]
  },
  {
   "cell_type": "code",
   "execution_count": 146,
   "metadata": {},
   "outputs": [],
   "source": [
    "#plotting\n",
    "\n",
    "ts = pd.Series(np.random.randn(1000), index = pd.date_range('2019-01-01', periods=1000))"
   ]
  },
  {
   "cell_type": "code",
   "execution_count": 148,
   "metadata": {},
   "outputs": [],
   "source": [
    "ts = ts.cumsum()"
   ]
  },
  {
   "cell_type": "code",
   "execution_count": 149,
   "metadata": {},
   "outputs": [
    {
     "data": {
      "text/plain": [
       "2019-01-01     0.836577\n",
       "2019-01-02    -0.084450\n",
       "2019-01-03    -0.952765\n",
       "2019-01-04    -1.461147\n",
       "2019-01-05    -0.512392\n",
       "2019-01-06     0.022694\n",
       "2019-01-07     0.604204\n",
       "2019-01-08     0.399404\n",
       "2019-01-09    -0.213913\n",
       "2019-01-10    -0.050883\n",
       "2019-01-11    -1.616350\n",
       "2019-01-12    -2.306809\n",
       "2019-01-13    -1.273035\n",
       "2019-01-14    -2.474943\n",
       "2019-01-15    -2.429416\n",
       "2019-01-16    -2.806729\n",
       "2019-01-17    -3.327317\n",
       "2019-01-18    -4.282555\n",
       "2019-01-19    -4.061066\n",
       "2019-01-20    -3.319352\n",
       "2019-01-21    -3.039134\n",
       "2019-01-22    -3.207481\n",
       "2019-01-23    -3.965303\n",
       "2019-01-24    -2.903303\n",
       "2019-01-25    -3.348484\n",
       "2019-01-26    -5.016449\n",
       "2019-01-27    -5.470036\n",
       "2019-01-28    -5.725362\n",
       "2019-01-29    -5.893434\n",
       "2019-01-30    -6.776213\n",
       "                ...    \n",
       "2021-08-28   -51.419941\n",
       "2021-08-29   -51.001363\n",
       "2021-08-30   -50.330880\n",
       "2021-08-31   -49.344880\n",
       "2021-09-01   -49.813950\n",
       "2021-09-02   -47.823767\n",
       "2021-09-03   -48.394929\n",
       "2021-09-04   -48.112321\n",
       "2021-09-05   -48.084650\n",
       "2021-09-06   -50.149251\n",
       "2021-09-07   -49.690086\n",
       "2021-09-08   -48.239357\n",
       "2021-09-09   -48.273324\n",
       "2021-09-10   -47.876953\n",
       "2021-09-11   -49.472264\n",
       "2021-09-12   -49.466636\n",
       "2021-09-13   -48.984776\n",
       "2021-09-14   -48.312741\n",
       "2021-09-15   -49.078549\n",
       "2021-09-16   -48.934454\n",
       "2021-09-17   -49.829856\n",
       "2021-09-18   -47.934257\n",
       "2021-09-19   -48.806556\n",
       "2021-09-20   -49.553510\n",
       "2021-09-21   -48.749898\n",
       "2021-09-22   -49.390634\n",
       "2021-09-23   -49.194190\n",
       "2021-09-24   -48.912411\n",
       "2021-09-25   -50.542103\n",
       "2021-09-26   -51.150866\n",
       "Freq: D, Length: 1000, dtype: float64"
      ]
     },
     "execution_count": 149,
     "metadata": {},
     "output_type": "execute_result"
    }
   ],
   "source": [
    "ts"
   ]
  },
  {
   "cell_type": "code",
   "execution_count": 150,
   "metadata": {},
   "outputs": [],
   "source": [
    "%matplotlib inline"
   ]
  },
  {
   "cell_type": "code",
   "execution_count": 151,
   "metadata": {},
   "outputs": [
    {
     "data": {
      "text/plain": [
       "<matplotlib.axes._subplots.AxesSubplot at 0x249acb9cda0>"
      ]
     },
     "execution_count": 151,
     "metadata": {},
     "output_type": "execute_result"
    },
    {
     "data": {
      "image/png": "[encoded data removed]",
      "text/plain": [
       "<Figure size 432x288 with 1 Axes>"
      ]
     },
     "metadata": {
      "needs_background": "light"
     },
     "output_type": "display_data"
    }
   ],
   "source": [
    "ts.plot()"
   ]
  },
  {
   "cell_type": "code",
   "execution_count": 152,
   "metadata": {},
   "outputs": [
    {
     "data": {
      "text/plain": [
       "DatetimeIndex(['2019-01-01', '2019-01-02', '2019-01-03', '2019-01-04',\n",
       "               '2019-01-05', '2019-01-06', '2019-01-07', '2019-01-08',\n",
       "               '2019-01-09', '2019-01-10',\n",
       "               ...\n",
       "               '2021-09-17', '2021-09-18', '2021-09-19', '2021-09-20',\n",
       "               '2021-09-21', '2021-09-22', '2021-09-23', '2021-09-24',\n",
       "               '2021-09-25', '2021-09-26'],\n",
       "              dtype='datetime64[ns]', length=1000, freq='D')"
      ]
     },
     "execution_count": 152,
     "metadata": {},
     "output_type": "execute_result"
    }
   ],
   "source": [
    "ts.index"
   ]
  },
  {
   "cell_type": "code",
   "execution_count": 153,
   "metadata": {},
   "outputs": [],
   "source": [
    "df = pd.DataFrame(np.random.randn(1000,4), index = ts.index, columns = ['A','B','C','D'])"
   ]
  },
  {
   "cell_type": "code",
   "execution_count": 155,
   "metadata": {},
   "outputs": [
    {
     "data": {
      "text/html": [
       "<div>\n",
       "<style scoped>\n",
       "    .dataframe tbody tr th:only-of-type {\n",
       "        vertical-align: middle;\n",
       "    }\n",
       "\n",
       "    .dataframe tbody tr th {\n",
       "        vertical-align: top;\n",
       "    }\n",
       "\n",
       "    .dataframe thead th {\n",
       "        text-align: right;\n",
       "    }\n",
       "</style>\n",
       "<table border=\"1\" class=\"dataframe\">\n",
       "  <thead>\n",
       "    <tr style=\"text-align: right;\">\n",
       "      <th></th>\n",
       "      <th>A</th>\n",
       "      <th>B</th>\n",
       "      <th>C</th>\n",
       "      <th>D</th>\n",
       "    </tr>\n",
       "  </thead>\n",
       "  <tbody>\n",
       "    <tr>\n",
       "      <th>2019-01-01</th>\n",
       "      <td>0.523949</td>\n",
       "      <td>0.249881</td>\n",
       "      <td>-0.148649</td>\n",
       "      <td>-0.172596</td>\n",
       "    </tr>\n",
       "    <tr>\n",
       "      <th>2019-01-02</th>\n",
       "      <td>0.963893</td>\n",
       "      <td>-0.131222</td>\n",
       "      <td>-0.811091</td>\n",
       "      <td>1.129685</td>\n",
       "    </tr>\n",
       "    <tr>\n",
       "      <th>2019-01-03</th>\n",
       "      <td>0.605574</td>\n",
       "      <td>1.761901</td>\n",
       "      <td>-0.972135</td>\n",
       "      <td>-0.252071</td>\n",
       "    </tr>\n",
       "    <tr>\n",
       "      <th>2019-01-04</th>\n",
       "      <td>0.127078</td>\n",
       "      <td>0.008075</td>\n",
       "      <td>-0.742929</td>\n",
       "      <td>-0.334697</td>\n",
       "    </tr>\n",
       "    <tr>\n",
       "      <th>2019-01-05</th>\n",
       "      <td>1.753570</td>\n",
       "      <td>-1.275738</td>\n",
       "      <td>0.240005</td>\n",
       "      <td>1.495781</td>\n",
       "    </tr>\n",
       "  </tbody>\n",
       "</table>\n",
       "</div>"
      ],
      "text/plain": [
       "                   A         B         C         D\n",
       "2019-01-01  0.523949  0.249881 -0.148649 -0.172596\n",
       "2019-01-02  0.963893 -0.131222 -0.811091  1.129685\n",
       "2019-01-03  0.605574  1.761901 -0.972135 -0.252071\n",
       "2019-01-04  0.127078  0.008075 -0.742929 -0.334697\n",
       "2019-01-05  1.753570 -1.275738  0.240005  1.495781"
      ]
     },
     "execution_count": 155,
     "metadata": {},
     "output_type": "execute_result"
    }
   ],
   "source": [
    "df.head()"
   ]
  },
  {
   "cell_type": "code",
   "execution_count": 159,
   "metadata": {},
   "outputs": [],
   "source": [
    "df = df.cumsum()"
   ]
  },
  {
   "cell_type": "code",
   "execution_count": 163,
   "metadata": {},
   "outputs": [
    {
     "data": {
      "text/plain": [
       "<matplotlib.legend.Legend at 0x249a6728b70>"
      ]
     },
     "execution_count": 163,
     "metadata": {},
     "output_type": "execute_result"
    },
    {
     "data": {
      "text/plain": [
       "<Figure size 432x288 with 0 Axes>"
      ]
     },
     "metadata": {},
     "output_type": "display_data"
    },
    {
     "data": {
      "image/png": "[encoded data removed]",
      "text/plain": [
       "<Figure size 432x288 with 1 Axes>"
      ]
     },
     "metadata": {
      "needs_background": "light"
     },
     "output_type": "display_data"
    }
   ],
   "source": [
    "import matplotlib.pyplot as plt\n",
    "plt.figure()\n",
    "df.plot()\n",
    "plt.legend(loc='best')"
   ]
  },
  {
   "cell_type": "code",
   "execution_count": 164,
   "metadata": {},
   "outputs": [],
   "source": [
    "df.to_csv('foo.csv')"
   ]
  },
  {
   "cell_type": "code",
   "execution_count": 165,
   "metadata": {},
   "outputs": [
    {
     "data": {
      "text/plain": [
       "'C:\\\\Users\\\\H303937'"
      ]
     },
     "execution_count": 165,
     "metadata": {},
     "output_type": "execute_result"
    }
   ],
   "source": [
    "import os\n",
    "os.getcwd()"
   ]
  },
  {
   "cell_type": "code",
   "execution_count": 166,
   "metadata": {},
   "outputs": [],
   "source": [
    "df.to_hdf('foo.h5','df')"
   ]
  },
  {
   "cell_type": "code",
   "execution_count": 167,
   "metadata": {},
   "outputs": [
    {
     "data": {
      "text/html": [
       "<div>\n",
       "<style scoped>\n",
       "    .dataframe tbody tr th:only-of-type {\n",
       "        vertical-align: middle;\n",
       "    }\n",
       "\n",
       "    .dataframe tbody tr th {\n",
       "        vertical-align: top;\n",
       "    }\n",
       "\n",
       "    .dataframe thead th {\n",
       "        text-align: right;\n",
       "    }\n",
       "</style>\n",
       "<table border=\"1\" class=\"dataframe\">\n",
       "  <thead>\n",
       "    <tr style=\"text-align: right;\">\n",
       "      <th></th>\n",
       "      <th>A</th>\n",
       "      <th>B</th>\n",
       "      <th>C</th>\n",
       "      <th>D</th>\n",
       "    </tr>\n",
       "  </thead>\n",
       "  <tbody>\n",
       "    <tr>\n",
       "      <th>2019-01-01</th>\n",
       "      <td>0.523949</td>\n",
       "      <td>0.249881</td>\n",
       "      <td>-0.148649</td>\n",
       "      <td>-0.172596</td>\n",
       "    </tr>\n",
       "    <tr>\n",
       "      <th>2019-01-02</th>\n",
       "      <td>1.487842</td>\n",
       "      <td>0.118660</td>\n",
       "      <td>-0.959740</td>\n",
       "      <td>0.957089</td>\n",
       "    </tr>\n",
       "    <tr>\n",
       "      <th>2019-01-03</th>\n",
       "      <td>2.093416</td>\n",
       "      <td>1.880561</td>\n",
       "      <td>-1.931875</td>\n",
       "      <td>0.705018</td>\n",
       "    </tr>\n",
       "    <tr>\n",
       "      <th>2019-01-04</th>\n",
       "      <td>2.220494</td>\n",
       "      <td>1.888636</td>\n",
       "      <td>-2.674804</td>\n",
       "      <td>0.370320</td>\n",
       "    </tr>\n",
       "    <tr>\n",
       "      <th>2019-01-05</th>\n",
       "      <td>3.974064</td>\n",
       "      <td>0.612897</td>\n",
       "      <td>-2.434798</td>\n",
       "      <td>1.866102</td>\n",
       "    </tr>\n",
       "    <tr>\n",
       "      <th>2019-01-06</th>\n",
       "      <td>5.726995</td>\n",
       "      <td>-0.194204</td>\n",
       "      <td>-1.660733</td>\n",
       "      <td>2.802785</td>\n",
       "    </tr>\n",
       "    <tr>\n",
       "      <th>2019-01-07</th>\n",
       "      <td>5.031794</td>\n",
       "      <td>-0.866745</td>\n",
       "      <td>-1.390889</td>\n",
       "      <td>3.294852</td>\n",
       "    </tr>\n",
       "    <tr>\n",
       "      <th>2019-01-08</th>\n",
       "      <td>3.380498</td>\n",
       "      <td>-0.109138</td>\n",
       "      <td>-1.401870</td>\n",
       "      <td>2.960603</td>\n",
       "    </tr>\n",
       "    <tr>\n",
       "      <th>2019-01-09</th>\n",
       "      <td>1.996223</td>\n",
       "      <td>1.327485</td>\n",
       "      <td>-1.725889</td>\n",
       "      <td>3.653457</td>\n",
       "    </tr>\n",
       "    <tr>\n",
       "      <th>2019-01-10</th>\n",
       "      <td>1.595477</td>\n",
       "      <td>0.718954</td>\n",
       "      <td>-1.203430</td>\n",
       "      <td>2.461033</td>\n",
       "    </tr>\n",
       "    <tr>\n",
       "      <th>2019-01-11</th>\n",
       "      <td>2.247974</td>\n",
       "      <td>0.946614</td>\n",
       "      <td>-3.134828</td>\n",
       "      <td>2.924506</td>\n",
       "    </tr>\n",
       "    <tr>\n",
       "      <th>2019-01-12</th>\n",
       "      <td>2.370672</td>\n",
       "      <td>1.905995</td>\n",
       "      <td>-1.613461</td>\n",
       "      <td>3.029584</td>\n",
       "    </tr>\n",
       "    <tr>\n",
       "      <th>2019-01-13</th>\n",
       "      <td>0.291650</td>\n",
       "      <td>1.169024</td>\n",
       "      <td>-2.720008</td>\n",
       "      <td>2.429882</td>\n",
       "    </tr>\n",
       "    <tr>\n",
       "      <th>2019-01-14</th>\n",
       "      <td>-0.664820</td>\n",
       "      <td>2.013511</td>\n",
       "      <td>-1.231987</td>\n",
       "      <td>2.621130</td>\n",
       "    </tr>\n",
       "    <tr>\n",
       "      <th>2019-01-15</th>\n",
       "      <td>0.804693</td>\n",
       "      <td>2.122975</td>\n",
       "      <td>-2.304291</td>\n",
       "      <td>2.111855</td>\n",
       "    </tr>\n",
       "    <tr>\n",
       "      <th>2019-01-16</th>\n",
       "      <td>-0.057998</td>\n",
       "      <td>3.989178</td>\n",
       "      <td>-2.477135</td>\n",
       "      <td>0.883367</td>\n",
       "    </tr>\n",
       "    <tr>\n",
       "      <th>2019-01-17</th>\n",
       "      <td>-1.259748</td>\n",
       "      <td>4.504926</td>\n",
       "      <td>-3.614533</td>\n",
       "      <td>0.616278</td>\n",
       "    </tr>\n",
       "    <tr>\n",
       "      <th>2019-01-18</th>\n",
       "      <td>-1.616151</td>\n",
       "      <td>4.788949</td>\n",
       "      <td>-4.577882</td>\n",
       "      <td>0.653749</td>\n",
       "    </tr>\n",
       "    <tr>\n",
       "      <th>2019-01-19</th>\n",
       "      <td>-0.521504</td>\n",
       "      <td>4.436337</td>\n",
       "      <td>-5.028642</td>\n",
       "      <td>-1.304451</td>\n",
       "    </tr>\n",
       "    <tr>\n",
       "      <th>2019-01-20</th>\n",
       "      <td>-1.274993</td>\n",
       "      <td>3.752037</td>\n",
       "      <td>-3.068566</td>\n",
       "      <td>-1.670279</td>\n",
       "    </tr>\n",
       "    <tr>\n",
       "      <th>2019-01-21</th>\n",
       "      <td>-2.740939</td>\n",
       "      <td>4.814241</td>\n",
       "      <td>-3.402911</td>\n",
       "      <td>-4.018415</td>\n",
       "    </tr>\n",
       "    <tr>\n",
       "      <th>2019-01-22</th>\n",
       "      <td>-1.727339</td>\n",
       "      <td>2.145627</td>\n",
       "      <td>-3.448974</td>\n",
       "      <td>-1.278673</td>\n",
       "    </tr>\n",
       "    <tr>\n",
       "      <th>2019-01-23</th>\n",
       "      <td>-2.012779</td>\n",
       "      <td>2.829572</td>\n",
       "      <td>-1.752644</td>\n",
       "      <td>-2.951540</td>\n",
       "    </tr>\n",
       "    <tr>\n",
       "      <th>2019-01-24</th>\n",
       "      <td>-1.082548</td>\n",
       "      <td>1.984750</td>\n",
       "      <td>-3.113302</td>\n",
       "      <td>-4.504289</td>\n",
       "    </tr>\n",
       "    <tr>\n",
       "      <th>2019-01-25</th>\n",
       "      <td>-1.823544</td>\n",
       "      <td>-0.491144</td>\n",
       "      <td>-3.018099</td>\n",
       "      <td>-4.413291</td>\n",
       "    </tr>\n",
       "    <tr>\n",
       "      <th>2019-01-26</th>\n",
       "      <td>-1.578670</td>\n",
       "      <td>-2.197954</td>\n",
       "      <td>-2.966474</td>\n",
       "      <td>-2.498654</td>\n",
       "    </tr>\n",
       "    <tr>\n",
       "      <th>2019-01-27</th>\n",
       "      <td>-0.512901</td>\n",
       "      <td>-2.463362</td>\n",
       "      <td>-4.712950</td>\n",
       "      <td>-3.142409</td>\n",
       "    </tr>\n",
       "    <tr>\n",
       "      <th>2019-01-28</th>\n",
       "      <td>-1.269385</td>\n",
       "      <td>-1.812662</td>\n",
       "      <td>-4.829758</td>\n",
       "      <td>-2.939966</td>\n",
       "    </tr>\n",
       "    <tr>\n",
       "      <th>2019-01-29</th>\n",
       "      <td>-3.399977</td>\n",
       "      <td>-3.813499</td>\n",
       "      <td>-5.498323</td>\n",
       "      <td>-3.309271</td>\n",
       "    </tr>\n",
       "    <tr>\n",
       "      <th>2019-01-30</th>\n",
       "      <td>-3.255281</td>\n",
       "      <td>-3.641789</td>\n",
       "      <td>-5.193738</td>\n",
       "      <td>-2.733400</td>\n",
       "    </tr>\n",
       "    <tr>\n",
       "      <th>...</th>\n",
       "      <td>...</td>\n",
       "      <td>...</td>\n",
       "      <td>...</td>\n",
       "      <td>...</td>\n",
       "    </tr>\n",
       "    <tr>\n",
       "      <th>2021-08-28</th>\n",
       "      <td>-3.592300</td>\n",
       "      <td>-72.943237</td>\n",
       "      <td>24.349401</td>\n",
       "      <td>95.774376</td>\n",
       "    </tr>\n",
       "    <tr>\n",
       "      <th>2021-08-29</th>\n",
       "      <td>-2.356957</td>\n",
       "      <td>-74.651236</td>\n",
       "      <td>23.931126</td>\n",
       "      <td>95.199000</td>\n",
       "    </tr>\n",
       "    <tr>\n",
       "      <th>2021-08-30</th>\n",
       "      <td>-3.349335</td>\n",
       "      <td>-74.617638</td>\n",
       "      <td>24.473695</td>\n",
       "      <td>96.386934</td>\n",
       "    </tr>\n",
       "    <tr>\n",
       "      <th>2021-08-31</th>\n",
       "      <td>-4.926496</td>\n",
       "      <td>-74.693923</td>\n",
       "      <td>25.220873</td>\n",
       "      <td>95.048544</td>\n",
       "    </tr>\n",
       "    <tr>\n",
       "      <th>2021-09-01</th>\n",
       "      <td>-5.487759</td>\n",
       "      <td>-74.263722</td>\n",
       "      <td>25.859443</td>\n",
       "      <td>95.057402</td>\n",
       "    </tr>\n",
       "    <tr>\n",
       "      <th>2021-09-02</th>\n",
       "      <td>-5.843576</td>\n",
       "      <td>-75.712068</td>\n",
       "      <td>25.283210</td>\n",
       "      <td>94.213102</td>\n",
       "    </tr>\n",
       "    <tr>\n",
       "      <th>2021-09-03</th>\n",
       "      <td>-5.616271</td>\n",
       "      <td>-77.389705</td>\n",
       "      <td>22.875529</td>\n",
       "      <td>93.747336</td>\n",
       "    </tr>\n",
       "    <tr>\n",
       "      <th>2021-09-04</th>\n",
       "      <td>-4.163028</td>\n",
       "      <td>-78.750837</td>\n",
       "      <td>22.294216</td>\n",
       "      <td>92.313142</td>\n",
       "    </tr>\n",
       "    <tr>\n",
       "      <th>2021-09-05</th>\n",
       "      <td>-4.288850</td>\n",
       "      <td>-80.030038</td>\n",
       "      <td>21.229888</td>\n",
       "      <td>91.836667</td>\n",
       "    </tr>\n",
       "    <tr>\n",
       "      <th>2021-09-06</th>\n",
       "      <td>-4.910212</td>\n",
       "      <td>-78.566396</td>\n",
       "      <td>19.279254</td>\n",
       "      <td>90.288269</td>\n",
       "    </tr>\n",
       "    <tr>\n",
       "      <th>2021-09-07</th>\n",
       "      <td>-5.723056</td>\n",
       "      <td>-77.969117</td>\n",
       "      <td>19.738935</td>\n",
       "      <td>91.201056</td>\n",
       "    </tr>\n",
       "    <tr>\n",
       "      <th>2021-09-08</th>\n",
       "      <td>-6.301687</td>\n",
       "      <td>-79.118192</td>\n",
       "      <td>19.213850</td>\n",
       "      <td>93.806391</td>\n",
       "    </tr>\n",
       "    <tr>\n",
       "      <th>2021-09-09</th>\n",
       "      <td>-7.804226</td>\n",
       "      <td>-79.063327</td>\n",
       "      <td>18.918889</td>\n",
       "      <td>93.726224</td>\n",
       "    </tr>\n",
       "    <tr>\n",
       "      <th>2021-09-10</th>\n",
       "      <td>-9.428616</td>\n",
       "      <td>-80.206632</td>\n",
       "      <td>19.043045</td>\n",
       "      <td>95.443831</td>\n",
       "    </tr>\n",
       "    <tr>\n",
       "      <th>2021-09-11</th>\n",
       "      <td>-9.572717</td>\n",
       "      <td>-79.861259</td>\n",
       "      <td>19.972179</td>\n",
       "      <td>95.598672</td>\n",
       "    </tr>\n",
       "    <tr>\n",
       "      <th>2021-09-12</th>\n",
       "      <td>-9.304499</td>\n",
       "      <td>-80.354605</td>\n",
       "      <td>20.949590</td>\n",
       "      <td>95.343995</td>\n",
       "    </tr>\n",
       "    <tr>\n",
       "      <th>2021-09-13</th>\n",
       "      <td>-8.797612</td>\n",
       "      <td>-81.830348</td>\n",
       "      <td>20.201244</td>\n",
       "      <td>95.066187</td>\n",
       "    </tr>\n",
       "    <tr>\n",
       "      <th>2021-09-14</th>\n",
       "      <td>-7.365923</td>\n",
       "      <td>-81.619358</td>\n",
       "      <td>19.784697</td>\n",
       "      <td>98.114022</td>\n",
       "    </tr>\n",
       "    <tr>\n",
       "      <th>2021-09-15</th>\n",
       "      <td>-6.809759</td>\n",
       "      <td>-80.476569</td>\n",
       "      <td>20.531040</td>\n",
       "      <td>97.860817</td>\n",
       "    </tr>\n",
       "    <tr>\n",
       "      <th>2021-09-16</th>\n",
       "      <td>-6.916367</td>\n",
       "      <td>-80.905765</td>\n",
       "      <td>21.894923</td>\n",
       "      <td>97.770623</td>\n",
       "    </tr>\n",
       "    <tr>\n",
       "      <th>2021-09-17</th>\n",
       "      <td>-8.001715</td>\n",
       "      <td>-80.390727</td>\n",
       "      <td>24.134379</td>\n",
       "      <td>98.705122</td>\n",
       "    </tr>\n",
       "    <tr>\n",
       "      <th>2021-09-18</th>\n",
       "      <td>-9.154779</td>\n",
       "      <td>-79.746333</td>\n",
       "      <td>24.991255</td>\n",
       "      <td>99.249233</td>\n",
       "    </tr>\n",
       "    <tr>\n",
       "      <th>2021-09-19</th>\n",
       "      <td>-9.924852</td>\n",
       "      <td>-78.172177</td>\n",
       "      <td>25.846529</td>\n",
       "      <td>98.661693</td>\n",
       "    </tr>\n",
       "    <tr>\n",
       "      <th>2021-09-20</th>\n",
       "      <td>-9.726736</td>\n",
       "      <td>-77.196324</td>\n",
       "      <td>26.728254</td>\n",
       "      <td>98.235567</td>\n",
       "    </tr>\n",
       "    <tr>\n",
       "      <th>2021-09-21</th>\n",
       "      <td>-9.532037</td>\n",
       "      <td>-76.320006</td>\n",
       "      <td>26.476767</td>\n",
       "      <td>99.514603</td>\n",
       "    </tr>\n",
       "    <tr>\n",
       "      <th>2021-09-22</th>\n",
       "      <td>-9.300797</td>\n",
       "      <td>-74.121808</td>\n",
       "      <td>26.217773</td>\n",
       "      <td>98.907478</td>\n",
       "    </tr>\n",
       "    <tr>\n",
       "      <th>2021-09-23</th>\n",
       "      <td>-8.389929</td>\n",
       "      <td>-72.386892</td>\n",
       "      <td>26.653655</td>\n",
       "      <td>98.675540</td>\n",
       "    </tr>\n",
       "    <tr>\n",
       "      <th>2021-09-24</th>\n",
       "      <td>-8.550610</td>\n",
       "      <td>-71.377199</td>\n",
       "      <td>26.455046</td>\n",
       "      <td>98.667822</td>\n",
       "    </tr>\n",
       "    <tr>\n",
       "      <th>2021-09-25</th>\n",
       "      <td>-7.540250</td>\n",
       "      <td>-71.156035</td>\n",
       "      <td>27.387317</td>\n",
       "      <td>99.003893</td>\n",
       "    </tr>\n",
       "    <tr>\n",
       "      <th>2021-09-26</th>\n",
       "      <td>-7.301017</td>\n",
       "      <td>-71.738328</td>\n",
       "      <td>28.889200</td>\n",
       "      <td>100.598678</td>\n",
       "    </tr>\n",
       "  </tbody>\n",
       "</table>\n",
       "<p>1000 rows × 4 columns</p>\n",
       "</div>"
      ],
      "text/plain": [
       "                   A          B          C           D\n",
       "2019-01-01  0.523949   0.249881  -0.148649   -0.172596\n",
       "2019-01-02  1.487842   0.118660  -0.959740    0.957089\n",
       "2019-01-03  2.093416   1.880561  -1.931875    0.705018\n",
       "2019-01-04  2.220494   1.888636  -2.674804    0.370320\n",
       "2019-01-05  3.974064   0.612897  -2.434798    1.866102\n",
       "2019-01-06  5.726995  -0.194204  -1.660733    2.802785\n",
       "2019-01-07  5.031794  -0.866745  -1.390889    3.294852\n",
       "2019-01-08  3.380498  -0.109138  -1.401870    2.960603\n",
       "2019-01-09  1.996223   1.327485  -1.725889    3.653457\n",
       "2019-01-10  1.595477   0.718954  -1.203430    2.461033\n",
       "2019-01-11  2.247974   0.946614  -3.134828    2.924506\n",
       "2019-01-12  2.370672   1.905995  -1.613461    3.029584\n",
       "2019-01-13  0.291650   1.169024  -2.720008    2.429882\n",
       "2019-01-14 -0.664820   2.013511  -1.231987    2.621130\n",
       "2019-01-15  0.804693   2.122975  -2.304291    2.111855\n",
       "2019-01-16 -0.057998   3.989178  -2.477135    0.883367\n",
       "2019-01-17 -1.259748   4.504926  -3.614533    0.616278\n",
       "2019-01-18 -1.616151   4.788949  -4.577882    0.653749\n",
       "2019-01-19 -0.521504   4.436337  -5.028642   -1.304451\n",
       "2019-01-20 -1.274993   3.752037  -3.068566   -1.670279\n",
       "2019-01-21 -2.740939   4.814241  -3.402911   -4.018415\n",
       "2019-01-22 -1.727339   2.145627  -3.448974   -1.278673\n",
       "2019-01-23 -2.012779   2.829572  -1.752644   -2.951540\n",
       "2019-01-24 -1.082548   1.984750  -3.113302   -4.504289\n",
       "2019-01-25 -1.823544  -0.491144  -3.018099   -4.413291\n",
       "2019-01-26 -1.578670  -2.197954  -2.966474   -2.498654\n",
       "2019-01-27 -0.512901  -2.463362  -4.712950   -3.142409\n",
       "2019-01-28 -1.269385  -1.812662  -4.829758   -2.939966\n",
       "2019-01-29 -3.399977  -3.813499  -5.498323   -3.309271\n",
       "2019-01-30 -3.255281  -3.641789  -5.193738   -2.733400\n",
       "...              ...        ...        ...         ...\n",
       "2021-08-28 -3.592300 -72.943237  24.349401   95.774376\n",
       "2021-08-29 -2.356957 -74.651236  23.931126   95.199000\n",
       "2021-08-30 -3.349335 -74.617638  24.473695   96.386934\n",
       "2021-08-31 -4.926496 -74.693923  25.220873   95.048544\n",
       "2021-09-01 -5.487759 -74.263722  25.859443   95.057402\n",
       "2021-09-02 -5.843576 -75.712068  25.283210   94.213102\n",
       "2021-09-03 -5.616271 -77.389705  22.875529   93.747336\n",
       "2021-09-04 -4.163028 -78.750837  22.294216   92.313142\n",
       "2021-09-05 -4.288850 -80.030038  21.229888   91.836667\n",
       "2021-09-06 -4.910212 -78.566396  19.279254   90.288269\n",
       "2021-09-07 -5.723056 -77.969117  19.738935   91.201056\n",
       "2021-09-08 -6.301687 -79.118192  19.213850   93.806391\n",
       "2021-09-09 -7.804226 -79.063327  18.918889   93.726224\n",
       "2021-09-10 -9.428616 -80.206632  19.043045   95.443831\n",
       "2021-09-11 -9.572717 -79.861259  19.972179   95.598672\n",
       "2021-09-12 -9.304499 -80.354605  20.949590   95.343995\n",
       "2021-09-13 -8.797612 -81.830348  20.201244   95.066187\n",
       "2021-09-14 -7.365923 -81.619358  19.784697   98.114022\n",
       "2021-09-15 -6.809759 -80.476569  20.531040   97.860817\n",
       "2021-09-16 -6.916367 -80.905765  21.894923   97.770623\n",
       "2021-09-17 -8.001715 -80.390727  24.134379   98.705122\n",
       "2021-09-18 -9.154779 -79.746333  24.991255   99.249233\n",
       "2021-09-19 -9.924852 -78.172177  25.846529   98.661693\n",
       "2021-09-20 -9.726736 -77.196324  26.728254   98.235567\n",
       "2021-09-21 -9.532037 -76.320006  26.476767   99.514603\n",
       "2021-09-22 -9.300797 -74.121808  26.217773   98.907478\n",
       "2021-09-23 -8.389929 -72.386892  26.653655   98.675540\n",
       "2021-09-24 -8.550610 -71.377199  26.455046   98.667822\n",
       "2021-09-25 -7.540250 -71.156035  27.387317   99.003893\n",
       "2021-09-26 -7.301017 -71.738328  28.889200  100.598678\n",
       "\n",
       "[1000 rows x 4 columns]"
      ]
     },
     "execution_count": 167,
     "metadata": {},
     "output_type": "execute_result"
    }
   ],
   "source": [
    "pd.read_hdf('foo.h5','df')"
   ]
  },
  {
   "cell_type": "code",
   "execution_count": 169,
   "metadata": {},
   "outputs": [],
   "source": [
    "df.to_excel('foo.xlsx', sheet_name ='foo_sheet')"
   ]
  },
  {
   "cell_type": "code",
   "execution_count": 170,
   "metadata": {},
   "outputs": [
    {
     "data": {
      "text/html": [
       "<div>\n",
       "<style scoped>\n",
       "    .dataframe tbody tr th:only-of-type {\n",
       "        vertical-align: middle;\n",
       "    }\n",
       "\n",
       "    .dataframe tbody tr th {\n",
       "        vertical-align: top;\n",
       "    }\n",
       "\n",
       "    .dataframe thead th {\n",
       "        text-align: right;\n",
       "    }\n",
       "</style>\n",
       "<table border=\"1\" class=\"dataframe\">\n",
       "  <thead>\n",
       "    <tr style=\"text-align: right;\">\n",
       "      <th></th>\n",
       "      <th>A</th>\n",
       "      <th>B</th>\n",
       "      <th>C</th>\n",
       "      <th>D</th>\n",
       "    </tr>\n",
       "  </thead>\n",
       "  <tbody>\n",
       "    <tr>\n",
       "      <th>2019-01-01</th>\n",
       "      <td>0.523949</td>\n",
       "      <td>0.249881</td>\n",
       "      <td>-0.148649</td>\n",
       "      <td>-0.172596</td>\n",
       "    </tr>\n",
       "    <tr>\n",
       "      <th>2019-01-02</th>\n",
       "      <td>1.487842</td>\n",
       "      <td>0.118660</td>\n",
       "      <td>-0.959740</td>\n",
       "      <td>0.957089</td>\n",
       "    </tr>\n",
       "    <tr>\n",
       "      <th>2019-01-03</th>\n",
       "      <td>2.093416</td>\n",
       "      <td>1.880561</td>\n",
       "      <td>-1.931875</td>\n",
       "      <td>0.705018</td>\n",
       "    </tr>\n",
       "    <tr>\n",
       "      <th>2019-01-04</th>\n",
       "      <td>2.220494</td>\n",
       "      <td>1.888636</td>\n",
       "      <td>-2.674804</td>\n",
       "      <td>0.370320</td>\n",
       "    </tr>\n",
       "    <tr>\n",
       "      <th>2019-01-05</th>\n",
       "      <td>3.974064</td>\n",
       "      <td>0.612897</td>\n",
       "      <td>-2.434798</td>\n",
       "      <td>1.866102</td>\n",
       "    </tr>\n",
       "  </tbody>\n",
       "</table>\n",
       "</div>"
      ],
      "text/plain": [
       "                   A         B         C         D\n",
       "2019-01-01  0.523949  0.249881 -0.148649 -0.172596\n",
       "2019-01-02  1.487842  0.118660 -0.959740  0.957089\n",
       "2019-01-03  2.093416  1.880561 -1.931875  0.705018\n",
       "2019-01-04  2.220494  1.888636 -2.674804  0.370320\n",
       "2019-01-05  3.974064  0.612897 -2.434798  1.866102"
      ]
     },
     "execution_count": 170,
     "metadata": {},
     "output_type": "execute_result"
    }
   ],
   "source": [
    "df.head()"
   ]
  },
  {
   "cell_type": "code",
   "execution_count": null,
   "metadata": {},
   "outputs": [],
   "source": []
  }
 ],
 "metadata": {
  "kernelspec": {
   "display_name": "Python 3",
   "language": "python",
   "name": "python3"
  },
  "language_info": {
   "codemirror_mode": {
    "name": "ipython",
    "version": 3
   },
   "file_extension": ".py",
   "mimetype": "text/x-python",
   "name": "python",
   "nbconvert_exporter": "python",
   "pygments_lexer": "ipython3",
   "version": "3.7.3"
  }
 },
 "nbformat": 4,
 "nbformat_minor": 2
}
